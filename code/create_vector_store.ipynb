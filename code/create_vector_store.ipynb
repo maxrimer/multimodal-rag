{
 "cells": [
  {
   "cell_type": "markdown",
   "metadata": {},
   "source": [
    "### Imports"
   ]
  },
  {
   "cell_type": "code",
   "execution_count": 167,
   "metadata": {},
   "outputs": [],
   "source": [
    "from __future__ import annotations\n",
    "from pathlib import Path\n",
    "from typing import List, Dict, Any, Tuple, Literal\n",
    "from PIL import Image\n",
    "from collections import Counter, defaultdict\n",
    "import re, math, json\n",
    "import fitz           \n",
    "import pdfplumber\n",
    "from unstructured.partition.pdf import partition_pdf\n",
    "from dotenv import load_dotenv\n",
    "import anthropic\n",
    "import hashlib\n",
    "from elasticsearch import Elasticsearch\n",
    "from elasticsearch.helpers import bulk\n",
    "from operator import itemgetter\n",
    "import pandas as pd\n",
    "import cohere\n",
    "from copy import deepcopy\n",
    "\n",
    "import base64\n",
    "import io\n",
    "import os\n",
    "from io import BytesIO\n",
    "import tqdm\n",
    "\n",
    "from langchain_core.messages import HumanMessage\n",
    "from langchain_openai import ChatOpenAI\n",
    "\n",
    "from langchain.retrievers.multi_vector import MultiVectorRetriever\n",
    "from langchain.retrievers.multi_vector import SearchType\n",
    "from langchain.storage import InMemoryStore\n",
    "from langchain_core.documents import Document\n",
    "from langchain_chroma import Chroma\n",
    "from langchain_openai import OpenAIEmbeddings\n",
    "from langchain_core.runnables import RunnableLambda\n",
    "from langchain_core.runnables import RunnablePassthrough\n",
    "from langchain_core.output_parsers import StrOutputParser\n",
    "from uuid import uuid4\n",
    "import time\n",
    "import gzip, pickle"
   ]
  },
  {
   "cell_type": "code",
   "execution_count": 135,
   "metadata": {},
   "outputs": [
    {
     "data": {
      "text/plain": [
       "True"
      ]
     },
     "execution_count": 135,
     "metadata": {},
     "output_type": "execute_result"
    }
   ],
   "source": [
    "load_dotenv()"
   ]
  },
  {
   "cell_type": "code",
   "execution_count": 3,
   "metadata": {},
   "outputs": [],
   "source": [
    "client = anthropic.Anthropic()"
   ]
  },
  {
   "cell_type": "code",
   "execution_count": 4,
   "metadata": {},
   "outputs": [],
   "source": [
    "pdf_dir = '../instructions/Dataset/'\n",
    "image_output_path = '../generated_images/'"
   ]
  },
  {
   "cell_type": "markdown",
   "metadata": {},
   "source": [
    "### Разбиение на чанки"
   ]
  },
  {
   "cell_type": "code",
   "execution_count": 5,
   "metadata": {},
   "outputs": [],
   "source": [
    "\n",
    "NUM_RE = re.compile(r\"^[\\s\\-\\+\\(\\)]*[\\d]+([.,\\s]\\d+)*\\s*[%₸$€₽KZTUSD EURRUB]*$\", re.I)\n",
    "\n",
    "def is_numericish(s: str) -> bool:\n",
    "    s = (s or \"\").strip()\n",
    "    if not s: return False\n",
    "    if re.search(r\"\\d\", s) and len(s) <= 32:\n",
    "        return True if NUM_RE.search(s) else False\n",
    "    return False\n",
    "\n",
    "def frac_numeric_cells(table_rows: List[List[str]]) -> float:\n",
    "    cells = [c for row in table_rows for c in row]\n",
    "    if not cells: return 0.0\n",
    "    return sum(is_numericish(c) for c in cells) / len(cells)\n",
    "\n",
    "def frac_numeric_rows(table_rows: List[List[str]]) -> float:\n",
    "    if not table_rows: return 0.0\n",
    "    cnt = 0\n",
    "    for row in table_rows:\n",
    "        if not row: \n",
    "            continue\n",
    "        nonempty = [c for c in row if (c or \"\").strip()]\n",
    "        if not nonempty:\n",
    "            continue\n",
    "        if sum(is_numericish(c) for c in nonempty) / len(nonempty) >= 0.5:\n",
    "            cnt += 1\n",
    "    return cnt / max(1, len(table_rows))\n",
    "\n",
    "def table_quality_ok(rows: List[List[str]]) -> bool:\n",
    "    if not rows: return False\n",
    "    R = len(rows)\n",
    "    C = max((len(r) for r in rows), default=0)\n",
    "    if R < 2 or C < 2:\n",
    "        return False\n",
    "    cells = [c for r in rows for c in r]\n",
    "    nonempty_frac = sum(1 for c in cells if (c or \"\").strip()) / max(1, len(cells))\n",
    "    if nonempty_frac < 0.35:\n",
    "        return False\n",
    "    if frac_numeric_rows(rows) < 0.25:  \n",
    "        return False\n",
    "    mean_len = sum(len((c or \"\").strip()) for c in cells) / max(1, len(cells))\n",
    "    if mean_len > 120:\n",
    "        return False\n",
    "    return True\n",
    "\n",
    "def list_to_camelot_pages(pages_1based: List[int]) -> str:\n",
    "    if not pages_1based: return \"\"\n",
    "    pages = sorted(set(pages_1based))\n",
    "    rngs, s = [], pages[0]\n",
    "    for p in pages[1:]:\n",
    "        if p != pages[pages.index(p)-1] + 1:\n",
    "            rngs.append((s, pages[pages.index(p)-1]))\n",
    "            s = p\n",
    "    rngs.append((s, pages[-1]))\n",
    "    return \",\".join(f\"{a}-{b}\" if a != b else f\"{a}\" for a,b in rngs)\n",
    "\n",
    "# ===================== 1) скрининг страниц =====================\n",
    "\n",
    "def screen_pages(pdf_path: str, min_words: int = 10) -> Tuple[List[int], List[int]]:\n",
    "    text_pages, image_pages = [], []\n",
    "    doc = fitz.open(pdf_path)\n",
    "    try:\n",
    "        for i in range(len(doc)):\n",
    "            words = doc[i].get_text(\"words\")\n",
    "            (text_pages if len(words) >= min_words else image_pages).append(i+1)\n",
    "    finally:\n",
    "        doc.close()\n",
    "    return text_pages, image_pages\n",
    "\n",
    "# ===================== 2) оценка «табличности» страницы =====================\n",
    "\n",
    "def rulings_score(pdf_path: str, page_no: int, min_len: float = 60.0) -> float:\n",
    "    \"\"\"\n",
    "    Считает количество длинных горизонтальных/вертикальных линий на странице\n",
    "    по векторной графике (drawings). Возвращает скаляр 0..1.\n",
    "    Поддерживает tuple-формат items из get_drawings().\n",
    "    \"\"\"\n",
    "    def as_xy(pt):\n",
    "        # pt может быть fitz.Point или (x, y)\n",
    "        try:\n",
    "            return float(pt[0]), float(pt[1])\n",
    "        except Exception:\n",
    "            return float(pt.x), float(pt.y)\n",
    "\n",
    "    doc = fitz.open(pdf_path)\n",
    "    try:\n",
    "        page = doc[page_no - 1]\n",
    "        drawings = page.get_drawings()\n",
    "        H = V = 0\n",
    "\n",
    "        for d in drawings:\n",
    "            # d обычно dict с ключом \"items\"\n",
    "            items = d[\"items\"] if isinstance(d, dict) else getattr(d, \"items\", [])\n",
    "            for it in items:\n",
    "                # Современный формат — tuple-операторы: ('l', p0, p1), ('re', rect), ...\n",
    "                if isinstance(it, tuple):\n",
    "                    op = it[0]\n",
    "\n",
    "                    if op == \"l\" and len(it) >= 3:\n",
    "                        p0, p1 = it[1], it[2]\n",
    "                        x0, y0 = as_xy(p0)\n",
    "                        x1, y1 = as_xy(p1)\n",
    "                        dx, dy = abs(x1 - x0), abs(y1 - y0)\n",
    "                        length = math.hypot(dx, dy)\n",
    "                        if length >= min_len:\n",
    "                            if dy <= 1.0: H += 1\n",
    "                            if dx <= 1.0: V += 1\n",
    "\n",
    "                    elif op == \"re\" and len(it) >= 2:\n",
    "                        rect = it[1]\n",
    "                        try:\n",
    "                            x0, y0, x1, y1 = float(rect.x0), float(rect.y0), float(rect.x1), float(rect.y1)\n",
    "                        except Exception:\n",
    "                            x0, y0, x1, y1 = rect  # если это tuple\n",
    "                        edges = [\n",
    "                            (x0, y0, x1, y0), (x1, y0, x1, y1),\n",
    "                            (x1, y1, x0, y1), (x0, y1, x0, y0),\n",
    "                        ]\n",
    "                        for ex0, ey0, ex1, ey1 in edges:\n",
    "                            dx, dy = abs(ex1 - ex0), abs(ey1 - ey0)\n",
    "                            length = math.hypot(dx, dy)\n",
    "                            if length >= min_len:\n",
    "                                if dy <= 1.0: H += 1\n",
    "                                if dx <= 1.0: V += 1\n",
    "\n",
    "\n",
    "                elif isinstance(it, dict):\n",
    "                    pts = it.get(\"points\")\n",
    "                    if pts and len(pts) >= 2:\n",
    "                        p0, p1 = pts[0], pts[-1]\n",
    "                        x0, y0 = as_xy(p0)\n",
    "                        x1, y1 = as_xy(p1)\n",
    "                        dx, dy = abs(x1 - x0), abs(y1 - y0)\n",
    "                        length = math.hypot(dx, dy)\n",
    "                        if length >= min_len:\n",
    "                            if dy <= 1.0: H += 1\n",
    "                            if dx <= 1.0: V += 1\n",
    "\n",
    "        return min(1.0, (H / 6.0 + V / 4.0))\n",
    "    finally:\n",
    "        doc.close()\n",
    "\n",
    "def column_grid_score(pdf_path: str, page_no: int, x_tol: int = 6) -> float:\n",
    "    \"\"\"\n",
    "    На основе слов: считаем повторяющиеся x-координаты начала слов (кластеры колонок).\n",
    "    Чем больше устойчивых вертикалей и строк, тем «табличнее».\n",
    "    \"\"\"\n",
    "    doc = fitz.open(pdf_path)\n",
    "    try:\n",
    "        page = doc[page_no-1]\n",
    "        words = page.get_text(\"words\") \n",
    "        if not words:\n",
    "            return 0.0\n",
    "        rows = {}\n",
    "        for x0,y0,x1,y1,txt, *_ in words:\n",
    "            key = round(y0/5)*5\n",
    "            rows.setdefault(key, []).append((x0, txt))\n",
    "        xbins = Counter()\n",
    "        row_cnt = 0\n",
    "        for _, items in rows.items():\n",
    "            if len(items) < 3:\n",
    "                continue\n",
    "            row_cnt += 1\n",
    "            xs = [round(x/x_tol)*x_tol for x,_ in items]\n",
    "            for x in set(xs):\n",
    "                xbins[x] += 1\n",
    "        if row_cnt == 0:\n",
    "            return 0.0\n",
    "        stable_cols = sum(1 for _,c in xbins.items() if c >= max(2, int(0.3*row_cnt)))\n",
    "        # нормировка: 0..1\n",
    "        return min(1.0, stable_cols / 6.0)\n",
    "    finally:\n",
    "        doc.close()\n",
    "\n",
    "def pick_table_pages(pdf_path: str, text_pages: List[int],\n",
    "                     thr_rulings: float = 0.25, thr_cols: float = 0.35) -> List[int]:\n",
    "    candidates = []\n",
    "    for p in text_pages:\n",
    "        rs = rulings_score(pdf_path, p)\n",
    "        cs = column_grid_score(pdf_path, p)\n",
    "        if (rs >= thr_rulings and cs >= thr_cols) or (rs >= thr_rulings*2) or (cs >= thr_cols*1.5):\n",
    "            candidates.append(p)\n",
    "    return candidates\n",
    "\n",
    "# ===================== 3) извлечение таблиц только на кандидатов =====================\n",
    "\n",
    "def extract_tables_on_candidates(pdf_path: str, candidate_pages: List[int]) -> List[Dict[str, Any]]:\n",
    "    tables: List[Dict[str, Any]] = []\n",
    "    if not candidate_pages:\n",
    "        return tables\n",
    "\n",
    "    pages_str = list_to_camelot_pages(candidate_pages)\n",
    "\n",
    "    def _add_rows(rows: List[List[str]], page: int, parser: str):\n",
    "        if not table_quality_ok(rows):\n",
    "            return\n",
    "        csv = \"\\n\".join([\",\".join([(c or \"\").replace(\",\", \" \") for c in r]) for r in rows])\n",
    "        flat = \"\\n\".join([\",\".join([(c or \"\") for c in r]) for r in rows])\n",
    "        tables.append({\n",
    "            \"type\": \"table\",\n",
    "            \"parser\": parser,\n",
    "            \"page\": page,\n",
    "            \"text\": flat,\n",
    "            \"table_csv\": csv,\n",
    "            \"source_pdf\": pdf_path,\n",
    "        })\n",
    "\n",
    "    tried_camelot = False\n",
    "    try:\n",
    "        import camelot\n",
    "        tried_camelot = True\n",
    "        try:\n",
    "            tabs = camelot.read_pdf(pdf_path, pages=pages_str, flavor=\"lattice\",\n",
    "                                    line_scale=40, process_background=True, strip_text=\"\\n\")\n",
    "            for t in tabs:\n",
    "                page = t.parsing_report.get(\"page\")\n",
    "                rows = t.df.values.tolist()\n",
    "                _add_rows(rows, page, \"camelot-lattice\")\n",
    "        except Exception:\n",
    "            pass\n",
    "        try:\n",
    "            tabs = camelot.read_pdf(pdf_path, pages=pages_str, flavor=\"stream\",\n",
    "                                    edge_tol=150, row_tol=10, column_tol=20, strip_text=\"\\n\")\n",
    "            for t in tabs:\n",
    "                page = t.parsing_report.get(\"page\")\n",
    "                rows = t.df.values.tolist()\n",
    "                _add_rows(rows, page, \"camelot-stream\")\n",
    "        except Exception:\n",
    "            pass\n",
    "    except Exception:\n",
    "        pass\n",
    "\n",
    "    with pdfplumber.open(pdf_path) as pdf:\n",
    "        for p in candidate_pages:\n",
    "            page = pdf.pages[p-1]\n",
    "            settings = dict(\n",
    "                vertical_strategy=\"lines\",\n",
    "                horizontal_strategy=\"lines\",\n",
    "                snap_tolerance=3,\n",
    "                join_tolerance=3,\n",
    "                edge_min_length=20,\n",
    "                intersection_x_tolerance=5,\n",
    "                intersection_y_tolerance=5,\n",
    "            )\n",
    "            found = page.extract_tables(settings) or []\n",
    "            if not found:\n",
    "                found = page.extract_tables() or []\n",
    "            for tbl in found:\n",
    "                rows = [[(c or \"\").strip() for c in row] for row in tbl]\n",
    "                _add_rows(rows, p, \"pdfplumber\")\n",
    "    return dedup_tables(tables)\n",
    "\n",
    "def dedup_tables(tables: List[Dict[str, Any]]) -> List[Dict[str, Any]]:\n",
    "    seen = set()\n",
    "    out = []\n",
    "    for t in tables:\n",
    "        sig = (t[\"page\"], \"\\n\".join(t[\"text\"].split(\"\\n\")[:2]))\n",
    "        if sig in seen:\n",
    "            continue\n",
    "        seen.add(sig)\n",
    "        out.append(t)\n",
    "    return out\n",
    "\n",
    "# ===================== 4) текст и картинки =====================\n",
    "\n",
    "def extract_text_chunks(pdf_path: str) -> List[Dict[str, Any]]:\n",
    "    els = partition_pdf(\n",
    "        filename=pdf_path,\n",
    "        strategy=\"fast\",\n",
    "        chunking_strategy=\"by_title\",\n",
    "        languages=[\"ru\",\"en\"],\n",
    "        max_characters=3000,\n",
    "        new_after_n_chars=2200,\n",
    "        combine_under_n_chars=900,\n",
    "        overlap=200,\n",
    "        infer_table_structure=False,\n",
    "        extract_images_in_pdf=False,\n",
    "        include_page_breaks=False,\n",
    "    )\n",
    "    chunks = []\n",
    "    for e in els:\n",
    "        txt = (e.text or \"\").strip()\n",
    "        if not txt: \n",
    "            continue\n",
    "        chunks.append({\n",
    "            \"type\": \"text\",\n",
    "            \"subtype\": e.category,\n",
    "            \"text\": txt,\n",
    "            \"page\": getattr(e.metadata, \"page_number\", None),\n",
    "            \"source_pdf\": pdf_path,\n",
    "        })\n",
    "    return chunks\n",
    "\n",
    "def extract_figures(pdf_path: str) -> List[Dict[str, Any]]:\n",
    "    figs = []\n",
    "    doc = fitz.open(pdf_path)\n",
    "    try:\n",
    "        for i in range(len(doc)):\n",
    "            imgs = doc[i].get_images(full=True)\n",
    "            for xref, *_ in imgs:\n",
    "                figs.append({\"type\":\"figure\",\"page\":i+1,\n",
    "                             \"image_xref\":xref,\"text\":\"\",\n",
    "                             \"source_pdf\":pdf_path,\n",
    "                             \"image_b_64\": \"\"})\n",
    "    finally:\n",
    "        doc.close()\n",
    "    return figs\n",
    "\n",
    "# ===================== 5) пайплайн ============================================\n",
    "\n",
    "def parse_pdf_fast_strict_tables(pdf_path: str) -> List[Dict[str, Any]]:\n",
    "    text_pages, image_pages = screen_pages(pdf_path, min_words=10)\n",
    "    text_chunks = extract_text_chunks(pdf_path)\n",
    "    candidate_pages = pick_table_pages(pdf_path, text_pages, thr_rulings=0.3, thr_cols=0.4)\n",
    "    tables = extract_tables_on_candidates(pdf_path, candidate_pages)\n",
    "    figures = extract_figures(pdf_path)\n",
    "    prio = {\"text\":1,\"table\":2,\"figure\":3}\n",
    "    items = text_chunks + tables + figures\n",
    "    items.sort(key=lambda x: ((x.get(\"page\") or 10**9), prio.get(x[\"type\"],9)))\n",
    "    return items"
   ]
  },
  {
   "cell_type": "markdown",
   "metadata": {},
   "source": [
    "### Добавление ID"
   ]
  },
  {
   "cell_type": "code",
   "execution_count": 6,
   "metadata": {},
   "outputs": [],
   "source": [
    "def _sha1_file(path: str, chunk_size: int = 1024 * 1024) -> str:\n",
    "    h = hashlib.sha1()\n",
    "    p = Path(path)\n",
    "    try:\n",
    "        with p.open(\"rb\") as f:\n",
    "            while True:\n",
    "                b = f.read(chunk_size)\n",
    "                if not b:\n",
    "                    break\n",
    "                h.update(b)\n",
    "        return h.hexdigest()\n",
    "    except Exception:\n",
    "        return hashlib.sha1(str(p).encode(\"utf-8\")).hexdigest()\n",
    "\n",
    "def _sha1_text(s: str) -> str:\n",
    "    return hashlib.sha1((s or \"\").encode(\"utf-8\")).hexdigest()\n",
    "\n",
    "def attach_ids(\n",
    "    items: List[Dict[str, Any]],\n",
    "    doc_id_mode: Literal[\"file_hash\", \"path_hash\"] = \"file_hash\",\n",
    "    chunk_id_mode: Literal[\"page_local\", \"sequential\", \"content_hash\"] = \"page_local\",\n",
    ") -> List[Dict[str, Any]]:\n",
    "    \"\"\"\n",
    "    Добавляет doc_id, chunk_id, original_index в каждый словарь чанка.\n",
    "    Ожидается, что у чанка уже есть поля: type, subtype, text, page, source_pdf.\n",
    "    \"\"\"\n",
    "    doc_ids = {}\n",
    "    for it in items:\n",
    "        src = it.get(\"source_pdf\") or \"unknown\"\n",
    "        if src not in doc_ids:\n",
    "            if doc_id_mode == \"file_hash\":\n",
    "                doc_ids[src] = _sha1_file(src)\n",
    "            else:\n",
    "                doc_ids[src] = hashlib.sha1(str(src).encode(\"utf-8\")).hexdigest()\n",
    "\n",
    "    per_page_counters = defaultdict(lambda: defaultdict(int))  \n",
    "    per_doc_counter = defaultdict(int)                         \n",
    "    seen_chunk_ids = set()\n",
    "\n",
    "    out = []\n",
    "    for idx, ch in enumerate(items):\n",
    "        src = ch.get(\"source_pdf\") or \"unknown\"\n",
    "        page = ch.get(\"page\") if ch.get(\"page\") is not None else 0\n",
    "        doc_id = doc_ids[src]\n",
    "\n",
    "        if chunk_id_mode == \"page_local\":\n",
    "            per_page_counters[doc_id][page] += 1\n",
    "            local = per_page_counters[doc_id][page]\n",
    "            chunk_id = f\"{doc_id}:p{page}:{local}\"\n",
    "        elif chunk_id_mode == \"sequential\":\n",
    "            per_doc_counter[doc_id] += 1\n",
    "            chunk_id = f\"{doc_id}:{per_doc_counter[doc_id]}\"\n",
    "        else:  \n",
    "            text = (ch.get(\"text\") or ch.get(\"content\") or \"\")\n",
    "            text = text[:1024].replace(\"\\n\", \" \").strip()\n",
    "            page = ch.get(\"page\") if ch.get(\"page\") is not None else 0\n",
    "            chunk_key = f\"{page}|{ch.get('type')}|{text}\"\n",
    "            chunk_id  = f\"{doc_id}:{_sha1_text(chunk_key)}\"\n",
    "\n",
    "        if chunk_id in seen_chunk_ids:\n",
    "            suffix = _sha1_text(f\"{chunk_id}|{idx}\")[:6]\n",
    "            chunk_id = f\"{chunk_id}:{suffix}\"\n",
    "        seen_chunk_ids.add(chunk_id)\n",
    "\n",
    "        ch2 = dict(ch)\n",
    "        ch2[\"doc_id\"] = doc_id\n",
    "        ch2[\"chunk_id\"] = chunk_id\n",
    "        ch2[\"original_index\"] = idx\n",
    "        out.append(ch2)\n",
    "\n",
    "    return out"
   ]
  },
  {
   "cell_type": "markdown",
   "metadata": {},
   "source": [
    "### Собираем все метаданные"
   ]
  },
  {
   "cell_type": "code",
   "execution_count": 7,
   "metadata": {},
   "outputs": [],
   "source": [
    "def create_all_metadata(pdf_folder: str):\n",
    "    all_items = []\n",
    "    pdf_paths = sorted([str(p) for p in Path(pdf_folder).rglob(\"*.pdf\")])\n",
    "\n",
    "    for pdf_path in pdf_paths:\n",
    "        items = parse_pdf_fast_strict_tables(pdf_path)\n",
    "        used_pages = []\n",
    "\n",
    "        for id, item in enumerate(items):\n",
    "            if item['type'] == 'figure':\n",
    "                if item['page'] in used_pages:\n",
    "                    items.pop(id)\n",
    "                else:\n",
    "                    used_pages.append(item['page'])\n",
    "            else:\n",
    "                continue\n",
    "        \n",
    "        items_w_ids = attach_ids(items, doc_id_mode=\"file_hash\", chunk_id_mode=\"page_local\")\n",
    "        all_items.extend(items_w_ids)\n",
    "\n",
    "    return all_items"
   ]
  },
  {
   "cell_type": "code",
   "execution_count": 8,
   "metadata": {},
   "outputs": [
    {
     "name": "stderr",
     "output_type": "stream",
     "text": [
      "/Users/maximrimer/PycharmProjects/halyk_rag/ragenv/lib/python3.10/site-packages/camelot/parsers/base.py:238: UserWarning: No tables found in table area (666.0913, 193.94279999999972, 1086.4479000000001, 808.1699)\n",
      "  cols, rows, v_s, h_s = self._generate_columns_and_rows(bbox, user_cols)\n",
      "/Users/maximrimer/PycharmProjects/halyk_rag/ragenv/lib/python3.10/site-packages/camelot/parsers/base.py:238: UserWarning: No tables found in table area (776.233, 384.2977, 1145.47, 685.3752142857144)\n",
      "  cols, rows, v_s, h_s = self._generate_columns_and_rows(bbox, user_cols)\n",
      "/Users/maximrimer/PycharmProjects/halyk_rag/ragenv/lib/python3.10/site-packages/camelot/parsers/base.py:238: UserWarning: No tables found in table area (28.148499999999984, 620.0214, 380.35700000000037, 763.0891603174603)\n",
      "  cols, rows, v_s, h_s = self._generate_columns_and_rows(bbox, user_cols)\n",
      "/Users/maximrimer/PycharmProjects/halyk_rag/ragenv/lib/python3.10/site-packages/camelot/parsers/base.py:238: UserWarning: No tables found in table area (60.92, 113.40800000000002, 565.6120000000005, 800.696170212766)\n",
      "  cols, rows, v_s, h_s = self._generate_columns_and_rows(bbox, user_cols)\n",
      "/Users/maximrimer/PycharmProjects/halyk_rag/ragenv/lib/python3.10/site-packages/camelot/parsers/base.py:238: UserWarning: No tables found in table area (93.08, 229.64000000000001, 566.068, 430.85020408163257)\n",
      "  cols, rows, v_s, h_s = self._generate_columns_and_rows(bbox, user_cols)\n",
      "/Users/maximrimer/PycharmProjects/halyk_rag/ragenv/lib/python3.10/site-packages/camelot/parsers/base.py:238: UserWarning: No tables found in table area (75.07999999999993, 592.6400000000002, 566.0668000000004, 817.7907692307692)\n",
      "  cols, rows, v_s, h_s = self._generate_columns_and_rows(bbox, user_cols)\n",
      "/Users/maximrimer/PycharmProjects/halyk_rag/ragenv/lib/python3.10/site-packages/camelot/parsers/base.py:238: UserWarning: No tables found in table area (48.07999999999986, 456.80000000000035, 571.7296, 804.4457142857143)\n",
      "  cols, rows, v_s, h_s = self._generate_columns_and_rows(bbox, user_cols)\n",
      "Cannot set gray non-stroke color because /'R167' is an invalid float value\n",
      "Cannot set gray non-stroke color because /'R174' is an invalid float value\n",
      "Cannot set gray non-stroke color because /'R180' is an invalid float value\n",
      "Cannot set gray non-stroke color because /'R186' is an invalid float value\n",
      "Cannot set gray non-stroke color because /'R192' is an invalid float value\n",
      "Cannot set gray non-stroke color because /'R210' is an invalid float value\n",
      "Cannot set gray non-stroke color because /'R216' is an invalid float value\n",
      "Cannot set gray non-stroke color because /'R222' is an invalid float value\n",
      "Cannot set gray non-stroke color because /'R228' is an invalid float value\n",
      "Cannot set gray non-stroke color because /'R167' is an invalid float value\n",
      "Cannot set gray non-stroke color because /'R174' is an invalid float value\n",
      "Cannot set gray non-stroke color because /'R180' is an invalid float value\n",
      "Cannot set gray non-stroke color because /'R186' is an invalid float value\n",
      "Cannot set gray non-stroke color because /'R192' is an invalid float value\n",
      "Cannot set gray non-stroke color because /'R210' is an invalid float value\n",
      "Cannot set gray non-stroke color because /'R216' is an invalid float value\n",
      "Cannot set gray non-stroke color because /'R222' is an invalid float value\n",
      "Cannot set gray non-stroke color because /'R228' is an invalid float value\n",
      "/Users/maximrimer/PycharmProjects/halyk_rag/ragenv/lib/python3.10/site-packages/camelot/parsers/base.py:238: UserWarning: No tables found in table area (80.293, 496.0105999999999, 544.1843957711999, 639.5453875968992)\n",
      "  cols, rows, v_s, h_s = self._generate_columns_and_rows(bbox, user_cols)\n",
      "/Users/maximrimer/PycharmProjects/halyk_rag/ragenv/lib/python3.10/site-packages/camelot/parsers/base.py:238: UserWarning: No tables found in table area (76.85499999999999, 611.3910999999999, 491.22299999999996, 759.3755)\n",
      "  cols, rows, v_s, h_s = self._generate_columns_and_rows(bbox, user_cols)\n",
      "/Users/maximrimer/PycharmProjects/halyk_rag/ragenv/lib/python3.10/site-packages/camelot/parsers/base.py:238: UserWarning: No tables found in table area (311.891, 572.469, 526.9074250492, 709.3023333333334)\n",
      "  cols, rows, v_s, h_s = self._generate_columns_and_rows(bbox, user_cols)\n",
      "Cannot set gray non-stroke color because /'R167' is an invalid float value\n",
      "Cannot set gray non-stroke color because /'R174' is an invalid float value\n",
      "Cannot set gray non-stroke color because /'R180' is an invalid float value\n",
      "Cannot set gray non-stroke color because /'R186' is an invalid float value\n",
      "Cannot set gray non-stroke color because /'R192' is an invalid float value\n",
      "Cannot set gray non-stroke color because /'R210' is an invalid float value\n",
      "Cannot set gray non-stroke color because /'R216' is an invalid float value\n",
      "Cannot set gray non-stroke color because /'R222' is an invalid float value\n",
      "Cannot set gray non-stroke color because /'R228' is an invalid float value\n",
      "Cannot set gray non-stroke color because /'R167' is an invalid float value\n",
      "Cannot set gray non-stroke color because /'R174' is an invalid float value\n",
      "Cannot set gray non-stroke color because /'R180' is an invalid float value\n",
      "Cannot set gray non-stroke color because /'R186' is an invalid float value\n",
      "Cannot set gray non-stroke color because /'R192' is an invalid float value\n",
      "Cannot set gray non-stroke color because /'R210' is an invalid float value\n",
      "Cannot set gray non-stroke color because /'R216' is an invalid float value\n",
      "Cannot set gray non-stroke color because /'R222' is an invalid float value\n",
      "Cannot set gray non-stroke color because /'R228' is an invalid float value\n",
      "/Users/maximrimer/PycharmProjects/halyk_rag/ragenv/lib/python3.10/site-packages/camelot/parsers/base.py:238: UserWarning: No tables found in table area (0, 0, 720.0, 540.0)\n",
      "  cols, rows, v_s, h_s = self._generate_columns_and_rows(bbox, user_cols)\n",
      "/Users/maximrimer/PycharmProjects/halyk_rag/ragenv/lib/python3.10/site-packages/camelot/parsers/base.py:238: UserWarning: No tables found in table area (36.68, 63.54056, 683.34224, 497.9149333333333)\n",
      "  cols, rows, v_s, h_s = self._generate_columns_and_rows(bbox, user_cols)\n",
      "/Users/maximrimer/PycharmProjects/halyk_rag/ragenv/lib/python3.10/site-packages/camelot/parsers/base.py:238: UserWarning: No tables found in table area (-2.8, 99.5216, 687.65828, 481.2124)\n",
      "  cols, rows, v_s, h_s = self._generate_columns_and_rows(bbox, user_cols)\n",
      "/Users/maximrimer/PycharmProjects/halyk_rag/ragenv/lib/python3.10/site-packages/camelot/parsers/base.py:238: UserWarning: No tables found in table area (45.199999999999996, 315.3384, 707.5755519999999, 502.9784000000001)\n",
      "  cols, rows, v_s, h_s = self._generate_columns_and_rows(bbox, user_cols)\n",
      "/Users/maximrimer/PycharmProjects/halyk_rag/ragenv/lib/python3.10/site-packages/camelot/parsers/base.py:238: UserWarning: No tables found in table area (26.216, 304.6584, 704.39888, 475.90840000000003)\n",
      "  cols, rows, v_s, h_s = self._generate_columns_and_rows(bbox, user_cols)\n",
      "/Users/maximrimer/PycharmProjects/halyk_rag/ragenv/lib/python3.10/site-packages/camelot/parsers/base.py:238: UserWarning: No tables found in table area (33.2, 371.93828, 689.924992, 494.8073119999999)\n",
      "  cols, rows, v_s, h_s = self._generate_columns_and_rows(bbox, user_cols)\n",
      "/Users/maximrimer/PycharmProjects/halyk_rag/ragenv/lib/python3.10/site-packages/camelot/parsers/base.py:238: UserWarning: No tables found in table area (153.33999999999997, 265.7784, 494.58668, 451.6786000000001)\n",
      "  cols, rows, v_s, h_s = self._generate_columns_and_rows(bbox, user_cols)\n",
      "/Users/maximrimer/PycharmProjects/halyk_rag/ragenv/lib/python3.10/site-packages/camelot/parsers/base.py:238: UserWarning: No tables found in table area (25.759999999999998, 117.04839999999999, 518.84008, 494.4736631578948)\n",
      "  cols, rows, v_s, h_s = self._generate_columns_and_rows(bbox, user_cols)\n",
      "Cannot set gray non-stroke color because /'R454' is an invalid float value\n",
      "Cannot set gray non-stroke color because /'R593' is an invalid float value\n",
      "Cannot set gray non-stroke color because /'R595' is an invalid float value\n",
      "Cannot set gray non-stroke color because /'R597' is an invalid float value\n",
      "Cannot set gray non-stroke color because /'R599' is an invalid float value\n",
      "Cannot set gray non-stroke color because /'R601' is an invalid float value\n",
      "Cannot set gray non-stroke color because /'R603' is an invalid float value\n",
      "Cannot set gray non-stroke color because /'R605' is an invalid float value\n",
      "Cannot set gray non-stroke color because /'R868' is an invalid float value\n",
      "Cannot set gray non-stroke color because /'R871' is an invalid float value\n",
      "Cannot set gray non-stroke color because /'R873' is an invalid float value\n",
      "Cannot set gray non-stroke color because /'R875' is an invalid float value\n",
      "Cannot set gray non-stroke color because /'R879' is an invalid float value\n",
      "Cannot set gray non-stroke color because /'R890' is an invalid float value\n",
      "Cannot set gray non-stroke color because /'R892' is an invalid float value\n",
      "Cannot set gray non-stroke color because /'R895' is an invalid float value\n",
      "Cannot set gray non-stroke color because /'R897' is an invalid float value\n",
      "Cannot set gray non-stroke color because /'R901' is an invalid float value\n",
      "Cannot set gray non-stroke color because /'R913' is an invalid float value\n",
      "Cannot set gray non-stroke color because /'R915' is an invalid float value\n",
      "Cannot set gray non-stroke color because /'R917' is an invalid float value\n",
      "Cannot set gray non-stroke color because /'R919' is an invalid float value\n",
      "Cannot set gray non-stroke color because /'R923' is an invalid float value\n",
      "Cannot set gray non-stroke color because /'R1296' is an invalid float value\n",
      "Cannot set gray non-stroke color because /'R1301' is an invalid float value\n",
      "Cannot set gray non-stroke color because /'R454' is an invalid float value\n",
      "Cannot set gray non-stroke color because /'R593' is an invalid float value\n",
      "Cannot set gray non-stroke color because /'R595' is an invalid float value\n",
      "Cannot set gray non-stroke color because /'R597' is an invalid float value\n",
      "Cannot set gray non-stroke color because /'R599' is an invalid float value\n",
      "Cannot set gray non-stroke color because /'R601' is an invalid float value\n",
      "Cannot set gray non-stroke color because /'R603' is an invalid float value\n",
      "Cannot set gray non-stroke color because /'R605' is an invalid float value\n",
      "Cannot set gray non-stroke color because /'R868' is an invalid float value\n",
      "Cannot set gray non-stroke color because /'R871' is an invalid float value\n",
      "Cannot set gray non-stroke color because /'R873' is an invalid float value\n",
      "Cannot set gray non-stroke color because /'R875' is an invalid float value\n",
      "Cannot set gray non-stroke color because /'R879' is an invalid float value\n",
      "Cannot set gray non-stroke color because /'R890' is an invalid float value\n",
      "Cannot set gray non-stroke color because /'R892' is an invalid float value\n",
      "Cannot set gray non-stroke color because /'R895' is an invalid float value\n",
      "Cannot set gray non-stroke color because /'R897' is an invalid float value\n",
      "Cannot set gray non-stroke color because /'R901' is an invalid float value\n",
      "Cannot set gray non-stroke color because /'R913' is an invalid float value\n",
      "Cannot set gray non-stroke color because /'R915' is an invalid float value\n",
      "Cannot set gray non-stroke color because /'R917' is an invalid float value\n",
      "Cannot set gray non-stroke color because /'R919' is an invalid float value\n",
      "Cannot set gray non-stroke color because /'R923' is an invalid float value\n",
      "Cannot set gray non-stroke color because /'R1296' is an invalid float value\n",
      "Cannot set gray non-stroke color because /'R1301' is an invalid float value\n",
      "Cannot set gray non-stroke color because /'R454' is an invalid float value\n",
      "/Users/maximrimer/PycharmProjects/halyk_rag/ragenv/lib/python3.10/site-packages/camelot/parsers/base.py:238: UserWarning: No tables found in table area (75.1035, 398.75226, 565.4210302624, 803.2798454545454)\n",
      "  cols, rows, v_s, h_s = self._generate_columns_and_rows(bbox, user_cols)\n",
      "Cannot set gray non-stroke color because /'R593' is an invalid float value\n",
      "Cannot set gray non-stroke color because /'R595' is an invalid float value\n",
      "Cannot set gray non-stroke color because /'R597' is an invalid float value\n",
      "Cannot set gray non-stroke color because /'R599' is an invalid float value\n",
      "Cannot set gray non-stroke color because /'R601' is an invalid float value\n",
      "Cannot set gray non-stroke color because /'R603' is an invalid float value\n",
      "Cannot set gray non-stroke color because /'R605' is an invalid float value\n",
      "/Users/maximrimer/PycharmProjects/halyk_rag/ragenv/lib/python3.10/site-packages/camelot/parsers/base.py:238: UserWarning: No tables found in table area (0, 0, 595.32, 841.92)\n",
      "  cols, rows, v_s, h_s = self._generate_columns_and_rows(bbox, user_cols)\n",
      "/Users/maximrimer/PycharmProjects/halyk_rag/ragenv/lib/python3.10/site-packages/camelot/parsers/base.py:238: UserWarning: No tables found in table area (75.10334, 661.77652, 490.91454, 807.4691913043478)\n",
      "  cols, rows, v_s, h_s = self._generate_columns_and_rows(bbox, user_cols)\n",
      "Cannot set gray non-stroke color because /'R868' is an invalid float value\n",
      "Cannot set gray non-stroke color because /'R871' is an invalid float value\n",
      "Cannot set gray non-stroke color because /'R873' is an invalid float value\n",
      "Cannot set gray non-stroke color because /'R875' is an invalid float value\n",
      "Cannot set gray non-stroke color because /'R879' is an invalid float value\n",
      "Cannot set gray non-stroke color because /'R890' is an invalid float value\n",
      "Cannot set gray non-stroke color because /'R892' is an invalid float value\n",
      "Cannot set gray non-stroke color because /'R895' is an invalid float value\n",
      "Cannot set gray non-stroke color because /'R897' is an invalid float value\n",
      "Cannot set gray non-stroke color because /'R901' is an invalid float value\n",
      "Cannot set gray non-stroke color because /'R913' is an invalid float value\n",
      "Cannot set gray non-stroke color because /'R915' is an invalid float value\n",
      "Cannot set gray non-stroke color because /'R917' is an invalid float value\n",
      "Cannot set gray non-stroke color because /'R919' is an invalid float value\n",
      "Cannot set gray non-stroke color because /'R923' is an invalid float value\n",
      "/Users/maximrimer/PycharmProjects/halyk_rag/ragenv/lib/python3.10/site-packages/camelot/parsers/base.py:238: UserWarning: No tables found in table area (75.1035, 448.86652, 565.2431211568002, 770.2654057142857)\n",
      "  cols, rows, v_s, h_s = self._generate_columns_and_rows(bbox, user_cols)\n",
      "Cannot set gray non-stroke color because /'R1296' is an invalid float value\n",
      "Cannot set gray non-stroke color because /'R1301' is an invalid float value\n",
      "Cannot set gray non-stroke color because /'R454' is an invalid float value\n",
      "Cannot set gray non-stroke color because /'R593' is an invalid float value\n",
      "Cannot set gray non-stroke color because /'R595' is an invalid float value\n",
      "Cannot set gray non-stroke color because /'R597' is an invalid float value\n",
      "Cannot set gray non-stroke color because /'R599' is an invalid float value\n",
      "Cannot set gray non-stroke color because /'R601' is an invalid float value\n",
      "Cannot set gray non-stroke color because /'R603' is an invalid float value\n",
      "Cannot set gray non-stroke color because /'R605' is an invalid float value\n",
      "Cannot set gray non-stroke color because /'R868' is an invalid float value\n",
      "Cannot set gray non-stroke color because /'R871' is an invalid float value\n",
      "Cannot set gray non-stroke color because /'R873' is an invalid float value\n",
      "Cannot set gray non-stroke color because /'R875' is an invalid float value\n",
      "Cannot set gray non-stroke color because /'R879' is an invalid float value\n",
      "Cannot set gray non-stroke color because /'R890' is an invalid float value\n",
      "Cannot set gray non-stroke color because /'R892' is an invalid float value\n",
      "Cannot set gray non-stroke color because /'R895' is an invalid float value\n",
      "Cannot set gray non-stroke color because /'R897' is an invalid float value\n",
      "Cannot set gray non-stroke color because /'R901' is an invalid float value\n",
      "Cannot set gray non-stroke color because /'R913' is an invalid float value\n",
      "Cannot set gray non-stroke color because /'R915' is an invalid float value\n",
      "Cannot set gray non-stroke color because /'R917' is an invalid float value\n",
      "Cannot set gray non-stroke color because /'R919' is an invalid float value\n",
      "Cannot set gray non-stroke color because /'R923' is an invalid float value\n",
      "Cannot set gray non-stroke color because /'R1296' is an invalid float value\n",
      "Cannot set gray non-stroke color because /'R1301' is an invalid float value\n",
      "/Users/maximrimer/PycharmProjects/halyk_rag/ragenv/lib/python3.10/site-packages/camelot/parsers/base.py:238: UserWarning: No tables found in table area (60.775107289999994, 552.6002571099999, 565.07208097, 669.7172680590909)\n",
      "  cols, rows, v_s, h_s = self._generate_columns_and_rows(bbox, user_cols)\n",
      "Cannot set gray stroke color because /'P0' is an invalid float value\n",
      "Cannot set gray stroke color because /'P0' is an invalid float value\n",
      "Cannot set gray stroke color because /'P0' is an invalid float value\n",
      "Cannot set gray stroke color because /'P0' is an invalid float value\n",
      "Cannot set gray stroke color because /'P0' is an invalid float value\n",
      "Cannot set gray stroke color because /'P0' is an invalid float value\n",
      "Cannot set gray stroke color because /'P0' is an invalid float value\n",
      "Cannot set gray stroke color because /'P0' is an invalid float value\n",
      "Cannot set gray stroke color because /'P0' is an invalid float value\n",
      "Cannot set gray stroke color because /'P0' is an invalid float value\n",
      "Cannot set gray stroke color because /'P0' is an invalid float value\n",
      "Cannot set gray stroke color because /'P0' is an invalid float value\n",
      "Cannot set gray stroke color because /'P0' is an invalid float value\n",
      "Cannot set gray stroke color because /'P0' is an invalid float value\n",
      "Cannot set gray stroke color because /'P0' is an invalid float value\n",
      "Cannot set gray stroke color because /'P1' is an invalid float value\n",
      "Cannot set gray stroke color because /'P2' is an invalid float value\n",
      "Cannot set gray stroke color because /'P3' is an invalid float value\n",
      "Cannot set gray stroke color because /'P4' is an invalid float value\n",
      "Cannot set gray stroke color because /'P5' is an invalid float value\n",
      "Cannot set gray stroke color because /'P6' is an invalid float value\n",
      "Cannot set gray stroke color because /'P7' is an invalid float value\n",
      "Cannot set gray stroke color because /'P8' is an invalid float value\n",
      "Cannot set gray stroke color because /'P9' is an invalid float value\n",
      "Cannot set gray stroke color because /'P10' is an invalid float value\n",
      "Cannot set gray stroke color because /'P11' is an invalid float value\n",
      "Cannot set gray stroke color because /'P12' is an invalid float value\n",
      "Cannot set gray stroke color because /'P13' is an invalid float value\n",
      "Cannot set gray stroke color because /'P14' is an invalid float value\n",
      "Cannot set gray stroke color because /'P15' is an invalid float value\n",
      "Cannot set gray stroke color because /'P16' is an invalid float value\n",
      "Cannot set gray stroke color because /'P0' is an invalid float value\n",
      "Cannot set gray stroke color because /'P0' is an invalid float value\n",
      "Cannot set gray stroke color because /'P0' is an invalid float value\n",
      "Cannot set gray stroke color because /'P0' is an invalid float value\n",
      "Cannot set gray stroke color because /'P0' is an invalid float value\n",
      "Cannot set gray stroke color because /'P0' is an invalid float value\n",
      "Cannot set gray stroke color because /'P0' is an invalid float value\n",
      "Cannot set gray stroke color because /'P0' is an invalid float value\n",
      "Cannot set gray stroke color because /'P0' is an invalid float value\n",
      "Cannot set gray stroke color because /'P0' is an invalid float value\n",
      "Cannot set gray stroke color because /'P0' is an invalid float value\n",
      "Cannot set gray stroke color because /'P0' is an invalid float value\n",
      "Cannot set gray stroke color because /'P0' is an invalid float value\n",
      "Cannot set gray stroke color because /'P0' is an invalid float value\n",
      "Cannot set gray stroke color because /'P0' is an invalid float value\n",
      "Cannot set gray stroke color because /'P0' is an invalid float value\n",
      "Cannot set gray stroke color because /'P0' is an invalid float value\n",
      "Cannot set gray stroke color because /'P0' is an invalid float value\n",
      "Cannot set gray stroke color because /'P0' is an invalid float value\n",
      "Cannot set gray stroke color because /'P0' is an invalid float value\n",
      "Cannot set gray stroke color because /'P0' is an invalid float value\n",
      "Cannot set gray stroke color because /'P0' is an invalid float value\n",
      "Cannot set gray stroke color because /'P0' is an invalid float value\n",
      "Cannot set gray stroke color because /'P0' is an invalid float value\n",
      "Cannot set gray stroke color because /'P0' is an invalid float value\n",
      "Cannot set gray stroke color because /'P0' is an invalid float value\n",
      "Cannot set gray stroke color because /'P0' is an invalid float value\n",
      "Cannot set gray stroke color because /'P0' is an invalid float value\n",
      "Cannot set gray stroke color because /'P0' is an invalid float value\n",
      "Cannot set gray stroke color because /'P0' is an invalid float value\n",
      "Cannot set gray stroke color because /'P0' is an invalid float value\n",
      "Cannot set gray stroke color because /'P0' is an invalid float value\n",
      "Cannot set gray stroke color because /'P0' is an invalid float value\n",
      "Cannot set gray stroke color because /'P0' is an invalid float value\n",
      "Cannot set gray stroke color because /'P0' is an invalid float value\n",
      "Cannot set gray stroke color because /'P0' is an invalid float value\n",
      "Cannot set gray stroke color because /'P0' is an invalid float value\n",
      "Cannot set gray stroke color because /'P0' is an invalid float value\n",
      "Cannot set gray stroke color because /'P0' is an invalid float value\n",
      "Cannot set gray stroke color because /'P0' is an invalid float value\n",
      "Cannot set gray stroke color because /'P0' is an invalid float value\n",
      "Cannot set gray stroke color because /'P0' is an invalid float value\n",
      "Cannot set gray stroke color because /'P0' is an invalid float value\n",
      "Cannot set gray stroke color because /'P0' is an invalid float value\n",
      "Cannot set gray stroke color because /'P0' is an invalid float value\n",
      "Cannot set gray stroke color because /'P0' is an invalid float value\n",
      "Cannot set gray stroke color because /'P0' is an invalid float value\n",
      "Cannot set gray stroke color because /'P0' is an invalid float value\n",
      "Cannot set gray stroke color because /'P0' is an invalid float value\n",
      "Cannot set gray stroke color because /'P0' is an invalid float value\n",
      "Cannot set gray stroke color because /'P0' is an invalid float value\n",
      "Cannot set gray stroke color because /'P0' is an invalid float value\n",
      "Cannot set gray stroke color because /'P0' is an invalid float value\n",
      "Cannot set gray stroke color because /'P0' is an invalid float value\n",
      "Cannot set gray stroke color because /'P0' is an invalid float value\n",
      "Cannot set gray stroke color because /'P0' is an invalid float value\n",
      "Cannot set gray stroke color because /'P0' is an invalid float value\n",
      "Cannot set gray stroke color because /'P0' is an invalid float value\n",
      "Cannot set gray stroke color because /'P0' is an invalid float value\n",
      "Cannot set gray stroke color because /'P0' is an invalid float value\n",
      "Cannot set gray stroke color because /'P0' is an invalid float value\n",
      "Cannot set gray stroke color because /'P0' is an invalid float value\n",
      "Cannot set gray stroke color because /'P0' is an invalid float value\n",
      "Cannot set gray stroke color because /'P0' is an invalid float value\n",
      "Cannot set gray stroke color because /'P0' is an invalid float value\n",
      "Cannot set gray stroke color because /'P0' is an invalid float value\n",
      "Cannot set gray stroke color because /'P0' is an invalid float value\n",
      "Cannot set gray stroke color because /'P0' is an invalid float value\n",
      "Cannot set gray stroke color because /'P0' is an invalid float value\n",
      "Cannot set gray stroke color because /'P0' is an invalid float value\n",
      "Cannot set gray stroke color because /'P0' is an invalid float value\n",
      "Cannot set gray stroke color because /'P0' is an invalid float value\n",
      "Cannot set gray stroke color because /'P0' is an invalid float value\n",
      "Cannot set gray stroke color because /'P0' is an invalid float value\n",
      "Cannot set gray stroke color because /'P0' is an invalid float value\n",
      "Cannot set gray stroke color because /'P0' is an invalid float value\n",
      "Cannot set gray stroke color because /'P0' is an invalid float value\n",
      "Cannot set gray stroke color because /'P0' is an invalid float value\n",
      "Cannot set gray stroke color because /'P0' is an invalid float value\n",
      "Cannot set gray stroke color because /'P0' is an invalid float value\n",
      "Cannot set gray stroke color because /'P0' is an invalid float value\n",
      "Cannot set gray stroke color because /'P0' is an invalid float value\n",
      "Cannot set gray stroke color because /'P0' is an invalid float value\n",
      "Cannot set gray stroke color because /'P0' is an invalid float value\n",
      "Cannot set gray stroke color because /'P0' is an invalid float value\n",
      "Cannot set gray stroke color because /'P0' is an invalid float value\n",
      "Cannot set gray stroke color because /'P0' is an invalid float value\n",
      "Cannot set gray stroke color because /'P0' is an invalid float value\n",
      "Cannot set gray stroke color because /'P0' is an invalid float value\n",
      "Cannot set gray stroke color because /'P0' is an invalid float value\n",
      "Cannot set gray stroke color because /'P0' is an invalid float value\n",
      "Cannot set gray stroke color because /'P0' is an invalid float value\n",
      "Cannot set gray stroke color because /'P0' is an invalid float value\n",
      "Cannot set gray stroke color because /'P0' is an invalid float value\n",
      "Cannot set gray stroke color because /'P0' is an invalid float value\n",
      "Cannot set gray stroke color because /'P0' is an invalid float value\n",
      "Cannot set gray stroke color because /'P0' is an invalid float value\n",
      "Cannot set gray stroke color because /'P0' is an invalid float value\n",
      "Cannot set gray stroke color because /'P0' is an invalid float value\n",
      "Cannot set gray stroke color because /'P0' is an invalid float value\n",
      "Cannot set gray stroke color because /'P0' is an invalid float value\n",
      "Cannot set gray stroke color because /'P0' is an invalid float value\n",
      "Cannot set gray stroke color because /'P0' is an invalid float value\n",
      "Cannot set gray stroke color because /'P0' is an invalid float value\n",
      "Cannot set gray stroke color because /'P0' is an invalid float value\n",
      "Cannot set gray stroke color because /'P0' is an invalid float value\n",
      "Cannot set gray stroke color because /'P0' is an invalid float value\n",
      "Cannot set gray stroke color because /'P0' is an invalid float value\n",
      "Cannot set gray stroke color because /'P0' is an invalid float value\n",
      "Cannot set gray stroke color because /'P0' is an invalid float value\n",
      "Cannot set gray stroke color because /'P0' is an invalid float value\n",
      "Cannot set gray stroke color because /'P0' is an invalid float value\n",
      "Cannot set gray stroke color because /'P0' is an invalid float value\n",
      "Cannot set gray stroke color because /'P0' is an invalid float value\n",
      "Cannot set gray stroke color because /'P0' is an invalid float value\n",
      "Cannot set gray stroke color because /'P0' is an invalid float value\n",
      "Cannot set gray stroke color because /'P0' is an invalid float value\n",
      "Cannot set gray stroke color because /'P0' is an invalid float value\n",
      "Cannot set gray stroke color because /'P0' is an invalid float value\n",
      "Cannot set gray stroke color because /'P0' is an invalid float value\n",
      "Cannot set gray stroke color because /'P0' is an invalid float value\n",
      "Cannot set gray stroke color because /'P0' is an invalid float value\n",
      "Cannot set gray stroke color because /'P0' is an invalid float value\n",
      "Cannot set gray stroke color because /'P0' is an invalid float value\n",
      "Cannot set gray stroke color because /'P0' is an invalid float value\n",
      "Cannot set gray stroke color because /'P0' is an invalid float value\n",
      "Cannot set gray stroke color because /'P0' is an invalid float value\n",
      "Cannot set gray stroke color because /'P0' is an invalid float value\n",
      "Cannot set gray stroke color because /'P0' is an invalid float value\n",
      "Cannot set gray stroke color because /'P0' is an invalid float value\n",
      "Cannot set gray stroke color because /'P0' is an invalid float value\n",
      "Cannot set gray stroke color because /'P0' is an invalid float value\n",
      "Cannot set gray stroke color because /'P0' is an invalid float value\n",
      "Cannot set gray stroke color because /'P0' is an invalid float value\n",
      "Cannot set gray stroke color because /'P0' is an invalid float value\n",
      "Cannot set gray stroke color because /'P0' is an invalid float value\n",
      "Cannot set gray stroke color because /'P0' is an invalid float value\n",
      "Cannot set gray stroke color because /'P0' is an invalid float value\n",
      "Cannot set gray stroke color because /'P0' is an invalid float value\n",
      "Cannot set gray stroke color because /'P0' is an invalid float value\n",
      "Cannot set gray stroke color because /'P0' is an invalid float value\n",
      "Cannot set gray stroke color because /'P0' is an invalid float value\n",
      "Cannot set gray stroke color because /'P0' is an invalid float value\n",
      "Cannot set gray stroke color because /'P0' is an invalid float value\n",
      "Cannot set gray stroke color because /'P0' is an invalid float value\n",
      "Cannot set gray stroke color because /'P0' is an invalid float value\n",
      "Cannot set gray stroke color because /'P0' is an invalid float value\n",
      "Cannot set gray stroke color because /'P0' is an invalid float value\n",
      "Cannot set gray stroke color because /'P0' is an invalid float value\n",
      "Cannot set gray stroke color because /'P0' is an invalid float value\n",
      "Cannot set gray stroke color because /'P0' is an invalid float value\n",
      "Cannot set gray stroke color because /'P0' is an invalid float value\n",
      "Cannot set gray stroke color because /'P0' is an invalid float value\n",
      "Cannot set gray stroke color because /'P0' is an invalid float value\n",
      "Cannot set gray stroke color because /'P0' is an invalid float value\n",
      "Cannot set gray stroke color because /'P0' is an invalid float value\n",
      "Cannot set gray stroke color because /'P0' is an invalid float value\n",
      "Cannot set gray stroke color because /'P0' is an invalid float value\n",
      "Cannot set gray stroke color because /'P0' is an invalid float value\n",
      "Cannot set gray stroke color because /'P0' is an invalid float value\n",
      "Cannot set gray stroke color because /'P0' is an invalid float value\n",
      "Cannot set gray stroke color because /'P0' is an invalid float value\n",
      "Cannot set gray stroke color because /'P0' is an invalid float value\n",
      "Cannot set gray stroke color because /'P0' is an invalid float value\n",
      "Cannot set gray stroke color because /'P0' is an invalid float value\n",
      "Cannot set gray stroke color because /'P0' is an invalid float value\n",
      "Cannot set gray stroke color because /'P0' is an invalid float value\n",
      "Cannot set gray stroke color because /'P0' is an invalid float value\n",
      "Cannot set gray stroke color because /'P0' is an invalid float value\n",
      "Cannot set gray stroke color because /'P0' is an invalid float value\n",
      "Cannot set gray stroke color because /'P0' is an invalid float value\n",
      "Cannot set gray stroke color because /'P0' is an invalid float value\n",
      "Cannot set gray stroke color because /'P0' is an invalid float value\n",
      "Cannot set gray stroke color because /'P0' is an invalid float value\n",
      "Cannot set gray stroke color because /'P0' is an invalid float value\n",
      "Cannot set gray stroke color because /'P0' is an invalid float value\n",
      "Cannot set gray stroke color because /'P0' is an invalid float value\n",
      "Cannot set gray stroke color because /'P0' is an invalid float value\n",
      "Cannot set gray stroke color because /'P0' is an invalid float value\n",
      "Cannot set gray stroke color because /'P0' is an invalid float value\n",
      "Cannot set gray stroke color because /'P0' is an invalid float value\n",
      "Cannot set gray stroke color because /'P0' is an invalid float value\n",
      "Cannot set gray stroke color because /'P0' is an invalid float value\n",
      "Cannot set gray stroke color because /'P0' is an invalid float value\n",
      "Cannot set gray stroke color because /'P0' is an invalid float value\n",
      "Cannot set gray stroke color because /'P0' is an invalid float value\n",
      "Cannot set gray stroke color because /'P0' is an invalid float value\n",
      "Cannot set gray stroke color because /'P0' is an invalid float value\n",
      "Cannot set gray stroke color because /'P0' is an invalid float value\n",
      "Cannot set gray stroke color because /'P0' is an invalid float value\n",
      "Cannot set gray stroke color because /'P0' is an invalid float value\n",
      "Cannot set gray stroke color because /'P0' is an invalid float value\n",
      "Cannot set gray stroke color because /'P0' is an invalid float value\n",
      "Cannot set gray stroke color because /'P0' is an invalid float value\n",
      "Cannot set gray stroke color because /'P0' is an invalid float value\n",
      "Cannot set gray stroke color because /'P0' is an invalid float value\n",
      "Cannot set gray stroke color because /'P0' is an invalid float value\n",
      "Cannot set gray stroke color because /'P0' is an invalid float value\n",
      "Cannot set gray stroke color because /'P0' is an invalid float value\n",
      "Cannot set gray stroke color because /'P0' is an invalid float value\n",
      "Cannot set gray stroke color because /'P0' is an invalid float value\n",
      "Cannot set gray stroke color because /'P0' is an invalid float value\n",
      "Cannot set gray stroke color because /'P0' is an invalid float value\n",
      "Cannot set gray stroke color because /'P0' is an invalid float value\n",
      "Cannot set gray stroke color because /'P0' is an invalid float value\n",
      "Cannot set gray stroke color because /'P0' is an invalid float value\n",
      "Cannot set gray stroke color because /'P0' is an invalid float value\n",
      "Cannot set gray stroke color because /'P0' is an invalid float value\n",
      "Cannot set gray stroke color because /'P0' is an invalid float value\n",
      "Cannot set gray stroke color because /'P0' is an invalid float value\n",
      "Cannot set gray stroke color because /'P0' is an invalid float value\n",
      "Cannot set gray stroke color because /'P0' is an invalid float value\n",
      "Cannot set gray stroke color because /'P0' is an invalid float value\n",
      "Cannot set gray stroke color because /'P1' is an invalid float value\n",
      "Cannot set gray stroke color because /'P2' is an invalid float value\n",
      "Cannot set gray stroke color because /'P3' is an invalid float value\n",
      "Cannot set gray stroke color because /'P4' is an invalid float value\n",
      "Cannot set gray stroke color because /'P5' is an invalid float value\n",
      "Cannot set gray stroke color because /'P6' is an invalid float value\n",
      "Cannot set gray stroke color because /'P7' is an invalid float value\n",
      "Cannot set gray stroke color because /'P8' is an invalid float value\n",
      "Cannot set gray stroke color because /'P9' is an invalid float value\n",
      "Cannot set gray stroke color because /'P10' is an invalid float value\n",
      "Cannot set gray stroke color because /'P11' is an invalid float value\n",
      "Cannot set gray stroke color because /'P12' is an invalid float value\n",
      "Cannot set gray stroke color because /'P13' is an invalid float value\n",
      "Cannot set gray stroke color because /'P14' is an invalid float value\n",
      "Cannot set gray stroke color because /'P15' is an invalid float value\n",
      "Cannot set gray stroke color because /'P16' is an invalid float value\n",
      "Cannot set gray stroke color because /'P0' is an invalid float value\n",
      "Cannot set gray stroke color because /'P0' is an invalid float value\n",
      "Cannot set gray stroke color because /'P0' is an invalid float value\n",
      "Cannot set gray stroke color because /'P0' is an invalid float value\n",
      "Cannot set gray stroke color because /'P0' is an invalid float value\n",
      "Cannot set gray stroke color because /'P0' is an invalid float value\n",
      "Cannot set gray stroke color because /'P0' is an invalid float value\n",
      "Cannot set gray stroke color because /'P0' is an invalid float value\n",
      "Cannot set gray stroke color because /'P0' is an invalid float value\n",
      "Cannot set gray stroke color because /'P0' is an invalid float value\n",
      "Cannot set gray stroke color because /'P0' is an invalid float value\n",
      "Cannot set gray stroke color because /'P0' is an invalid float value\n",
      "Cannot set gray stroke color because /'P0' is an invalid float value\n",
      "Cannot set gray stroke color because /'P0' is an invalid float value\n",
      "Cannot set gray stroke color because /'P0' is an invalid float value\n",
      "Cannot set gray stroke color because /'P0' is an invalid float value\n",
      "Cannot set gray stroke color because /'P0' is an invalid float value\n",
      "Cannot set gray stroke color because /'P0' is an invalid float value\n",
      "Cannot set gray stroke color because /'P0' is an invalid float value\n",
      "Cannot set gray stroke color because /'P0' is an invalid float value\n",
      "Cannot set gray stroke color because /'P0' is an invalid float value\n",
      "Cannot set gray stroke color because /'P0' is an invalid float value\n",
      "Cannot set gray stroke color because /'P0' is an invalid float value\n",
      "Cannot set gray stroke color because /'P0' is an invalid float value\n",
      "Cannot set gray stroke color because /'P0' is an invalid float value\n",
      "Cannot set gray stroke color because /'P0' is an invalid float value\n",
      "Cannot set gray stroke color because /'P0' is an invalid float value\n",
      "Cannot set gray stroke color because /'P0' is an invalid float value\n",
      "Cannot set gray stroke color because /'P0' is an invalid float value\n",
      "Cannot set gray stroke color because /'P0' is an invalid float value\n",
      "Cannot set gray stroke color because /'P0' is an invalid float value\n",
      "Cannot set gray stroke color because /'P0' is an invalid float value\n",
      "Cannot set gray stroke color because /'P0' is an invalid float value\n",
      "Cannot set gray stroke color because /'P0' is an invalid float value\n",
      "Cannot set gray stroke color because /'P0' is an invalid float value\n",
      "Cannot set gray stroke color because /'P0' is an invalid float value\n",
      "Cannot set gray stroke color because /'P0' is an invalid float value\n",
      "Cannot set gray stroke color because /'P0' is an invalid float value\n",
      "Cannot set gray stroke color because /'P0' is an invalid float value\n",
      "Cannot set gray stroke color because /'P0' is an invalid float value\n",
      "Cannot set gray stroke color because /'P0' is an invalid float value\n",
      "Cannot set gray stroke color because /'P0' is an invalid float value\n",
      "Cannot set gray stroke color because /'P0' is an invalid float value\n",
      "Cannot set gray stroke color because /'P0' is an invalid float value\n",
      "Cannot set gray stroke color because /'P0' is an invalid float value\n",
      "Cannot set gray stroke color because /'P0' is an invalid float value\n",
      "Cannot set gray stroke color because /'P0' is an invalid float value\n",
      "Cannot set gray stroke color because /'P0' is an invalid float value\n",
      "Cannot set gray stroke color because /'P0' is an invalid float value\n",
      "Cannot set gray stroke color because /'P0' is an invalid float value\n",
      "Cannot set gray stroke color because /'P0' is an invalid float value\n",
      "Cannot set gray stroke color because /'P0' is an invalid float value\n",
      "Cannot set gray stroke color because /'P0' is an invalid float value\n",
      "Cannot set gray stroke color because /'P0' is an invalid float value\n",
      "Cannot set gray stroke color because /'P0' is an invalid float value\n",
      "Cannot set gray stroke color because /'P0' is an invalid float value\n",
      "Cannot set gray stroke color because /'P0' is an invalid float value\n",
      "Cannot set gray stroke color because /'P0' is an invalid float value\n",
      "Cannot set gray stroke color because /'P0' is an invalid float value\n",
      "Cannot set gray stroke color because /'P0' is an invalid float value\n",
      "Cannot set gray stroke color because /'P0' is an invalid float value\n",
      "Cannot set gray stroke color because /'P0' is an invalid float value\n",
      "Cannot set gray stroke color because /'P0' is an invalid float value\n",
      "Cannot set gray stroke color because /'P0' is an invalid float value\n",
      "Cannot set gray stroke color because /'P0' is an invalid float value\n",
      "Cannot set gray stroke color because /'P0' is an invalid float value\n",
      "Cannot set gray stroke color because /'P0' is an invalid float value\n",
      "Cannot set gray stroke color because /'P0' is an invalid float value\n",
      "Cannot set gray stroke color because /'P0' is an invalid float value\n",
      "Cannot set gray stroke color because /'P0' is an invalid float value\n",
      "Cannot set gray stroke color because /'P0' is an invalid float value\n",
      "Cannot set gray stroke color because /'P0' is an invalid float value\n",
      "Cannot set gray stroke color because /'P0' is an invalid float value\n",
      "Cannot set gray stroke color because /'P0' is an invalid float value\n",
      "Cannot set gray stroke color because /'P0' is an invalid float value\n",
      "Cannot set gray stroke color because /'P0' is an invalid float value\n",
      "Cannot set gray stroke color because /'P0' is an invalid float value\n",
      "Cannot set gray stroke color because /'P0' is an invalid float value\n",
      "Cannot set gray stroke color because /'P0' is an invalid float value\n",
      "Cannot set gray stroke color because /'P0' is an invalid float value\n",
      "Cannot set gray stroke color because /'P0' is an invalid float value\n",
      "Cannot set gray stroke color because /'P0' is an invalid float value\n",
      "Cannot set gray stroke color because /'P0' is an invalid float value\n",
      "Cannot set gray stroke color because /'P0' is an invalid float value\n",
      "Cannot set gray stroke color because /'P0' is an invalid float value\n",
      "Cannot set gray stroke color because /'P0' is an invalid float value\n",
      "Cannot set gray stroke color because /'P0' is an invalid float value\n",
      "Cannot set gray stroke color because /'P0' is an invalid float value\n",
      "Cannot set gray stroke color because /'P0' is an invalid float value\n",
      "Cannot set gray stroke color because /'P0' is an invalid float value\n",
      "Cannot set gray stroke color because /'P0' is an invalid float value\n",
      "Cannot set gray stroke color because /'P0' is an invalid float value\n",
      "Cannot set gray stroke color because /'P0' is an invalid float value\n",
      "Cannot set gray stroke color because /'P0' is an invalid float value\n",
      "Cannot set gray stroke color because /'P0' is an invalid float value\n",
      "Cannot set gray stroke color because /'P0' is an invalid float value\n",
      "Cannot set gray stroke color because /'P0' is an invalid float value\n",
      "Cannot set gray stroke color because /'P0' is an invalid float value\n",
      "Cannot set gray stroke color because /'P0' is an invalid float value\n",
      "Cannot set gray stroke color because /'P0' is an invalid float value\n",
      "Cannot set gray stroke color because /'P0' is an invalid float value\n",
      "Cannot set gray stroke color because /'P0' is an invalid float value\n",
      "Cannot set gray stroke color because /'P0' is an invalid float value\n",
      "Cannot set gray stroke color because /'P0' is an invalid float value\n",
      "Cannot set gray stroke color because /'P0' is an invalid float value\n",
      "Cannot set gray stroke color because /'P0' is an invalid float value\n",
      "Cannot set gray stroke color because /'P0' is an invalid float value\n",
      "Cannot set gray stroke color because /'P0' is an invalid float value\n",
      "Cannot set gray stroke color because /'P0' is an invalid float value\n",
      "Cannot set gray stroke color because /'P0' is an invalid float value\n",
      "Cannot set gray stroke color because /'P0' is an invalid float value\n",
      "Cannot set gray stroke color because /'P0' is an invalid float value\n",
      "Cannot set gray stroke color because /'P0' is an invalid float value\n",
      "Cannot set gray stroke color because /'P0' is an invalid float value\n",
      "Cannot set gray stroke color because /'P0' is an invalid float value\n",
      "Cannot set gray stroke color because /'P0' is an invalid float value\n",
      "Cannot set gray stroke color because /'P0' is an invalid float value\n",
      "Cannot set gray stroke color because /'P0' is an invalid float value\n",
      "Cannot set gray stroke color because /'P0' is an invalid float value\n",
      "Cannot set gray stroke color because /'P0' is an invalid float value\n",
      "Cannot set gray stroke color because /'P0' is an invalid float value\n",
      "Cannot set gray stroke color because /'P0' is an invalid float value\n",
      "Cannot set gray stroke color because /'P0' is an invalid float value\n",
      "Cannot set gray stroke color because /'P0' is an invalid float value\n",
      "Cannot set gray stroke color because /'P0' is an invalid float value\n",
      "Cannot set gray stroke color because /'P0' is an invalid float value\n",
      "Cannot set gray stroke color because /'P0' is an invalid float value\n",
      "Cannot set gray stroke color because /'P0' is an invalid float value\n",
      "Cannot set gray stroke color because /'P0' is an invalid float value\n",
      "Cannot set gray stroke color because /'P0' is an invalid float value\n",
      "Cannot set gray stroke color because /'P0' is an invalid float value\n",
      "Cannot set gray stroke color because /'P0' is an invalid float value\n",
      "Cannot set gray stroke color because /'P0' is an invalid float value\n",
      "Cannot set gray stroke color because /'P0' is an invalid float value\n",
      "Cannot set gray stroke color because /'P0' is an invalid float value\n",
      "Cannot set gray stroke color because /'P0' is an invalid float value\n",
      "Cannot set gray stroke color because /'P0' is an invalid float value\n",
      "Cannot set gray stroke color because /'P0' is an invalid float value\n",
      "Cannot set gray stroke color because /'P0' is an invalid float value\n",
      "Cannot set gray stroke color because /'P0' is an invalid float value\n",
      "Cannot set gray stroke color because /'P0' is an invalid float value\n",
      "Cannot set gray stroke color because /'P0' is an invalid float value\n",
      "Cannot set gray stroke color because /'P0' is an invalid float value\n",
      "Cannot set gray stroke color because /'P0' is an invalid float value\n",
      "Cannot set gray stroke color because /'P0' is an invalid float value\n",
      "Cannot set gray stroke color because /'P0' is an invalid float value\n",
      "Cannot set gray stroke color because /'P0' is an invalid float value\n",
      "Cannot set gray stroke color because /'P0' is an invalid float value\n",
      "Cannot set gray stroke color because /'P0' is an invalid float value\n",
      "Cannot set gray stroke color because /'P0' is an invalid float value\n",
      "Cannot set gray stroke color because /'P0' is an invalid float value\n",
      "Cannot set gray stroke color because /'P0' is an invalid float value\n",
      "Cannot set gray stroke color because /'P0' is an invalid float value\n",
      "Cannot set gray stroke color because /'P0' is an invalid float value\n",
      "Cannot set gray stroke color because /'P0' is an invalid float value\n",
      "Cannot set gray stroke color because /'P0' is an invalid float value\n",
      "Cannot set gray stroke color because /'P0' is an invalid float value\n",
      "Cannot set gray stroke color because /'P0' is an invalid float value\n",
      "Cannot set gray stroke color because /'P0' is an invalid float value\n",
      "Cannot set gray stroke color because /'P0' is an invalid float value\n",
      "Cannot set gray stroke color because /'P0' is an invalid float value\n",
      "Cannot set gray stroke color because /'P0' is an invalid float value\n",
      "Cannot set gray stroke color because /'P0' is an invalid float value\n",
      "Cannot set gray stroke color because /'P0' is an invalid float value\n",
      "Cannot set gray stroke color because /'P0' is an invalid float value\n",
      "Cannot set gray stroke color because /'P0' is an invalid float value\n",
      "Cannot set gray stroke color because /'P0' is an invalid float value\n",
      "Cannot set gray stroke color because /'P0' is an invalid float value\n",
      "Cannot set gray stroke color because /'P0' is an invalid float value\n",
      "Cannot set gray stroke color because /'P0' is an invalid float value\n",
      "Cannot set gray stroke color because /'P0' is an invalid float value\n",
      "Cannot set gray stroke color because /'P0' is an invalid float value\n",
      "Cannot set gray stroke color because /'P0' is an invalid float value\n",
      "Cannot set gray stroke color because /'P0' is an invalid float value\n",
      "Cannot set gray stroke color because /'P0' is an invalid float value\n",
      "Cannot set gray stroke color because /'P0' is an invalid float value\n",
      "Cannot set gray stroke color because /'P0' is an invalid float value\n",
      "Cannot set gray stroke color because /'P0' is an invalid float value\n",
      "Cannot set gray stroke color because /'P0' is an invalid float value\n",
      "Cannot set gray stroke color because /'P0' is an invalid float value\n",
      "Cannot set gray stroke color because /'P0' is an invalid float value\n",
      "Cannot set gray stroke color because /'P0' is an invalid float value\n",
      "Cannot set gray stroke color because /'P0' is an invalid float value\n",
      "Cannot set gray stroke color because /'P0' is an invalid float value\n",
      "Cannot set gray stroke color because /'P0' is an invalid float value\n",
      "Cannot set gray stroke color because /'P0' is an invalid float value\n",
      "Cannot set gray stroke color because /'P0' is an invalid float value\n",
      "Cannot set gray stroke color because /'P0' is an invalid float value\n",
      "Cannot set gray stroke color because /'P0' is an invalid float value\n",
      "Cannot set gray stroke color because /'P0' is an invalid float value\n",
      "Cannot set gray stroke color because /'P0' is an invalid float value\n",
      "/Users/maximrimer/PycharmProjects/halyk_rag/ragenv/lib/python3.10/site-packages/camelot/utils.py:1217: UserWarning:   (704.5649, 706.368981) does not lie in column range (706.7549802363142, 1047.57773716423)\n",
      "  warnings.warn(\n",
      "/Users/maximrimer/PycharmProjects/halyk_rag/ragenv/lib/python3.10/site-packages/camelot/utils.py:1217: UserWarning:   (706.0359, 707.839981) does not lie in column range (364.5222532726964, 705.585005100306)\n",
      "  warnings.warn(\n",
      "Cannot set gray stroke color because /'P0' is an invalid float value\n",
      "Cannot set gray stroke color because /'P0' is an invalid float value\n",
      "Cannot set gray stroke color because /'P0' is an invalid float value\n",
      "Cannot set gray stroke color because /'P0' is an invalid float value\n",
      "Cannot set gray stroke color because /'P0' is an invalid float value\n",
      "Cannot set gray stroke color because /'P0' is an invalid float value\n",
      "Cannot set gray stroke color because /'P0' is an invalid float value\n",
      "Cannot set gray stroke color because /'P0' is an invalid float value\n",
      "Cannot set gray stroke color because /'P0' is an invalid float value\n",
      "Cannot set gray stroke color because /'P0' is an invalid float value\n",
      "Cannot set gray stroke color because /'P0' is an invalid float value\n",
      "Cannot set gray stroke color because /'P0' is an invalid float value\n",
      "Cannot set gray stroke color because /'P0' is an invalid float value\n",
      "Cannot set gray stroke color because /'P0' is an invalid float value\n",
      "Cannot set gray stroke color because /'P0' is an invalid float value\n",
      "Cannot set gray stroke color because /'P0' is an invalid float value\n",
      "Cannot set gray stroke color because /'P0' is an invalid float value\n",
      "Cannot set gray stroke color because /'P0' is an invalid float value\n",
      "Cannot set gray stroke color because /'P0' is an invalid float value\n",
      "Cannot set gray stroke color because /'P1' is an invalid float value\n",
      "Cannot set gray stroke color because /'P2' is an invalid float value\n",
      "Cannot set gray stroke color because /'P3' is an invalid float value\n",
      "Cannot set gray stroke color because /'P4' is an invalid float value\n",
      "Cannot set gray stroke color because /'P5' is an invalid float value\n",
      "Cannot set gray stroke color because /'P6' is an invalid float value\n",
      "Cannot set gray stroke color because /'P7' is an invalid float value\n",
      "Cannot set gray stroke color because /'P8' is an invalid float value\n",
      "Cannot set gray stroke color because /'P9' is an invalid float value\n",
      "Cannot set gray stroke color because /'P10' is an invalid float value\n",
      "Cannot set gray stroke color because /'P11' is an invalid float value\n",
      "Cannot set gray stroke color because /'P12' is an invalid float value\n",
      "Cannot set gray stroke color because /'P13' is an invalid float value\n",
      "Cannot set gray stroke color because /'P14' is an invalid float value\n",
      "Cannot set gray stroke color because /'P15' is an invalid float value\n",
      "Cannot set gray stroke color because /'P16' is an invalid float value\n",
      "Cannot set gray stroke color because /'P0' is an invalid float value\n",
      "Cannot set gray stroke color because /'P0' is an invalid float value\n",
      "Cannot set gray stroke color because /'P0' is an invalid float value\n",
      "Cannot set gray stroke color because /'P0' is an invalid float value\n",
      "Cannot set gray stroke color because /'P0' is an invalid float value\n",
      "Cannot set gray stroke color because /'P0' is an invalid float value\n",
      "Cannot set gray stroke color because /'P0' is an invalid float value\n",
      "Cannot set gray stroke color because /'P0' is an invalid float value\n",
      "Cannot set gray stroke color because /'P0' is an invalid float value\n",
      "Cannot set gray stroke color because /'P0' is an invalid float value\n",
      "Cannot set gray stroke color because /'P0' is an invalid float value\n",
      "Cannot set gray stroke color because /'P0' is an invalid float value\n",
      "Cannot set gray stroke color because /'P0' is an invalid float value\n",
      "Cannot set gray stroke color because /'P0' is an invalid float value\n",
      "Cannot set gray stroke color because /'P0' is an invalid float value\n",
      "Cannot set gray stroke color because /'P0' is an invalid float value\n",
      "Cannot set gray stroke color because /'P0' is an invalid float value\n",
      "Cannot set gray stroke color because /'P0' is an invalid float value\n",
      "Cannot set gray stroke color because /'P0' is an invalid float value\n",
      "Cannot set gray stroke color because /'P0' is an invalid float value\n",
      "Cannot set gray stroke color because /'P0' is an invalid float value\n",
      "Cannot set gray stroke color because /'P0' is an invalid float value\n",
      "Cannot set gray stroke color because /'P0' is an invalid float value\n",
      "Cannot set gray stroke color because /'P0' is an invalid float value\n",
      "Cannot set gray stroke color because /'P0' is an invalid float value\n",
      "Cannot set gray stroke color because /'P0' is an invalid float value\n",
      "Cannot set gray stroke color because /'P0' is an invalid float value\n",
      "Cannot set gray stroke color because /'P0' is an invalid float value\n",
      "Cannot set gray stroke color because /'P0' is an invalid float value\n",
      "Cannot set gray stroke color because /'P0' is an invalid float value\n",
      "Cannot set gray stroke color because /'P0' is an invalid float value\n",
      "Cannot set gray stroke color because /'P0' is an invalid float value\n",
      "Cannot set gray stroke color because /'P0' is an invalid float value\n",
      "/Users/maximrimer/PycharmProjects/halyk_rag/ragenv/lib/python3.10/site-packages/camelot/parsers/base.py:238: UserWarning: No tables found in table area (32.5197, 508.1366999999998, 819.4397, 784.5366481481481)\n",
      "  cols, rows, v_s, h_s = self._generate_columns_and_rows(bbox, user_cols)\n",
      "Cannot set gray stroke color because /'P0' is an invalid float value\n",
      "Cannot set gray stroke color because /'P0' is an invalid float value\n",
      "Cannot set gray stroke color because /'P0' is an invalid float value\n",
      "Cannot set gray stroke color because /'P0' is an invalid float value\n",
      "Cannot set gray stroke color because /'P0' is an invalid float value\n",
      "Cannot set gray stroke color because /'P0' is an invalid float value\n",
      "Cannot set gray stroke color because /'P0' is an invalid float value\n",
      "Cannot set gray stroke color because /'P0' is an invalid float value\n",
      "Cannot set gray stroke color because /'P0' is an invalid float value\n",
      "Cannot set gray stroke color because /'P0' is an invalid float value\n",
      "Cannot set gray stroke color because /'P0' is an invalid float value\n",
      "Cannot set gray stroke color because /'P0' is an invalid float value\n",
      "Cannot set gray stroke color because /'P0' is an invalid float value\n",
      "Cannot set gray stroke color because /'P0' is an invalid float value\n",
      "/Users/maximrimer/PycharmProjects/halyk_rag/ragenv/lib/python3.10/site-packages/camelot/parsers/base.py:238: UserWarning: No tables found in table area (32.5197, 89.01109999999998, 336.2627999999999, 720.2118842105263)\n",
      "  cols, rows, v_s, h_s = self._generate_columns_and_rows(bbox, user_cols)\n",
      "Cannot set gray stroke color because /'P0' is an invalid float value\n",
      "Cannot set gray stroke color because /'P0' is an invalid float value\n",
      "Cannot set gray stroke color because /'P0' is an invalid float value\n",
      "Cannot set gray stroke color because /'P0' is an invalid float value\n",
      "Cannot set gray stroke color because /'P0' is an invalid float value\n",
      "Cannot set gray stroke color because /'P0' is an invalid float value\n",
      "Cannot set gray stroke color because /'P0' is an invalid float value\n",
      "Cannot set gray stroke color because /'P0' is an invalid float value\n",
      "Cannot set gray stroke color because /'P0' is an invalid float value\n",
      "Cannot set gray stroke color because /'P0' is an invalid float value\n",
      "Cannot set gray stroke color because /'P0' is an invalid float value\n",
      "Cannot set gray stroke color because /'P0' is an invalid float value\n",
      "Cannot set gray stroke color because /'P0' is an invalid float value\n",
      "Cannot set gray stroke color because /'P0' is an invalid float value\n",
      "Cannot set gray stroke color because /'P0' is an invalid float value\n",
      "Cannot set gray stroke color because /'P0' is an invalid float value\n",
      "Cannot set gray stroke color because /'P0' is an invalid float value\n",
      "Cannot set gray stroke color because /'P0' is an invalid float value\n",
      "Cannot set gray stroke color because /'P0' is an invalid float value\n",
      "Cannot set gray stroke color because /'P0' is an invalid float value\n",
      "Cannot set gray stroke color because /'P0' is an invalid float value\n",
      "Cannot set gray stroke color because /'P0' is an invalid float value\n",
      "Cannot set gray stroke color because /'P0' is an invalid float value\n",
      "Cannot set gray stroke color because /'P0' is an invalid float value\n",
      "Cannot set gray stroke color because /'P0' is an invalid float value\n",
      "Cannot set gray stroke color because /'P0' is an invalid float value\n",
      "Cannot set gray stroke color because /'P0' is an invalid float value\n",
      "Cannot set gray stroke color because /'P0' is an invalid float value\n",
      "Cannot set gray stroke color because /'P0' is an invalid float value\n",
      "Cannot set gray stroke color because /'P0' is an invalid float value\n",
      "Cannot set gray stroke color because /'P0' is an invalid float value\n",
      "Cannot set gray stroke color because /'P0' is an invalid float value\n",
      "Cannot set gray stroke color because /'P0' is an invalid float value\n",
      "Cannot set gray stroke color because /'P0' is an invalid float value\n",
      "Cannot set gray stroke color because /'P0' is an invalid float value\n",
      "Cannot set gray stroke color because /'P0' is an invalid float value\n",
      "Cannot set gray stroke color because /'P0' is an invalid float value\n",
      "Cannot set gray stroke color because /'P0' is an invalid float value\n",
      "Cannot set gray stroke color because /'P0' is an invalid float value\n",
      "Cannot set gray stroke color because /'P0' is an invalid float value\n",
      "Cannot set gray stroke color because /'P0' is an invalid float value\n",
      "Cannot set gray stroke color because /'P0' is an invalid float value\n",
      "Cannot set gray stroke color because /'P0' is an invalid float value\n",
      "Cannot set gray stroke color because /'P0' is an invalid float value\n",
      "Cannot set gray stroke color because /'P0' is an invalid float value\n",
      "Cannot set gray stroke color because /'P0' is an invalid float value\n",
      "Cannot set gray stroke color because /'P0' is an invalid float value\n",
      "Cannot set gray stroke color because /'P0' is an invalid float value\n",
      "Cannot set gray stroke color because /'P0' is an invalid float value\n",
      "Cannot set gray stroke color because /'P0' is an invalid float value\n",
      "Cannot set gray stroke color because /'P0' is an invalid float value\n",
      "Cannot set gray stroke color because /'P0' is an invalid float value\n",
      "Cannot set gray stroke color because /'P0' is an invalid float value\n",
      "Cannot set gray stroke color because /'P0' is an invalid float value\n",
      "Cannot set gray stroke color because /'P0' is an invalid float value\n",
      "Cannot set gray stroke color because /'P0' is an invalid float value\n",
      "Cannot set gray stroke color because /'P0' is an invalid float value\n",
      "Cannot set gray stroke color because /'P0' is an invalid float value\n",
      "Cannot set gray stroke color because /'P0' is an invalid float value\n",
      "Cannot set gray stroke color because /'P0' is an invalid float value\n",
      "Cannot set gray stroke color because /'P0' is an invalid float value\n",
      "Cannot set gray stroke color because /'P0' is an invalid float value\n",
      "Cannot set gray stroke color because /'P0' is an invalid float value\n",
      "Cannot set gray stroke color because /'P0' is an invalid float value\n",
      "Cannot set gray stroke color because /'P0' is an invalid float value\n",
      "Cannot set gray stroke color because /'P0' is an invalid float value\n",
      "Cannot set gray stroke color because /'P0' is an invalid float value\n",
      "Cannot set gray stroke color because /'P0' is an invalid float value\n",
      "Cannot set gray stroke color because /'P0' is an invalid float value\n",
      "Cannot set gray stroke color because /'P0' is an invalid float value\n",
      "Cannot set gray stroke color because /'P0' is an invalid float value\n",
      "Cannot set gray stroke color because /'P0' is an invalid float value\n",
      "Cannot set gray stroke color because /'P0' is an invalid float value\n",
      "Cannot set gray stroke color because /'P0' is an invalid float value\n",
      "Cannot set gray stroke color because /'P0' is an invalid float value\n",
      "Cannot set gray stroke color because /'P0' is an invalid float value\n",
      "Cannot set gray stroke color because /'P0' is an invalid float value\n",
      "Cannot set gray stroke color because /'P0' is an invalid float value\n",
      "Cannot set gray stroke color because /'P0' is an invalid float value\n",
      "Cannot set gray stroke color because /'P0' is an invalid float value\n",
      "Cannot set gray stroke color because /'P0' is an invalid float value\n",
      "Cannot set gray stroke color because /'P0' is an invalid float value\n",
      "Cannot set gray stroke color because /'P0' is an invalid float value\n",
      "Cannot set gray stroke color because /'P0' is an invalid float value\n",
      "Cannot set gray stroke color because /'P0' is an invalid float value\n",
      "Cannot set gray stroke color because /'P0' is an invalid float value\n",
      "Cannot set gray stroke color because /'P0' is an invalid float value\n",
      "Cannot set gray stroke color because /'P0' is an invalid float value\n",
      "Cannot set gray stroke color because /'P0' is an invalid float value\n",
      "Cannot set gray stroke color because /'P0' is an invalid float value\n",
      "Cannot set gray stroke color because /'P0' is an invalid float value\n",
      "Cannot set gray stroke color because /'P0' is an invalid float value\n",
      "Cannot set gray stroke color because /'P0' is an invalid float value\n",
      "Cannot set gray stroke color because /'P0' is an invalid float value\n",
      "Cannot set gray stroke color because /'P0' is an invalid float value\n",
      "Cannot set gray stroke color because /'P0' is an invalid float value\n",
      "Cannot set gray stroke color because /'P0' is an invalid float value\n",
      "Cannot set gray stroke color because /'P0' is an invalid float value\n",
      "Cannot set gray stroke color because /'P0' is an invalid float value\n",
      "Cannot set gray stroke color because /'P0' is an invalid float value\n",
      "Cannot set gray stroke color because /'P0' is an invalid float value\n",
      "Cannot set gray stroke color because /'P0' is an invalid float value\n",
      "Cannot set gray stroke color because /'P0' is an invalid float value\n",
      "Cannot set gray stroke color because /'P0' is an invalid float value\n",
      "Cannot set gray stroke color because /'P0' is an invalid float value\n",
      "Cannot set gray stroke color because /'P0' is an invalid float value\n",
      "Cannot set gray stroke color because /'P0' is an invalid float value\n",
      "Cannot set gray stroke color because /'P0' is an invalid float value\n",
      "Cannot set gray stroke color because /'P0' is an invalid float value\n",
      "Cannot set gray stroke color because /'P0' is an invalid float value\n",
      "Cannot set gray stroke color because /'P0' is an invalid float value\n",
      "Cannot set gray stroke color because /'P0' is an invalid float value\n",
      "Cannot set gray stroke color because /'P0' is an invalid float value\n",
      "Cannot set gray stroke color because /'P0' is an invalid float value\n",
      "Cannot set gray stroke color because /'P0' is an invalid float value\n",
      "Cannot set gray stroke color because /'P0' is an invalid float value\n",
      "Cannot set gray stroke color because /'P0' is an invalid float value\n",
      "Cannot set gray stroke color because /'P0' is an invalid float value\n",
      "Cannot set gray stroke color because /'P0' is an invalid float value\n",
      "Cannot set gray stroke color because /'P0' is an invalid float value\n",
      "Cannot set gray stroke color because /'P0' is an invalid float value\n",
      "Cannot set gray stroke color because /'P0' is an invalid float value\n",
      "Cannot set gray stroke color because /'P0' is an invalid float value\n",
      "Cannot set gray stroke color because /'P0' is an invalid float value\n",
      "Cannot set gray stroke color because /'P0' is an invalid float value\n",
      "Cannot set gray stroke color because /'P0' is an invalid float value\n",
      "Cannot set gray stroke color because /'P0' is an invalid float value\n",
      "Cannot set gray stroke color because /'P0' is an invalid float value\n",
      "Cannot set gray stroke color because /'P0' is an invalid float value\n",
      "Cannot set gray stroke color because /'P0' is an invalid float value\n",
      "Cannot set gray stroke color because /'P0' is an invalid float value\n",
      "Cannot set gray stroke color because /'P0' is an invalid float value\n",
      "Cannot set gray stroke color because /'P0' is an invalid float value\n",
      "Cannot set gray stroke color because /'P0' is an invalid float value\n",
      "Cannot set gray stroke color because /'P0' is an invalid float value\n",
      "Cannot set gray stroke color because /'P0' is an invalid float value\n",
      "Cannot set gray stroke color because /'P0' is an invalid float value\n",
      "Cannot set gray stroke color because /'P0' is an invalid float value\n",
      "Cannot set gray stroke color because /'P0' is an invalid float value\n",
      "Cannot set gray stroke color because /'P0' is an invalid float value\n",
      "Cannot set gray stroke color because /'P0' is an invalid float value\n",
      "Cannot set gray stroke color because /'P0' is an invalid float value\n",
      "Cannot set gray stroke color because /'P0' is an invalid float value\n",
      "Cannot set gray stroke color because /'P0' is an invalid float value\n",
      "Cannot set gray stroke color because /'P0' is an invalid float value\n",
      "Cannot set gray stroke color because /'P0' is an invalid float value\n",
      "Cannot set gray stroke color because /'P0' is an invalid float value\n",
      "Cannot set gray stroke color because /'P0' is an invalid float value\n",
      "Cannot set gray stroke color because /'P0' is an invalid float value\n",
      "Cannot set gray stroke color because /'P0' is an invalid float value\n",
      "Cannot set gray stroke color because /'P0' is an invalid float value\n",
      "Cannot set gray stroke color because /'P0' is an invalid float value\n",
      "Cannot set gray stroke color because /'P0' is an invalid float value\n",
      "Cannot set gray stroke color because /'P0' is an invalid float value\n",
      "Cannot set gray stroke color because /'P0' is an invalid float value\n",
      "Cannot set gray stroke color because /'P0' is an invalid float value\n",
      "Cannot set gray stroke color because /'P0' is an invalid float value\n",
      "Cannot set gray stroke color because /'P0' is an invalid float value\n",
      "Cannot set gray stroke color because /'P0' is an invalid float value\n",
      "Cannot set gray stroke color because /'P0' is an invalid float value\n",
      "Cannot set gray stroke color because /'P0' is an invalid float value\n",
      "Cannot set gray stroke color because /'P0' is an invalid float value\n",
      "Cannot set gray stroke color because /'P0' is an invalid float value\n",
      "Cannot set gray stroke color because /'P1' is an invalid float value\n",
      "Cannot set gray stroke color because /'P2' is an invalid float value\n",
      "Cannot set gray stroke color because /'P3' is an invalid float value\n",
      "Cannot set gray stroke color because /'P4' is an invalid float value\n",
      "Cannot set gray stroke color because /'P5' is an invalid float value\n",
      "Cannot set gray stroke color because /'P6' is an invalid float value\n",
      "Cannot set gray stroke color because /'P7' is an invalid float value\n",
      "Cannot set gray stroke color because /'P8' is an invalid float value\n",
      "Cannot set gray stroke color because /'P9' is an invalid float value\n",
      "Cannot set gray stroke color because /'P10' is an invalid float value\n",
      "Cannot set gray stroke color because /'P11' is an invalid float value\n",
      "Cannot set gray stroke color because /'P12' is an invalid float value\n",
      "Cannot set gray stroke color because /'P13' is an invalid float value\n",
      "Cannot set gray stroke color because /'P14' is an invalid float value\n",
      "Cannot set gray stroke color because /'P15' is an invalid float value\n",
      "Cannot set gray stroke color because /'P16' is an invalid float value\n",
      "Cannot set gray stroke color because /'P0' is an invalid float value\n",
      "Cannot set gray stroke color because /'P0' is an invalid float value\n",
      "Cannot set gray stroke color because /'P0' is an invalid float value\n",
      "Cannot set gray stroke color because /'P0' is an invalid float value\n",
      "Cannot set gray stroke color because /'P0' is an invalid float value\n",
      "Cannot set gray stroke color because /'P0' is an invalid float value\n",
      "Cannot set gray stroke color because /'P0' is an invalid float value\n",
      "Cannot set gray stroke color because /'P0' is an invalid float value\n",
      "Cannot set gray stroke color because /'P0' is an invalid float value\n",
      "Cannot set gray stroke color because /'P0' is an invalid float value\n",
      "Cannot set gray stroke color because /'P0' is an invalid float value\n",
      "Cannot set gray stroke color because /'P0' is an invalid float value\n",
      "Cannot set gray stroke color because /'P0' is an invalid float value\n",
      "Cannot set gray stroke color because /'P0' is an invalid float value\n",
      "Cannot set gray stroke color because /'P0' is an invalid float value\n",
      "Cannot set gray stroke color because /'P0' is an invalid float value\n",
      "Cannot set gray stroke color because /'P0' is an invalid float value\n",
      "Cannot set gray stroke color because /'P0' is an invalid float value\n",
      "Cannot set gray stroke color because /'P0' is an invalid float value\n",
      "Cannot set gray stroke color because /'P0' is an invalid float value\n",
      "Cannot set gray stroke color because /'P0' is an invalid float value\n",
      "Cannot set gray stroke color because /'P0' is an invalid float value\n",
      "Cannot set gray stroke color because /'P0' is an invalid float value\n",
      "Cannot set gray stroke color because /'P0' is an invalid float value\n",
      "Cannot set gray stroke color because /'P0' is an invalid float value\n",
      "Cannot set gray stroke color because /'P0' is an invalid float value\n",
      "Cannot set gray stroke color because /'P0' is an invalid float value\n",
      "Cannot set gray stroke color because /'P0' is an invalid float value\n",
      "Cannot set gray stroke color because /'P0' is an invalid float value\n",
      "Cannot set gray stroke color because /'P0' is an invalid float value\n",
      "Cannot set gray stroke color because /'P0' is an invalid float value\n",
      "Cannot set gray stroke color because /'P0' is an invalid float value\n",
      "Cannot set gray stroke color because /'P0' is an invalid float value\n",
      "Cannot set gray stroke color because /'P0' is an invalid float value\n",
      "Cannot set gray stroke color because /'P0' is an invalid float value\n",
      "Cannot set gray stroke color because /'P0' is an invalid float value\n",
      "Cannot set gray stroke color because /'P0' is an invalid float value\n",
      "Cannot set gray stroke color because /'P0' is an invalid float value\n",
      "Cannot set gray stroke color because /'P0' is an invalid float value\n",
      "Cannot set gray stroke color because /'P0' is an invalid float value\n",
      "Cannot set gray stroke color because /'P0' is an invalid float value\n",
      "Cannot set gray stroke color because /'P0' is an invalid float value\n",
      "Cannot set gray stroke color because /'P0' is an invalid float value\n",
      "Cannot set gray stroke color because /'P0' is an invalid float value\n",
      "Cannot set gray stroke color because /'P0' is an invalid float value\n",
      "Cannot set gray stroke color because /'P0' is an invalid float value\n",
      "Cannot set gray stroke color because /'P0' is an invalid float value\n",
      "Cannot set gray stroke color because /'P0' is an invalid float value\n",
      "Cannot set gray stroke color because /'P0' is an invalid float value\n",
      "Cannot set gray stroke color because /'P0' is an invalid float value\n",
      "Cannot set gray stroke color because /'P0' is an invalid float value\n",
      "Cannot set gray stroke color because /'P0' is an invalid float value\n",
      "Cannot set gray stroke color because /'P0' is an invalid float value\n",
      "Cannot set gray stroke color because /'P0' is an invalid float value\n",
      "Cannot set gray stroke color because /'P0' is an invalid float value\n",
      "Cannot set gray stroke color because /'P0' is an invalid float value\n",
      "Cannot set gray stroke color because /'P0' is an invalid float value\n",
      "Cannot set gray stroke color because /'P0' is an invalid float value\n",
      "Cannot set gray stroke color because /'P0' is an invalid float value\n",
      "Cannot set gray stroke color because /'P0' is an invalid float value\n",
      "Cannot set gray stroke color because /'P0' is an invalid float value\n",
      "Cannot set gray stroke color because /'P0' is an invalid float value\n",
      "Cannot set gray stroke color because /'P0' is an invalid float value\n",
      "Cannot set gray stroke color because /'P0' is an invalid float value\n",
      "Cannot set gray stroke color because /'P0' is an invalid float value\n",
      "Cannot set gray stroke color because /'P0' is an invalid float value\n",
      "Cannot set gray stroke color because /'P0' is an invalid float value\n",
      "Cannot set gray stroke color because /'P0' is an invalid float value\n",
      "Cannot set gray stroke color because /'P0' is an invalid float value\n",
      "Cannot set gray stroke color because /'P0' is an invalid float value\n",
      "Cannot set gray stroke color because /'P0' is an invalid float value\n",
      "Cannot set gray stroke color because /'P0' is an invalid float value\n",
      "Cannot set gray stroke color because /'P0' is an invalid float value\n",
      "Cannot set gray stroke color because /'P0' is an invalid float value\n",
      "Cannot set gray stroke color because /'P0' is an invalid float value\n",
      "Cannot set gray stroke color because /'P0' is an invalid float value\n",
      "Cannot set gray stroke color because /'P0' is an invalid float value\n",
      "Cannot set gray stroke color because /'P0' is an invalid float value\n",
      "Cannot set gray stroke color because /'P0' is an invalid float value\n",
      "Cannot set gray stroke color because /'P0' is an invalid float value\n",
      "Cannot set gray stroke color because /'P0' is an invalid float value\n",
      "Cannot set gray stroke color because /'P0' is an invalid float value\n",
      "Cannot set gray stroke color because /'P0' is an invalid float value\n",
      "Cannot set gray stroke color because /'P0' is an invalid float value\n",
      "Cannot set gray stroke color because /'P0' is an invalid float value\n",
      "Cannot set gray stroke color because /'P0' is an invalid float value\n",
      "Cannot set gray stroke color because /'P0' is an invalid float value\n",
      "Cannot set gray stroke color because /'P0' is an invalid float value\n",
      "Cannot set gray stroke color because /'P0' is an invalid float value\n",
      "Cannot set gray stroke color because /'P0' is an invalid float value\n",
      "Cannot set gray stroke color because /'P0' is an invalid float value\n",
      "Cannot set gray stroke color because /'P0' is an invalid float value\n",
      "Cannot set gray stroke color because /'P0' is an invalid float value\n",
      "Cannot set gray stroke color because /'P0' is an invalid float value\n",
      "Cannot set gray stroke color because /'P0' is an invalid float value\n",
      "Cannot set gray stroke color because /'P0' is an invalid float value\n",
      "Cannot set gray stroke color because /'P0' is an invalid float value\n",
      "Cannot set gray stroke color because /'P0' is an invalid float value\n",
      "Cannot set gray stroke color because /'P0' is an invalid float value\n",
      "Cannot set gray stroke color because /'P0' is an invalid float value\n",
      "Cannot set gray stroke color because /'P0' is an invalid float value\n",
      "Cannot set gray stroke color because /'P0' is an invalid float value\n",
      "Cannot set gray stroke color because /'P0' is an invalid float value\n",
      "Cannot set gray stroke color because /'P0' is an invalid float value\n",
      "Cannot set gray stroke color because /'P0' is an invalid float value\n",
      "Cannot set gray stroke color because /'P0' is an invalid float value\n",
      "Cannot set gray stroke color because /'P0' is an invalid float value\n",
      "Cannot set gray stroke color because /'P0' is an invalid float value\n",
      "Cannot set gray stroke color because /'P0' is an invalid float value\n",
      "Cannot set gray stroke color because /'P0' is an invalid float value\n",
      "Cannot set gray stroke color because /'P0' is an invalid float value\n",
      "Cannot set gray stroke color because /'P0' is an invalid float value\n",
      "Cannot set gray stroke color because /'P0' is an invalid float value\n",
      "Cannot set gray stroke color because /'P0' is an invalid float value\n",
      "Cannot set gray stroke color because /'P0' is an invalid float value\n",
      "Cannot set gray stroke color because /'P0' is an invalid float value\n",
      "Cannot set gray stroke color because /'P0' is an invalid float value\n",
      "Cannot set gray stroke color because /'P0' is an invalid float value\n",
      "Cannot set gray stroke color because /'P0' is an invalid float value\n",
      "Cannot set gray stroke color because /'P0' is an invalid float value\n",
      "Cannot set gray stroke color because /'P0' is an invalid float value\n",
      "Cannot set gray stroke color because /'P0' is an invalid float value\n",
      "Cannot set gray stroke color because /'P0' is an invalid float value\n",
      "Cannot set gray stroke color because /'P0' is an invalid float value\n",
      "Cannot set gray stroke color because /'P0' is an invalid float value\n",
      "Cannot set gray stroke color because /'P0' is an invalid float value\n",
      "Cannot set gray stroke color because /'P0' is an invalid float value\n",
      "Cannot set gray stroke color because /'P0' is an invalid float value\n",
      "Cannot set gray stroke color because /'P0' is an invalid float value\n",
      "Cannot set gray stroke color because /'P0' is an invalid float value\n",
      "Cannot set gray stroke color because /'P0' is an invalid float value\n",
      "Cannot set gray stroke color because /'P0' is an invalid float value\n",
      "Cannot set gray stroke color because /'P0' is an invalid float value\n",
      "Cannot set gray stroke color because /'P0' is an invalid float value\n",
      "Cannot set gray stroke color because /'P0' is an invalid float value\n",
      "Cannot set gray stroke color because /'P0' is an invalid float value\n",
      "Cannot set gray stroke color because /'P0' is an invalid float value\n",
      "Cannot set gray stroke color because /'P0' is an invalid float value\n",
      "Cannot set gray stroke color because /'P0' is an invalid float value\n",
      "Cannot set gray stroke color because /'P0' is an invalid float value\n",
      "Cannot set gray stroke color because /'P0' is an invalid float value\n",
      "Cannot set gray stroke color because /'P0' is an invalid float value\n",
      "Cannot set gray stroke color because /'P0' is an invalid float value\n",
      "Cannot set gray stroke color because /'P0' is an invalid float value\n",
      "Cannot set gray stroke color because /'P0' is an invalid float value\n",
      "Cannot set gray stroke color because /'P0' is an invalid float value\n",
      "Cannot set gray stroke color because /'P0' is an invalid float value\n",
      "Cannot set gray stroke color because /'P0' is an invalid float value\n",
      "Cannot set gray stroke color because /'P0' is an invalid float value\n",
      "Cannot set gray stroke color because /'P0' is an invalid float value\n",
      "Cannot set gray stroke color because /'P0' is an invalid float value\n",
      "Cannot set gray stroke color because /'P0' is an invalid float value\n",
      "Cannot set gray stroke color because /'P0' is an invalid float value\n",
      "Cannot set gray stroke color because /'P0' is an invalid float value\n",
      "Cannot set gray stroke color because /'P0' is an invalid float value\n",
      "Cannot set gray stroke color because /'P0' is an invalid float value\n",
      "Cannot set gray stroke color because /'P0' is an invalid float value\n",
      "Cannot set gray stroke color because /'P0' is an invalid float value\n",
      "Cannot set gray stroke color because /'P0' is an invalid float value\n",
      "Cannot set gray stroke color because /'P0' is an invalid float value\n",
      "Cannot set gray stroke color because /'P0' is an invalid float value\n",
      "Cannot set gray stroke color because /'P0' is an invalid float value\n",
      "Cannot set gray stroke color because /'P0' is an invalid float value\n",
      "Cannot set gray stroke color because /'P0' is an invalid float value\n",
      "Cannot set gray stroke color because /'P0' is an invalid float value\n",
      "Cannot set gray stroke color because /'P0' is an invalid float value\n",
      "Cannot set gray stroke color because /'P0' is an invalid float value\n",
      "Cannot set gray stroke color because /'P0' is an invalid float value\n",
      "Cannot set gray stroke color because /'P0' is an invalid float value\n",
      "Cannot set gray stroke color because /'P0' is an invalid float value\n",
      "Cannot set gray stroke color because /'P0' is an invalid float value\n",
      "Cannot set gray stroke color because /'P0' is an invalid float value\n",
      "Cannot set gray stroke color because /'P0' is an invalid float value\n",
      "Cannot set gray stroke color because /'P0' is an invalid float value\n",
      "Cannot set gray stroke color because /'P0' is an invalid float value\n",
      "Cannot set gray stroke color because /'P0' is an invalid float value\n",
      "Cannot set gray stroke color because /'P0' is an invalid float value\n",
      "Cannot set gray stroke color because /'P0' is an invalid float value\n",
      "Cannot set gray stroke color because /'P0' is an invalid float value\n",
      "Cannot set gray stroke color because /'P0' is an invalid float value\n",
      "Cannot set gray stroke color because /'P0' is an invalid float value\n",
      "Cannot set gray stroke color because /'P0' is an invalid float value\n",
      "Cannot set gray stroke color because /'P0' is an invalid float value\n",
      "Cannot set gray stroke color because /'P0' is an invalid float value\n",
      "Cannot set gray stroke color because /'P0' is an invalid float value\n",
      "Cannot set gray stroke color because /'P0' is an invalid float value\n",
      "Cannot set gray stroke color because /'P0' is an invalid float value\n",
      "Cannot set gray stroke color because /'P0' is an invalid float value\n",
      "Cannot set gray stroke color because /'P0' is an invalid float value\n",
      "Cannot set gray stroke color because /'P0' is an invalid float value\n",
      "Cannot set gray stroke color because /'P0' is an invalid float value\n",
      "Cannot set gray stroke color because /'P0' is an invalid float value\n",
      "Cannot set gray stroke color because /'P0' is an invalid float value\n",
      "Cannot set gray stroke color because /'P0' is an invalid float value\n",
      "Cannot set gray stroke color because /'P0' is an invalid float value\n",
      "Cannot set gray non-stroke color because /'P13' is an invalid float value\n",
      "Cannot set gray non-stroke color because /'P34' is an invalid float value\n",
      "/Users/maximrimer/PycharmProjects/halyk_rag/ragenv/lib/python3.10/site-packages/camelot/utils.py:1217: UserWarning:   (500.83, 503.34999999999997) does not lie in column range (102.22877871825878, 500.138331318017)\n",
      "  warnings.warn(\n",
      "/Users/maximrimer/PycharmProjects/halyk_rag/ragenv/lib/python3.10/site-packages/camelot/parsers/base.py:238: UserWarning: No tables found in table area (53.864, 303.04272000000003, 551.3, 414.3543082148042)\n",
      "  cols, rows, v_s, h_s = self._generate_columns_and_rows(bbox, user_cols)\n",
      "Cannot set gray non-stroke color because /'P799' is an invalid float value\n",
      "Cannot set gray non-stroke color because /'P805' is an invalid float value\n",
      "Cannot set gray non-stroke color because /'P811' is an invalid float value\n",
      "Cannot set gray non-stroke color because /'P817' is an invalid float value\n",
      "Cannot set gray non-stroke color because /'P823' is an invalid float value\n",
      "Cannot set gray non-stroke color because /'P829' is an invalid float value\n",
      "Cannot set gray non-stroke color because /'P835' is an invalid float value\n",
      "Cannot set gray non-stroke color because /'P841' is an invalid float value\n",
      "Cannot set gray non-stroke color because /'P847' is an invalid float value\n",
      "Cannot set gray non-stroke color because /'P853' is an invalid float value\n",
      "Cannot set gray non-stroke color because /'P859' is an invalid float value\n",
      "Cannot set gray non-stroke color because /'P865' is an invalid float value\n",
      "Cannot set gray non-stroke color because /'P1792' is an invalid float value\n",
      "Cannot set gray non-stroke color because /'P1794' is an invalid float value\n",
      "Cannot set gray non-stroke color because /'P1796' is an invalid float value\n",
      "Cannot set gray non-stroke color because /'P1798' is an invalid float value\n",
      "Cannot set gray non-stroke color because /'P1800' is an invalid float value\n",
      "Cannot set gray non-stroke color because /'P1802' is an invalid float value\n",
      "Cannot set gray non-stroke color because /'P1803' is an invalid float value\n",
      "Cannot set gray non-stroke color because /'P1804' is an invalid float value\n",
      "Cannot set gray non-stroke color because /'P1806' is an invalid float value\n",
      "Cannot set gray non-stroke color because /'P1808' is an invalid float value\n",
      "Cannot set gray non-stroke color because /'P1810' is an invalid float value\n",
      "Cannot set gray non-stroke color because /'P1812' is an invalid float value\n",
      "Cannot set gray non-stroke color because /'P1814' is an invalid float value\n",
      "Cannot set gray non-stroke color because /'P1816' is an invalid float value\n",
      "Cannot set gray non-stroke color because /'P1818' is an invalid float value\n",
      "Cannot set gray non-stroke color because /'P1819' is an invalid float value\n",
      "Cannot set gray non-stroke color because /'P1821' is an invalid float value\n",
      "Cannot set gray non-stroke color because /'P1823' is an invalid float value\n",
      "Cannot set gray non-stroke color because /'P1825' is an invalid float value\n",
      "Cannot set gray non-stroke color because /'P1827' is an invalid float value\n",
      "Cannot set gray non-stroke color because /'P1828' is an invalid float value\n",
      "Cannot set gray non-stroke color because /'P1830' is an invalid float value\n",
      "Cannot set gray non-stroke color because /'P1832' is an invalid float value\n",
      "Cannot set gray non-stroke color because /'P1833' is an invalid float value\n",
      "Cannot set gray non-stroke color because /'P1834' is an invalid float value\n",
      "Cannot set gray non-stroke color because /'P1836' is an invalid float value\n",
      "Cannot set gray non-stroke color because /'P1837' is an invalid float value\n",
      "Cannot set gray non-stroke color because /'P1839' is an invalid float value\n",
      "Cannot set gray non-stroke color because /'P1841' is an invalid float value\n",
      "Cannot set gray non-stroke color because /'P1842' is an invalid float value\n",
      "Cannot set gray non-stroke color because /'P1844' is an invalid float value\n",
      "Cannot set gray non-stroke color because /'P1845' is an invalid float value\n",
      "Cannot set gray non-stroke color because /'P1847' is an invalid float value\n",
      "Cannot set gray non-stroke color because /'P1849' is an invalid float value\n",
      "Cannot set gray non-stroke color because /'P1850' is an invalid float value\n",
      "Cannot set gray non-stroke color because /'P1851' is an invalid float value\n",
      "Cannot set gray non-stroke color because /'P1852' is an invalid float value\n",
      "Cannot set gray non-stroke color because /'P1853' is an invalid float value\n",
      "Cannot set gray non-stroke color because /'P1854' is an invalid float value\n",
      "Cannot set gray non-stroke color because /'P1856' is an invalid float value\n",
      "Cannot set gray non-stroke color because /'P1858' is an invalid float value\n",
      "Cannot set gray non-stroke color because /'P1860' is an invalid float value\n",
      "Cannot set gray non-stroke color because /'P1861' is an invalid float value\n",
      "Cannot set gray non-stroke color because /'P1862' is an invalid float value\n",
      "Cannot set gray non-stroke color because /'P1863' is an invalid float value\n",
      "Cannot set gray non-stroke color because /'P1864' is an invalid float value\n",
      "Cannot set gray non-stroke color because /'P1865' is an invalid float value\n",
      "Cannot set gray non-stroke color because /'P1867' is an invalid float value\n",
      "Cannot set gray non-stroke color because /'P1868' is an invalid float value\n",
      "Cannot set gray non-stroke color because /'P1869' is an invalid float value\n",
      "Cannot set gray non-stroke color because /'P1870' is an invalid float value\n",
      "Cannot set gray non-stroke color because /'P1872' is an invalid float value\n",
      "Cannot set gray non-stroke color because /'P1873' is an invalid float value\n",
      "Cannot set gray non-stroke color because /'P1874' is an invalid float value\n",
      "Cannot set gray non-stroke color because /'P1875' is an invalid float value\n",
      "Cannot set gray non-stroke color because /'P1876' is an invalid float value\n",
      "Cannot set gray non-stroke color because /'P1878' is an invalid float value\n",
      "Cannot set gray non-stroke color because /'P1879' is an invalid float value\n",
      "Cannot set gray non-stroke color because /'P1880' is an invalid float value\n",
      "Cannot set gray non-stroke color because /'P1881' is an invalid float value\n",
      "Cannot set gray non-stroke color because /'P1882' is an invalid float value\n",
      "Cannot set gray non-stroke color because /'P1884' is an invalid float value\n",
      "Cannot set gray non-stroke color because /'P1886' is an invalid float value\n",
      "Cannot set gray non-stroke color because /'P1887' is an invalid float value\n",
      "Cannot set gray non-stroke color because /'P1889' is an invalid float value\n",
      "Cannot set gray non-stroke color because /'P1890' is an invalid float value\n",
      "Cannot set gray non-stroke color because /'P1891' is an invalid float value\n",
      "Cannot set gray non-stroke color because /'P1892' is an invalid float value\n",
      "Cannot set gray non-stroke color because /'P1902' is an invalid float value\n",
      "Cannot set gray non-stroke color because /'P1912' is an invalid float value\n",
      "Cannot set gray non-stroke color because /'P1918' is an invalid float value\n",
      "Cannot set gray non-stroke color because /'P1924' is an invalid float value\n",
      "Cannot set gray non-stroke color because /'P1930' is an invalid float value\n",
      "Cannot set gray non-stroke color because /'P1936' is an invalid float value\n",
      "Cannot set gray non-stroke color because /'P1946' is an invalid float value\n",
      "Cannot set gray non-stroke color because /'P1952' is an invalid float value\n",
      "Cannot set gray non-stroke color because /'P1962' is an invalid float value\n",
      "Cannot set gray non-stroke color because /'P1972' is an invalid float value\n",
      "Cannot set gray non-stroke color because /'P1980' is an invalid float value\n",
      "Cannot set gray non-stroke color because /'P1990' is an invalid float value\n",
      "Cannot set gray non-stroke color because /'P2000' is an invalid float value\n",
      "Cannot set gray non-stroke color because /'P2006' is an invalid float value\n",
      "Cannot set gray non-stroke color because /'P2016' is an invalid float value\n",
      "Cannot set gray non-stroke color because /'P2022' is an invalid float value\n",
      "Cannot set gray non-stroke color because /'P2032' is an invalid float value\n",
      "Cannot set gray non-stroke color because /'P2038' is an invalid float value\n",
      "Cannot set gray non-stroke color because /'P2048' is an invalid float value\n",
      "Cannot set gray non-stroke color because /'P2056' is an invalid float value\n",
      "Cannot set gray non-stroke color because /'P2066' is an invalid float value\n",
      "Cannot set gray non-stroke color because /'P2076' is an invalid float value\n",
      "Cannot set gray non-stroke color because /'P2086' is an invalid float value\n",
      "Cannot set gray non-stroke color because /'P2092' is an invalid float value\n",
      "Cannot set gray non-stroke color because /'P2098' is an invalid float value\n",
      "Cannot set gray non-stroke color because /'P2108' is an invalid float value\n",
      "Cannot set gray non-stroke color because /'P2114' is an invalid float value\n",
      "Cannot set gray non-stroke color because /'P2124' is an invalid float value\n",
      "Cannot set gray non-stroke color because /'P2134' is an invalid float value\n",
      "Cannot set gray non-stroke color because /'P2144' is an invalid float value\n",
      "Cannot set gray non-stroke color because /'P2154' is an invalid float value\n",
      "Cannot set gray non-stroke color because /'P2164' is an invalid float value\n",
      "Cannot set gray non-stroke color because /'P2174' is an invalid float value\n",
      "Cannot set gray non-stroke color because /'P2184' is an invalid float value\n",
      "Cannot set gray non-stroke color because /'P2194' is an invalid float value\n",
      "Cannot set gray non-stroke color because /'P2204' is an invalid float value\n",
      "Cannot set gray non-stroke color because /'P2214' is an invalid float value\n",
      "Cannot set gray non-stroke color because /'P2224' is an invalid float value\n",
      "Cannot set gray non-stroke color because /'P2230' is an invalid float value\n",
      "Cannot set gray non-stroke color because /'P2240' is an invalid float value\n",
      "Cannot set gray non-stroke color because /'P2248' is an invalid float value\n",
      "Cannot set gray non-stroke color because /'P2254' is an invalid float value\n",
      "Cannot set gray non-stroke color because /'P2260' is an invalid float value\n",
      "Cannot set gray non-stroke color because /'P2270' is an invalid float value\n",
      "Cannot set gray non-stroke color because /'P2280' is an invalid float value\n",
      "Cannot set gray non-stroke color because /'P2290' is an invalid float value\n",
      "Cannot set gray non-stroke color because /'P2300' is an invalid float value\n",
      "Cannot set gray non-stroke color because /'P2310' is an invalid float value\n",
      "Cannot set gray non-stroke color because /'P2320' is an invalid float value\n",
      "Cannot set gray non-stroke color because /'P2330' is an invalid float value\n",
      "Cannot set gray non-stroke color because /'P2340' is an invalid float value\n",
      "Cannot set gray non-stroke color because /'P2350' is an invalid float value\n",
      "Cannot set gray non-stroke color because /'P2360' is an invalid float value\n",
      "Cannot set gray non-stroke color because /'P2370' is an invalid float value\n",
      "Cannot set gray non-stroke color because /'P2380' is an invalid float value\n",
      "Cannot set gray non-stroke color because /'P2390' is an invalid float value\n",
      "Cannot set gray non-stroke color because /'P2400' is an invalid float value\n",
      "Cannot set gray non-stroke color because /'P2410' is an invalid float value\n",
      "Cannot set gray non-stroke color because /'P2420' is an invalid float value\n",
      "Cannot set gray non-stroke color because /'P2430' is an invalid float value\n",
      "Cannot set gray non-stroke color because /'P2440' is an invalid float value\n",
      "Cannot set gray non-stroke color because /'P2450' is an invalid float value\n",
      "Cannot set gray non-stroke color because /'P2460' is an invalid float value\n",
      "Cannot set gray non-stroke color because /'P2470' is an invalid float value\n",
      "Cannot set gray non-stroke color because /'P2478' is an invalid float value\n",
      "Cannot set gray non-stroke color because /'P2484' is an invalid float value\n",
      "Cannot set gray non-stroke color because /'P2490' is an invalid float value\n",
      "Cannot set gray non-stroke color because /'P2496' is an invalid float value\n",
      "Cannot set gray non-stroke color because /'P2506' is an invalid float value\n",
      "Cannot set gray non-stroke color because /'P2512' is an invalid float value\n",
      "/Users/maximrimer/PycharmProjects/halyk_rag/ragenv/lib/python3.10/site-packages/camelot/utils.py:1217: UserWarning:   (565.18, 568.6899999999999) does not lie in column range (85.49776602176543, 565.1160882708587)\n",
      "  warnings.warn(\n",
      "/Users/maximrimer/PycharmProjects/halyk_rag/ragenv/lib/python3.10/site-packages/camelot/utils.py:1217: UserWarning:   (562.18, 565.6899999999999) does not lie in column range (85.49776602176543, 562.1166928657799)\n",
      "  warnings.warn(\n",
      "/Users/maximrimer/PycharmProjects/halyk_rag/ragenv/lib/python3.10/site-packages/camelot/utils.py:1217: UserWarning:   (262.46, 265.46) does not lie in column range (194.41729338842975, 261.98266457680256)\n",
      "  warnings.warn(\n",
      "Cannot set gray non-stroke color because /'P799' is an invalid float value\n",
      "Cannot set gray non-stroke color because /'P805' is an invalid float value\n",
      "Cannot set gray non-stroke color because /'P811' is an invalid float value\n",
      "Cannot set gray non-stroke color because /'P817' is an invalid float value\n",
      "Cannot set gray non-stroke color because /'P823' is an invalid float value\n",
      "Cannot set gray non-stroke color because /'P829' is an invalid float value\n",
      "Cannot set gray non-stroke color because /'P835' is an invalid float value\n",
      "Cannot set gray non-stroke color because /'P841' is an invalid float value\n",
      "Cannot set gray non-stroke color because /'P847' is an invalid float value\n",
      "Cannot set gray non-stroke color because /'P853' is an invalid float value\n",
      "Cannot set gray non-stroke color because /'P859' is an invalid float value\n",
      "Cannot set gray non-stroke color because /'P865' is an invalid float value\n",
      "/Users/maximrimer/PycharmProjects/halyk_rag/ragenv/lib/python3.10/site-packages/camelot/utils.py:1217: UserWarning:   (553.18, 556.18) does not lie in column range (84.46297460701331, 553.0885126964934)\n",
      "  warnings.warn(\n",
      "Cannot set gray non-stroke color because /'P1792' is an invalid float value\n",
      "Cannot set gray non-stroke color because /'P1794' is an invalid float value\n",
      "Cannot set gray non-stroke color because /'P1796' is an invalid float value\n",
      "Cannot set gray non-stroke color because /'P1798' is an invalid float value\n",
      "Cannot set gray non-stroke color because /'P1800' is an invalid float value\n",
      "Cannot set gray non-stroke color because /'P1802' is an invalid float value\n",
      "Cannot set gray non-stroke color because /'P1803' is an invalid float value\n",
      "Cannot set gray non-stroke color because /'P1804' is an invalid float value\n",
      "Cannot set gray non-stroke color because /'P1806' is an invalid float value\n",
      "Cannot set gray non-stroke color because /'P1808' is an invalid float value\n",
      "Cannot set gray non-stroke color because /'P1810' is an invalid float value\n",
      "Cannot set gray non-stroke color because /'P1812' is an invalid float value\n",
      "Cannot set gray non-stroke color because /'P1814' is an invalid float value\n",
      "Cannot set gray non-stroke color because /'P1816' is an invalid float value\n",
      "Cannot set gray non-stroke color because /'P1818' is an invalid float value\n",
      "Cannot set gray non-stroke color because /'P1819' is an invalid float value\n",
      "Cannot set gray non-stroke color because /'P1821' is an invalid float value\n",
      "Cannot set gray non-stroke color because /'P1823' is an invalid float value\n",
      "Cannot set gray non-stroke color because /'P1825' is an invalid float value\n",
      "Cannot set gray non-stroke color because /'P1827' is an invalid float value\n",
      "Cannot set gray non-stroke color because /'P1828' is an invalid float value\n",
      "Cannot set gray non-stroke color because /'P1830' is an invalid float value\n",
      "Cannot set gray non-stroke color because /'P1832' is an invalid float value\n",
      "Cannot set gray non-stroke color because /'P1833' is an invalid float value\n",
      "Cannot set gray non-stroke color because /'P1834' is an invalid float value\n",
      "Cannot set gray non-stroke color because /'P1836' is an invalid float value\n",
      "Cannot set gray non-stroke color because /'P1837' is an invalid float value\n",
      "Cannot set gray non-stroke color because /'P1839' is an invalid float value\n",
      "Cannot set gray non-stroke color because /'P1841' is an invalid float value\n",
      "Cannot set gray non-stroke color because /'P1842' is an invalid float value\n",
      "Cannot set gray non-stroke color because /'P1844' is an invalid float value\n",
      "Cannot set gray non-stroke color because /'P1845' is an invalid float value\n",
      "Cannot set gray non-stroke color because /'P1847' is an invalid float value\n",
      "Cannot set gray non-stroke color because /'P1849' is an invalid float value\n",
      "Cannot set gray non-stroke color because /'P1850' is an invalid float value\n",
      "Cannot set gray non-stroke color because /'P1851' is an invalid float value\n",
      "Cannot set gray non-stroke color because /'P1852' is an invalid float value\n",
      "Cannot set gray non-stroke color because /'P1853' is an invalid float value\n",
      "Cannot set gray non-stroke color because /'P1854' is an invalid float value\n",
      "Cannot set gray non-stroke color because /'P1856' is an invalid float value\n",
      "Cannot set gray non-stroke color because /'P1858' is an invalid float value\n",
      "Cannot set gray non-stroke color because /'P1860' is an invalid float value\n",
      "Cannot set gray non-stroke color because /'P1861' is an invalid float value\n",
      "Cannot set gray non-stroke color because /'P1862' is an invalid float value\n",
      "Cannot set gray non-stroke color because /'P1863' is an invalid float value\n",
      "Cannot set gray non-stroke color because /'P1864' is an invalid float value\n",
      "Cannot set gray non-stroke color because /'P1865' is an invalid float value\n",
      "Cannot set gray non-stroke color because /'P1867' is an invalid float value\n",
      "Cannot set gray non-stroke color because /'P1868' is an invalid float value\n",
      "Cannot set gray non-stroke color because /'P1869' is an invalid float value\n",
      "Cannot set gray non-stroke color because /'P1870' is an invalid float value\n",
      "Cannot set gray non-stroke color because /'P1872' is an invalid float value\n",
      "Cannot set gray non-stroke color because /'P1873' is an invalid float value\n",
      "Cannot set gray non-stroke color because /'P1874' is an invalid float value\n",
      "Cannot set gray non-stroke color because /'P1875' is an invalid float value\n",
      "Cannot set gray non-stroke color because /'P1876' is an invalid float value\n",
      "Cannot set gray non-stroke color because /'P1878' is an invalid float value\n",
      "Cannot set gray non-stroke color because /'P1879' is an invalid float value\n",
      "Cannot set gray non-stroke color because /'P1880' is an invalid float value\n",
      "Cannot set gray non-stroke color because /'P1881' is an invalid float value\n",
      "Cannot set gray non-stroke color because /'P1882' is an invalid float value\n",
      "Cannot set gray non-stroke color because /'P1884' is an invalid float value\n",
      "Cannot set gray non-stroke color because /'P1886' is an invalid float value\n",
      "Cannot set gray non-stroke color because /'P1887' is an invalid float value\n",
      "Cannot set gray non-stroke color because /'P1889' is an invalid float value\n",
      "Cannot set gray non-stroke color because /'P1890' is an invalid float value\n",
      "Cannot set gray non-stroke color because /'P1891' is an invalid float value\n",
      "Cannot set gray non-stroke color because /'P1892' is an invalid float value\n",
      "Cannot set gray non-stroke color because /'P1902' is an invalid float value\n",
      "Cannot set gray non-stroke color because /'P1912' is an invalid float value\n",
      "Cannot set gray non-stroke color because /'P1918' is an invalid float value\n",
      "Cannot set gray non-stroke color because /'P1924' is an invalid float value\n",
      "Cannot set gray non-stroke color because /'P1930' is an invalid float value\n",
      "Cannot set gray non-stroke color because /'P1936' is an invalid float value\n",
      "Cannot set gray non-stroke color because /'P1946' is an invalid float value\n",
      "Cannot set gray non-stroke color because /'P1952' is an invalid float value\n",
      "Cannot set gray non-stroke color because /'P1962' is an invalid float value\n",
      "Cannot set gray non-stroke color because /'P1972' is an invalid float value\n",
      "Cannot set gray non-stroke color because /'P1980' is an invalid float value\n",
      "Cannot set gray non-stroke color because /'P1990' is an invalid float value\n",
      "Cannot set gray non-stroke color because /'P2000' is an invalid float value\n",
      "Cannot set gray non-stroke color because /'P2006' is an invalid float value\n",
      "Cannot set gray non-stroke color because /'P2016' is an invalid float value\n",
      "Cannot set gray non-stroke color because /'P2022' is an invalid float value\n",
      "Cannot set gray non-stroke color because /'P2032' is an invalid float value\n",
      "Cannot set gray non-stroke color because /'P2038' is an invalid float value\n",
      "Cannot set gray non-stroke color because /'P2048' is an invalid float value\n",
      "Cannot set gray non-stroke color because /'P2056' is an invalid float value\n",
      "Cannot set gray non-stroke color because /'P2066' is an invalid float value\n",
      "Cannot set gray non-stroke color because /'P2076' is an invalid float value\n",
      "Cannot set gray non-stroke color because /'P2086' is an invalid float value\n",
      "Cannot set gray non-stroke color because /'P2092' is an invalid float value\n",
      "Cannot set gray non-stroke color because /'P2098' is an invalid float value\n",
      "Cannot set gray non-stroke color because /'P2108' is an invalid float value\n",
      "Cannot set gray non-stroke color because /'P2114' is an invalid float value\n",
      "Cannot set gray non-stroke color because /'P2124' is an invalid float value\n",
      "Cannot set gray non-stroke color because /'P2134' is an invalid float value\n",
      "Cannot set gray non-stroke color because /'P2144' is an invalid float value\n",
      "Cannot set gray non-stroke color because /'P2154' is an invalid float value\n",
      "Cannot set gray non-stroke color because /'P2164' is an invalid float value\n",
      "Cannot set gray non-stroke color because /'P2174' is an invalid float value\n",
      "Cannot set gray non-stroke color because /'P2184' is an invalid float value\n",
      "Cannot set gray non-stroke color because /'P2194' is an invalid float value\n",
      "Cannot set gray non-stroke color because /'P2204' is an invalid float value\n",
      "Cannot set gray non-stroke color because /'P2214' is an invalid float value\n",
      "Cannot set gray non-stroke color because /'P2224' is an invalid float value\n",
      "Cannot set gray non-stroke color because /'P2230' is an invalid float value\n",
      "Cannot set gray non-stroke color because /'P2240' is an invalid float value\n",
      "Cannot set gray non-stroke color because /'P2248' is an invalid float value\n",
      "Cannot set gray non-stroke color because /'P2254' is an invalid float value\n",
      "Cannot set gray non-stroke color because /'P2260' is an invalid float value\n",
      "Cannot set gray non-stroke color because /'P2270' is an invalid float value\n",
      "Cannot set gray non-stroke color because /'P2280' is an invalid float value\n",
      "Cannot set gray non-stroke color because /'P2290' is an invalid float value\n",
      "Cannot set gray non-stroke color because /'P2300' is an invalid float value\n",
      "Cannot set gray non-stroke color because /'P2310' is an invalid float value\n",
      "Cannot set gray non-stroke color because /'P2320' is an invalid float value\n",
      "Cannot set gray non-stroke color because /'P2330' is an invalid float value\n",
      "Cannot set gray non-stroke color because /'P2340' is an invalid float value\n",
      "Cannot set gray non-stroke color because /'P2350' is an invalid float value\n",
      "Cannot set gray non-stroke color because /'P2360' is an invalid float value\n",
      "Cannot set gray non-stroke color because /'P2370' is an invalid float value\n",
      "Cannot set gray non-stroke color because /'P2380' is an invalid float value\n",
      "Cannot set gray non-stroke color because /'P2390' is an invalid float value\n",
      "Cannot set gray non-stroke color because /'P2400' is an invalid float value\n",
      "Cannot set gray non-stroke color because /'P2410' is an invalid float value\n",
      "Cannot set gray non-stroke color because /'P2420' is an invalid float value\n",
      "Cannot set gray non-stroke color because /'P2430' is an invalid float value\n",
      "Cannot set gray non-stroke color because /'P2440' is an invalid float value\n",
      "Cannot set gray non-stroke color because /'P2450' is an invalid float value\n",
      "Cannot set gray non-stroke color because /'P2460' is an invalid float value\n",
      "Cannot set gray non-stroke color because /'P2470' is an invalid float value\n",
      "Cannot set gray non-stroke color because /'P2478' is an invalid float value\n",
      "Cannot set gray non-stroke color because /'P2484' is an invalid float value\n",
      "Cannot set gray non-stroke color because /'P2490' is an invalid float value\n",
      "Cannot set gray non-stroke color because /'P2496' is an invalid float value\n",
      "Cannot set gray non-stroke color because /'P2506' is an invalid float value\n",
      "Cannot set gray non-stroke color because /'P2512' is an invalid float value\n",
      "/Users/maximrimer/PycharmProjects/halyk_rag/ragenv/lib/python3.10/site-packages/camelot/parsers/base.py:238: UserWarning: No tables found in table area (0, 0, 842.04, 595.32)\n",
      "  cols, rows, v_s, h_s = self._generate_columns_and_rows(bbox, user_cols)\n",
      "/Users/maximrimer/PycharmProjects/halyk_rag/ragenv/lib/python3.10/site-packages/camelot/parsers/base.py:238: UserWarning: No tables found in table area (135.58, 125.06799999999998, 501.5, 442.85056949152533)\n",
      "  cols, rows, v_s, h_s = self._generate_columns_and_rows(bbox, user_cols)\n",
      "/Users/maximrimer/PycharmProjects/halyk_rag/ragenv/lib/python3.10/site-packages/camelot/parsers/base.py:238: UserWarning: No tables found in table area (75.104, 677.54736, 569.81, 852.9616476923077)\n",
      "  cols, rows, v_s, h_s = self._generate_columns_and_rows(bbox, user_cols)\n",
      "/Users/maximrimer/PycharmProjects/halyk_rag/ragenv/lib/python3.10/site-packages/camelot/parsers/base.py:238: UserWarning: No tables found in table area (0, 0, 842.04, 595.32)\n",
      "  cols, rows, v_s, h_s = self._generate_columns_and_rows(bbox, user_cols)\n",
      "/Users/maximrimer/PycharmProjects/halyk_rag/ragenv/lib/python3.10/site-packages/camelot/parsers/base.py:238: UserWarning: No tables found in table area (75.104, 631.94736, 566.36576, 844.7877373584905)\n",
      "  cols, rows, v_s, h_s = self._generate_columns_and_rows(bbox, user_cols)\n",
      "/Users/maximrimer/PycharmProjects/halyk_rag/ragenv/lib/python3.10/site-packages/camelot/parsers/base.py:238: UserWarning: No tables found in table area (75.104, 631.94736, 566.1600399999998, 845.3935418181818)\n",
      "  cols, rows, v_s, h_s = self._generate_columns_and_rows(bbox, user_cols)\n",
      "/Users/maximrimer/PycharmProjects/halyk_rag/ragenv/lib/python3.10/site-packages/camelot/parsers/base.py:238: UserWarning: No tables found in table area (0, 0, 595.32, 842.04)\n",
      "  cols, rows, v_s, h_s = self._generate_columns_and_rows(bbox, user_cols)\n",
      "/Users/maximrimer/PycharmProjects/halyk_rag/ragenv/lib/python3.10/site-packages/camelot/parsers/base.py:238: UserWarning: No tables found in table area (114.94, 217.41736, 571.25, 557.1916457142856)\n",
      "  cols, rows, v_s, h_s = self._generate_columns_and_rows(bbox, user_cols)\n",
      "/Users/maximrimer/PycharmProjects/halyk_rag/ragenv/lib/python3.10/site-packages/camelot/parsers/base.py:238: UserWarning: No tables found in table area (75.104, 668.06736, 566.4392, 847.3040324050633)\n",
      "  cols, rows, v_s, h_s = self._generate_columns_and_rows(bbox, user_cols)\n",
      "/Users/maximrimer/PycharmProjects/halyk_rag/ragenv/lib/python3.10/site-packages/camelot/parsers/base.py:238: UserWarning: No tables found in table area (46.63999999999999, 362.27736, 798.7323199999998, 572.78764)\n",
      "  cols, rows, v_s, h_s = self._generate_columns_and_rows(bbox, user_cols)\n",
      "/Users/maximrimer/PycharmProjects/halyk_rag/ragenv/lib/python3.10/site-packages/camelot/parsers/base.py:238: UserWarning: No tables found in table area (46.63999999999999, 229.17736000000002, 798.38, 569.9680000000001)\n",
      "  cols, rows, v_s, h_s = self._generate_columns_and_rows(bbox, user_cols)\n",
      "Cannot set gray non-stroke color because /'P799' is an invalid float value\n",
      "Cannot set gray non-stroke color because /'P805' is an invalid float value\n",
      "Cannot set gray non-stroke color because /'P811' is an invalid float value\n",
      "Cannot set gray non-stroke color because /'P817' is an invalid float value\n",
      "Cannot set gray non-stroke color because /'P823' is an invalid float value\n",
      "Cannot set gray non-stroke color because /'P829' is an invalid float value\n",
      "Cannot set gray non-stroke color because /'P835' is an invalid float value\n",
      "Cannot set gray non-stroke color because /'P841' is an invalid float value\n",
      "Cannot set gray non-stroke color because /'P847' is an invalid float value\n",
      "Cannot set gray non-stroke color because /'P853' is an invalid float value\n",
      "Cannot set gray non-stroke color because /'P859' is an invalid float value\n",
      "Cannot set gray non-stroke color because /'P865' is an invalid float value\n",
      "/Users/maximrimer/PycharmProjects/halyk_rag/ragenv/lib/python3.10/site-packages/camelot/parsers/base.py:238: UserWarning: No tables found in table area (80.744, 519.678, 560.15, 820.7285263157894)\n",
      "  cols, rows, v_s, h_s = self._generate_columns_and_rows(bbox, user_cols)\n",
      "/Users/maximrimer/PycharmProjects/halyk_rag/ragenv/lib/python3.10/site-packages/camelot/parsers/base.py:238: UserWarning: No tables found in table area (75.104, 592.22736, 566.37956, 843.4246572972974)\n",
      "  cols, rows, v_s, h_s = self._generate_columns_and_rows(bbox, user_cols)\n",
      "/Users/maximrimer/PycharmProjects/halyk_rag/ragenv/lib/python3.10/site-packages/camelot/parsers/base.py:238: UserWarning: No tables found in table area (287.65, 609.0273599999999, 564.65, 853.4469542857142)\n",
      "  cols, rows, v_s, h_s = self._generate_columns_and_rows(bbox, user_cols)\n",
      "/Users/maximrimer/PycharmProjects/halyk_rag/ragenv/lib/python3.10/site-packages/camelot/parsers/base.py:238: UserWarning: No tables found in table area (74.504, 678.74736, 561.05, 850.4673599999999)\n",
      "  cols, rows, v_s, h_s = self._generate_columns_and_rows(bbox, user_cols)\n",
      "/Users/maximrimer/PycharmProjects/halyk_rag/ragenv/lib/python3.10/site-packages/camelot/parsers/base.py:238: UserWarning: No tables found in table area (82.30399999999999, 486.918, 291.09, 726.2286210526315)\n",
      "  cols, rows, v_s, h_s = self._generate_columns_and_rows(bbox, user_cols)\n",
      "/Users/maximrimer/PycharmProjects/halyk_rag/ragenv/lib/python3.10/site-packages/camelot/parsers/base.py:238: UserWarning: No tables found in table area (82.304, 558.798, 262.40999999999997, 734.24065)\n",
      "  cols, rows, v_s, h_s = self._generate_columns_and_rows(bbox, user_cols)\n",
      "/Users/maximrimer/PycharmProjects/halyk_rag/ragenv/lib/python3.10/site-packages/camelot/parsers/base.py:238: UserWarning: No tables found in table area (80.504, 645.2673599999999, 546.7288799999999, 848.8294876595744)\n",
      "  cols, rows, v_s, h_s = self._generate_columns_and_rows(bbox, user_cols)\n",
      "Cannot set gray non-stroke color because /'P1792' is an invalid float value\n",
      "Cannot set gray non-stroke color because /'P1794' is an invalid float value\n",
      "Cannot set gray non-stroke color because /'P1796' is an invalid float value\n",
      "Cannot set gray non-stroke color because /'P1798' is an invalid float value\n",
      "Cannot set gray non-stroke color because /'P1800' is an invalid float value\n",
      "Cannot set gray non-stroke color because /'P1802' is an invalid float value\n",
      "Cannot set gray non-stroke color because /'P1803' is an invalid float value\n",
      "Cannot set gray non-stroke color because /'P1804' is an invalid float value\n",
      "Cannot set gray non-stroke color because /'P1806' is an invalid float value\n",
      "Cannot set gray non-stroke color because /'P1808' is an invalid float value\n",
      "Cannot set gray non-stroke color because /'P1810' is an invalid float value\n",
      "Cannot set gray non-stroke color because /'P1812' is an invalid float value\n",
      "Cannot set gray non-stroke color because /'P1814' is an invalid float value\n",
      "Cannot set gray non-stroke color because /'P1816' is an invalid float value\n",
      "Cannot set gray non-stroke color because /'P1818' is an invalid float value\n",
      "Cannot set gray non-stroke color because /'P1819' is an invalid float value\n",
      "Cannot set gray non-stroke color because /'P1821' is an invalid float value\n",
      "Cannot set gray non-stroke color because /'P1823' is an invalid float value\n",
      "Cannot set gray non-stroke color because /'P1825' is an invalid float value\n",
      "Cannot set gray non-stroke color because /'P1827' is an invalid float value\n",
      "Cannot set gray non-stroke color because /'P1828' is an invalid float value\n",
      "Cannot set gray non-stroke color because /'P1830' is an invalid float value\n",
      "Cannot set gray non-stroke color because /'P1832' is an invalid float value\n",
      "Cannot set gray non-stroke color because /'P1833' is an invalid float value\n",
      "Cannot set gray non-stroke color because /'P1834' is an invalid float value\n",
      "Cannot set gray non-stroke color because /'P1836' is an invalid float value\n",
      "Cannot set gray non-stroke color because /'P1837' is an invalid float value\n",
      "Cannot set gray non-stroke color because /'P1839' is an invalid float value\n",
      "Cannot set gray non-stroke color because /'P1841' is an invalid float value\n",
      "Cannot set gray non-stroke color because /'P1842' is an invalid float value\n",
      "Cannot set gray non-stroke color because /'P1844' is an invalid float value\n",
      "Cannot set gray non-stroke color because /'P1845' is an invalid float value\n",
      "Cannot set gray non-stroke color because /'P1847' is an invalid float value\n",
      "Cannot set gray non-stroke color because /'P1849' is an invalid float value\n",
      "Cannot set gray non-stroke color because /'P1850' is an invalid float value\n",
      "Cannot set gray non-stroke color because /'P1851' is an invalid float value\n",
      "Cannot set gray non-stroke color because /'P1852' is an invalid float value\n",
      "Cannot set gray non-stroke color because /'P1853' is an invalid float value\n",
      "Cannot set gray non-stroke color because /'P1854' is an invalid float value\n",
      "Cannot set gray non-stroke color because /'P1856' is an invalid float value\n",
      "Cannot set gray non-stroke color because /'P1858' is an invalid float value\n",
      "Cannot set gray non-stroke color because /'P1860' is an invalid float value\n",
      "Cannot set gray non-stroke color because /'P1861' is an invalid float value\n",
      "Cannot set gray non-stroke color because /'P1862' is an invalid float value\n",
      "Cannot set gray non-stroke color because /'P1863' is an invalid float value\n",
      "Cannot set gray non-stroke color because /'P1864' is an invalid float value\n",
      "Cannot set gray non-stroke color because /'P1865' is an invalid float value\n",
      "Cannot set gray non-stroke color because /'P1867' is an invalid float value\n",
      "Cannot set gray non-stroke color because /'P1868' is an invalid float value\n",
      "Cannot set gray non-stroke color because /'P1869' is an invalid float value\n",
      "Cannot set gray non-stroke color because /'P1870' is an invalid float value\n",
      "Cannot set gray non-stroke color because /'P1872' is an invalid float value\n",
      "Cannot set gray non-stroke color because /'P1873' is an invalid float value\n",
      "Cannot set gray non-stroke color because /'P1874' is an invalid float value\n",
      "Cannot set gray non-stroke color because /'P1875' is an invalid float value\n",
      "Cannot set gray non-stroke color because /'P1876' is an invalid float value\n",
      "Cannot set gray non-stroke color because /'P1878' is an invalid float value\n",
      "Cannot set gray non-stroke color because /'P1879' is an invalid float value\n",
      "Cannot set gray non-stroke color because /'P1880' is an invalid float value\n",
      "Cannot set gray non-stroke color because /'P1881' is an invalid float value\n",
      "Cannot set gray non-stroke color because /'P1882' is an invalid float value\n",
      "Cannot set gray non-stroke color because /'P1884' is an invalid float value\n",
      "Cannot set gray non-stroke color because /'P1886' is an invalid float value\n",
      "Cannot set gray non-stroke color because /'P1887' is an invalid float value\n",
      "Cannot set gray non-stroke color because /'P1889' is an invalid float value\n",
      "Cannot set gray non-stroke color because /'P1890' is an invalid float value\n",
      "Cannot set gray non-stroke color because /'P1891' is an invalid float value\n",
      "Cannot set gray non-stroke color because /'P1892' is an invalid float value\n",
      "Cannot set gray non-stroke color because /'P1902' is an invalid float value\n",
      "Cannot set gray non-stroke color because /'P1912' is an invalid float value\n",
      "Cannot set gray non-stroke color because /'P1918' is an invalid float value\n",
      "Cannot set gray non-stroke color because /'P1924' is an invalid float value\n",
      "Cannot set gray non-stroke color because /'P1930' is an invalid float value\n",
      "Cannot set gray non-stroke color because /'P1936' is an invalid float value\n",
      "Cannot set gray non-stroke color because /'P1946' is an invalid float value\n",
      "Cannot set gray non-stroke color because /'P1952' is an invalid float value\n",
      "Cannot set gray non-stroke color because /'P1962' is an invalid float value\n",
      "Cannot set gray non-stroke color because /'P1972' is an invalid float value\n",
      "Cannot set gray non-stroke color because /'P1980' is an invalid float value\n",
      "Cannot set gray non-stroke color because /'P1990' is an invalid float value\n",
      "Cannot set gray non-stroke color because /'P2000' is an invalid float value\n",
      "Cannot set gray non-stroke color because /'P2006' is an invalid float value\n",
      "Cannot set gray non-stroke color because /'P2016' is an invalid float value\n",
      "Cannot set gray non-stroke color because /'P2022' is an invalid float value\n",
      "Cannot set gray non-stroke color because /'P2032' is an invalid float value\n",
      "Cannot set gray non-stroke color because /'P2038' is an invalid float value\n",
      "Cannot set gray non-stroke color because /'P2048' is an invalid float value\n",
      "Cannot set gray non-stroke color because /'P2056' is an invalid float value\n",
      "Cannot set gray non-stroke color because /'P2066' is an invalid float value\n",
      "Cannot set gray non-stroke color because /'P2076' is an invalid float value\n",
      "Cannot set gray non-stroke color because /'P2086' is an invalid float value\n",
      "Cannot set gray non-stroke color because /'P2092' is an invalid float value\n",
      "Cannot set gray non-stroke color because /'P2098' is an invalid float value\n",
      "Cannot set gray non-stroke color because /'P2108' is an invalid float value\n",
      "Cannot set gray non-stroke color because /'P2114' is an invalid float value\n",
      "Cannot set gray non-stroke color because /'P2124' is an invalid float value\n",
      "Cannot set gray non-stroke color because /'P2134' is an invalid float value\n",
      "Cannot set gray non-stroke color because /'P2144' is an invalid float value\n",
      "Cannot set gray non-stroke color because /'P2154' is an invalid float value\n",
      "Cannot set gray non-stroke color because /'P2164' is an invalid float value\n",
      "Cannot set gray non-stroke color because /'P2174' is an invalid float value\n",
      "Cannot set gray non-stroke color because /'P2184' is an invalid float value\n",
      "Cannot set gray non-stroke color because /'P2194' is an invalid float value\n",
      "Cannot set gray non-stroke color because /'P2204' is an invalid float value\n",
      "Cannot set gray non-stroke color because /'P2214' is an invalid float value\n",
      "Cannot set gray non-stroke color because /'P2224' is an invalid float value\n",
      "Cannot set gray non-stroke color because /'P2230' is an invalid float value\n",
      "Cannot set gray non-stroke color because /'P2240' is an invalid float value\n",
      "Cannot set gray non-stroke color because /'P2248' is an invalid float value\n",
      "Cannot set gray non-stroke color because /'P2254' is an invalid float value\n",
      "Cannot set gray non-stroke color because /'P2260' is an invalid float value\n",
      "Cannot set gray non-stroke color because /'P2270' is an invalid float value\n",
      "Cannot set gray non-stroke color because /'P2280' is an invalid float value\n",
      "Cannot set gray non-stroke color because /'P2290' is an invalid float value\n",
      "Cannot set gray non-stroke color because /'P2300' is an invalid float value\n",
      "Cannot set gray non-stroke color because /'P2310' is an invalid float value\n",
      "Cannot set gray non-stroke color because /'P2320' is an invalid float value\n",
      "Cannot set gray non-stroke color because /'P2330' is an invalid float value\n",
      "Cannot set gray non-stroke color because /'P2340' is an invalid float value\n",
      "Cannot set gray non-stroke color because /'P2350' is an invalid float value\n",
      "Cannot set gray non-stroke color because /'P2360' is an invalid float value\n",
      "Cannot set gray non-stroke color because /'P2370' is an invalid float value\n",
      "Cannot set gray non-stroke color because /'P2380' is an invalid float value\n",
      "Cannot set gray non-stroke color because /'P2390' is an invalid float value\n",
      "Cannot set gray non-stroke color because /'P2400' is an invalid float value\n",
      "Cannot set gray non-stroke color because /'P2410' is an invalid float value\n",
      "Cannot set gray non-stroke color because /'P2420' is an invalid float value\n",
      "Cannot set gray non-stroke color because /'P2430' is an invalid float value\n",
      "Cannot set gray non-stroke color because /'P2440' is an invalid float value\n",
      "Cannot set gray non-stroke color because /'P2450' is an invalid float value\n",
      "Cannot set gray non-stroke color because /'P2460' is an invalid float value\n",
      "Cannot set gray non-stroke color because /'P2470' is an invalid float value\n",
      "Cannot set gray non-stroke color because /'P2478' is an invalid float value\n",
      "Cannot set gray non-stroke color because /'P2484' is an invalid float value\n",
      "Cannot set gray non-stroke color because /'P2490' is an invalid float value\n",
      "Cannot set gray non-stroke color because /'P2496' is an invalid float value\n",
      "Cannot set gray non-stroke color because /'P2506' is an invalid float value\n",
      "Cannot set gray non-stroke color because /'P2512' is an invalid float value\n",
      "/Users/maximrimer/PycharmProjects/halyk_rag/ragenv/lib/python3.10/site-packages/camelot/parsers/base.py:238: UserWarning: No tables found in table area (75.104, 161.58736000000002, 566.1282, 358.66505230769235)\n",
      "  cols, rows, v_s, h_s = self._generate_columns_and_rows(bbox, user_cols)\n",
      "/Users/maximrimer/PycharmProjects/halyk_rag/ragenv/lib/python3.10/site-packages/camelot/parsers/base.py:238: UserWarning: No tables found in table area (75.104, 53.03264, 565.39832, 171.58112391304337)\n",
      "  cols, rows, v_s, h_s = self._generate_columns_and_rows(bbox, user_cols)\n",
      "/Users/maximrimer/PycharmProjects/halyk_rag/ragenv/lib/python3.10/site-packages/camelot/parsers/base.py:238: UserWarning: No tables found in table area (60.944, 667.5, 485.72256000000004, 797.2514838709675)\n",
      "  cols, rows, v_s, h_s = self._generate_columns_and_rows(bbox, user_cols)\n",
      "/Users/maximrimer/PycharmProjects/halyk_rag/ragenv/lib/python3.10/site-packages/camelot/parsers/base.py:238: UserWarning: No tables found in table area (60.943999999999974, 117.82000000000001, 492.7238400000002, 435.50283018867907)\n",
      "  cols, rows, v_s, h_s = self._generate_columns_and_rows(bbox, user_cols)\n",
      "/Users/maximrimer/PycharmProjects/halyk_rag/ragenv/lib/python3.10/site-packages/camelot/parsers/base.py:238: UserWarning: No tables found in table area (60.944, 55.519999999999996, 551.18184, 776.2697959183671)\n",
      "  cols, rows, v_s, h_s = self._generate_columns_and_rows(bbox, user_cols)\n",
      "/Users/maximrimer/PycharmProjects/halyk_rag/ragenv/lib/python3.10/site-packages/camelot/parsers/base.py:238: UserWarning: No tables found in table area (84.70399999999998, 552.39, 547.5736000000002, 773.7718367346937)\n",
      "  cols, rows, v_s, h_s = self._generate_columns_and_rows(bbox, user_cols)\n",
      "/Users/maximrimer/PycharmProjects/halyk_rag/ragenv/lib/python3.10/site-packages/camelot/parsers/base.py:238: UserWarning: No tables found in table area (84.70399999999998, 538.95, 541.6451200000001, 776.2119999999998)\n",
      "  cols, rows, v_s, h_s = self._generate_columns_and_rows(bbox, user_cols)\n",
      "/Users/maximrimer/PycharmProjects/halyk_rag/ragenv/lib/python3.10/site-packages/camelot/parsers/base.py:238: UserWarning: No tables found in table area (84.70399999999997, 391.21000000000004, 553.3152, 776.1723076923075)\n",
      "  cols, rows, v_s, h_s = self._generate_columns_and_rows(bbox, user_cols)\n",
      "/Users/maximrimer/PycharmProjects/halyk_rag/ragenv/lib/python3.10/site-packages/camelot/parsers/base.py:238: UserWarning: No tables found in table area (84.704, 55.519999999999996, 660.97504, 776.262608695652)\n",
      "  cols, rows, v_s, h_s = self._generate_columns_and_rows(bbox, user_cols)\n",
      "/Users/maximrimer/PycharmProjects/halyk_rag/ragenv/lib/python3.10/site-packages/camelot/parsers/base.py:238: UserWarning: No tables found in table area (84.70399999999998, 270.37, 553.7449600000004, 776.2340540540538)\n",
      "  cols, rows, v_s, h_s = self._generate_columns_and_rows(bbox, user_cols)\n",
      "/Users/maximrimer/PycharmProjects/halyk_rag/ragenv/lib/python3.10/site-packages/camelot/parsers/base.py:238: UserWarning: No tables found in table area (84.704, 136.06, 553.94136, 776.2572727272725)\n",
      "  cols, rows, v_s, h_s = self._generate_columns_and_rows(bbox, user_cols)\n",
      "/Users/maximrimer/PycharmProjects/halyk_rag/ragenv/lib/python3.10/site-packages/camelot/parsers/base.py:238: UserWarning: No tables found in table area (84.704, 82.184, 554.0216, 776.1426086956519)\n",
      "  cols, rows, v_s, h_s = self._generate_columns_and_rows(bbox, user_cols)\n",
      "/Users/maximrimer/PycharmProjects/halyk_rag/ragenv/lib/python3.10/site-packages/camelot/parsers/base.py:238: UserWarning: No tables found in table area (84.70399999999998, 498.51, 553.4027200000004, 764.6761348314606)\n",
      "  cols, rows, v_s, h_s = self._generate_columns_and_rows(bbox, user_cols)\n",
      "/Users/maximrimer/PycharmProjects/halyk_rag/ragenv/lib/python3.10/site-packages/camelot/parsers/base.py:238: UserWarning: No tables found in table area (84.70399999999997, 283.69, 552.5942400000001, 776.1632727272724)\n",
      "  cols, rows, v_s, h_s = self._generate_columns_and_rows(bbox, user_cols)\n",
      "Cannot set gray non-stroke color because /'P799' is an invalid float value\n",
      "Cannot set gray non-stroke color because /'P805' is an invalid float value\n",
      "Cannot set gray non-stroke color because /'P811' is an invalid float value\n",
      "Cannot set gray non-stroke color because /'P817' is an invalid float value\n",
      "Cannot set gray non-stroke color because /'P823' is an invalid float value\n",
      "Cannot set gray non-stroke color because /'P829' is an invalid float value\n",
      "Cannot set gray non-stroke color because /'P835' is an invalid float value\n",
      "Cannot set gray non-stroke color because /'P841' is an invalid float value\n",
      "Cannot set gray non-stroke color because /'P847' is an invalid float value\n",
      "Cannot set gray non-stroke color because /'P853' is an invalid float value\n",
      "Cannot set gray non-stroke color because /'P859' is an invalid float value\n",
      "Cannot set gray non-stroke color because /'P865' is an invalid float value\n",
      "Cannot set gray non-stroke color because /'P1792' is an invalid float value\n",
      "Cannot set gray non-stroke color because /'P1794' is an invalid float value\n",
      "Cannot set gray non-stroke color because /'P1796' is an invalid float value\n",
      "Cannot set gray non-stroke color because /'P1798' is an invalid float value\n",
      "Cannot set gray non-stroke color because /'P1800' is an invalid float value\n",
      "Cannot set gray non-stroke color because /'P1802' is an invalid float value\n",
      "Cannot set gray non-stroke color because /'P1803' is an invalid float value\n",
      "Cannot set gray non-stroke color because /'P1804' is an invalid float value\n",
      "Cannot set gray non-stroke color because /'P1806' is an invalid float value\n",
      "Cannot set gray non-stroke color because /'P1808' is an invalid float value\n",
      "Cannot set gray non-stroke color because /'P1810' is an invalid float value\n",
      "Cannot set gray non-stroke color because /'P1812' is an invalid float value\n",
      "Cannot set gray non-stroke color because /'P1814' is an invalid float value\n",
      "Cannot set gray non-stroke color because /'P1816' is an invalid float value\n",
      "Cannot set gray non-stroke color because /'P1818' is an invalid float value\n",
      "Cannot set gray non-stroke color because /'P1819' is an invalid float value\n",
      "Cannot set gray non-stroke color because /'P1821' is an invalid float value\n",
      "Cannot set gray non-stroke color because /'P1823' is an invalid float value\n",
      "Cannot set gray non-stroke color because /'P1825' is an invalid float value\n",
      "Cannot set gray non-stroke color because /'P1827' is an invalid float value\n",
      "Cannot set gray non-stroke color because /'P1828' is an invalid float value\n",
      "Cannot set gray non-stroke color because /'P1830' is an invalid float value\n",
      "Cannot set gray non-stroke color because /'P1832' is an invalid float value\n",
      "Cannot set gray non-stroke color because /'P1833' is an invalid float value\n",
      "Cannot set gray non-stroke color because /'P1834' is an invalid float value\n",
      "Cannot set gray non-stroke color because /'P1836' is an invalid float value\n",
      "Cannot set gray non-stroke color because /'P1837' is an invalid float value\n",
      "Cannot set gray non-stroke color because /'P1839' is an invalid float value\n",
      "Cannot set gray non-stroke color because /'P1841' is an invalid float value\n",
      "Cannot set gray non-stroke color because /'P1842' is an invalid float value\n",
      "Cannot set gray non-stroke color because /'P1844' is an invalid float value\n",
      "Cannot set gray non-stroke color because /'P1845' is an invalid float value\n",
      "Cannot set gray non-stroke color because /'P1847' is an invalid float value\n",
      "Cannot set gray non-stroke color because /'P1849' is an invalid float value\n",
      "Cannot set gray non-stroke color because /'P1850' is an invalid float value\n",
      "Cannot set gray non-stroke color because /'P1851' is an invalid float value\n",
      "Cannot set gray non-stroke color because /'P1852' is an invalid float value\n",
      "Cannot set gray non-stroke color because /'P1853' is an invalid float value\n",
      "Cannot set gray non-stroke color because /'P1854' is an invalid float value\n",
      "Cannot set gray non-stroke color because /'P1856' is an invalid float value\n",
      "Cannot set gray non-stroke color because /'P1858' is an invalid float value\n",
      "Cannot set gray non-stroke color because /'P1860' is an invalid float value\n",
      "Cannot set gray non-stroke color because /'P1861' is an invalid float value\n",
      "Cannot set gray non-stroke color because /'P1862' is an invalid float value\n",
      "Cannot set gray non-stroke color because /'P1863' is an invalid float value\n",
      "Cannot set gray non-stroke color because /'P1864' is an invalid float value\n",
      "Cannot set gray non-stroke color because /'P1865' is an invalid float value\n",
      "Cannot set gray non-stroke color because /'P1867' is an invalid float value\n",
      "Cannot set gray non-stroke color because /'P1868' is an invalid float value\n",
      "Cannot set gray non-stroke color because /'P1869' is an invalid float value\n",
      "Cannot set gray non-stroke color because /'P1870' is an invalid float value\n",
      "Cannot set gray non-stroke color because /'P1872' is an invalid float value\n",
      "Cannot set gray non-stroke color because /'P1873' is an invalid float value\n",
      "Cannot set gray non-stroke color because /'P1874' is an invalid float value\n",
      "Cannot set gray non-stroke color because /'P1875' is an invalid float value\n",
      "Cannot set gray non-stroke color because /'P1876' is an invalid float value\n",
      "Cannot set gray non-stroke color because /'P1878' is an invalid float value\n",
      "Cannot set gray non-stroke color because /'P1879' is an invalid float value\n",
      "Cannot set gray non-stroke color because /'P1880' is an invalid float value\n",
      "Cannot set gray non-stroke color because /'P1881' is an invalid float value\n",
      "Cannot set gray non-stroke color because /'P1882' is an invalid float value\n",
      "Cannot set gray non-stroke color because /'P1884' is an invalid float value\n",
      "Cannot set gray non-stroke color because /'P1886' is an invalid float value\n",
      "Cannot set gray non-stroke color because /'P1887' is an invalid float value\n",
      "Cannot set gray non-stroke color because /'P1889' is an invalid float value\n",
      "Cannot set gray non-stroke color because /'P1890' is an invalid float value\n",
      "Cannot set gray non-stroke color because /'P1891' is an invalid float value\n",
      "Cannot set gray non-stroke color because /'P1892' is an invalid float value\n",
      "Cannot set gray non-stroke color because /'P1902' is an invalid float value\n",
      "Cannot set gray non-stroke color because /'P1912' is an invalid float value\n",
      "Cannot set gray non-stroke color because /'P1918' is an invalid float value\n",
      "Cannot set gray non-stroke color because /'P1924' is an invalid float value\n",
      "Cannot set gray non-stroke color because /'P1930' is an invalid float value\n",
      "Cannot set gray non-stroke color because /'P1936' is an invalid float value\n",
      "Cannot set gray non-stroke color because /'P1946' is an invalid float value\n",
      "Cannot set gray non-stroke color because /'P1952' is an invalid float value\n",
      "Cannot set gray non-stroke color because /'P1962' is an invalid float value\n",
      "Cannot set gray non-stroke color because /'P1972' is an invalid float value\n",
      "Cannot set gray non-stroke color because /'P1980' is an invalid float value\n",
      "Cannot set gray non-stroke color because /'P1990' is an invalid float value\n",
      "Cannot set gray non-stroke color because /'P2000' is an invalid float value\n",
      "Cannot set gray non-stroke color because /'P2006' is an invalid float value\n",
      "Cannot set gray non-stroke color because /'P2016' is an invalid float value\n",
      "Cannot set gray non-stroke color because /'P2022' is an invalid float value\n",
      "Cannot set gray non-stroke color because /'P2032' is an invalid float value\n",
      "Cannot set gray non-stroke color because /'P2038' is an invalid float value\n",
      "Cannot set gray non-stroke color because /'P2048' is an invalid float value\n",
      "Cannot set gray non-stroke color because /'P2056' is an invalid float value\n",
      "Cannot set gray non-stroke color because /'P2066' is an invalid float value\n",
      "Cannot set gray non-stroke color because /'P2076' is an invalid float value\n",
      "Cannot set gray non-stroke color because /'P2086' is an invalid float value\n",
      "Cannot set gray non-stroke color because /'P2092' is an invalid float value\n",
      "Cannot set gray non-stroke color because /'P2098' is an invalid float value\n",
      "Cannot set gray non-stroke color because /'P2108' is an invalid float value\n",
      "Cannot set gray non-stroke color because /'P2114' is an invalid float value\n",
      "Cannot set gray non-stroke color because /'P2124' is an invalid float value\n",
      "Cannot set gray non-stroke color because /'P2134' is an invalid float value\n",
      "Cannot set gray non-stroke color because /'P2144' is an invalid float value\n",
      "Cannot set gray non-stroke color because /'P2154' is an invalid float value\n",
      "Cannot set gray non-stroke color because /'P2164' is an invalid float value\n",
      "Cannot set gray non-stroke color because /'P2174' is an invalid float value\n",
      "Cannot set gray non-stroke color because /'P2184' is an invalid float value\n",
      "Cannot set gray non-stroke color because /'P2194' is an invalid float value\n",
      "Cannot set gray non-stroke color because /'P2204' is an invalid float value\n",
      "Cannot set gray non-stroke color because /'P2214' is an invalid float value\n",
      "Cannot set gray non-stroke color because /'P2224' is an invalid float value\n",
      "Cannot set gray non-stroke color because /'P2230' is an invalid float value\n",
      "Cannot set gray non-stroke color because /'P2240' is an invalid float value\n",
      "Cannot set gray non-stroke color because /'P2248' is an invalid float value\n",
      "Cannot set gray non-stroke color because /'P2254' is an invalid float value\n",
      "Cannot set gray non-stroke color because /'P2260' is an invalid float value\n",
      "Cannot set gray non-stroke color because /'P2270' is an invalid float value\n",
      "Cannot set gray non-stroke color because /'P2280' is an invalid float value\n",
      "Cannot set gray non-stroke color because /'P2290' is an invalid float value\n",
      "Cannot set gray non-stroke color because /'P2300' is an invalid float value\n",
      "Cannot set gray non-stroke color because /'P2310' is an invalid float value\n",
      "Cannot set gray non-stroke color because /'P2320' is an invalid float value\n",
      "Cannot set gray non-stroke color because /'P2330' is an invalid float value\n",
      "Cannot set gray non-stroke color because /'P2340' is an invalid float value\n",
      "Cannot set gray non-stroke color because /'P2350' is an invalid float value\n",
      "Cannot set gray non-stroke color because /'P2360' is an invalid float value\n",
      "Cannot set gray non-stroke color because /'P2370' is an invalid float value\n",
      "Cannot set gray non-stroke color because /'P2380' is an invalid float value\n",
      "Cannot set gray non-stroke color because /'P2390' is an invalid float value\n",
      "Cannot set gray non-stroke color because /'P2400' is an invalid float value\n",
      "Cannot set gray non-stroke color because /'P2410' is an invalid float value\n",
      "Cannot set gray non-stroke color because /'P2420' is an invalid float value\n",
      "Cannot set gray non-stroke color because /'P2430' is an invalid float value\n",
      "Cannot set gray non-stroke color because /'P2440' is an invalid float value\n",
      "Cannot set gray non-stroke color because /'P2450' is an invalid float value\n",
      "Cannot set gray non-stroke color because /'P2460' is an invalid float value\n",
      "Cannot set gray non-stroke color because /'P2470' is an invalid float value\n",
      "Cannot set gray non-stroke color because /'P2478' is an invalid float value\n",
      "Cannot set gray non-stroke color because /'P2484' is an invalid float value\n",
      "Cannot set gray non-stroke color because /'P2490' is an invalid float value\n",
      "Cannot set gray non-stroke color because /'P2496' is an invalid float value\n",
      "Cannot set gray non-stroke color because /'P2506' is an invalid float value\n",
      "Cannot set gray non-stroke color because /'P2512' is an invalid float value\n",
      "/Users/maximrimer/PycharmProjects/halyk_rag/ragenv/lib/python3.10/site-packages/camelot/parsers/base.py:238: UserWarning: No tables found in table area (60.944, 667.5, 485.72256000000004, 797.2514838709675)\n",
      "  cols, rows, v_s, h_s = self._generate_columns_and_rows(bbox, user_cols)\n",
      "/Users/maximrimer/PycharmProjects/halyk_rag/ragenv/lib/python3.10/site-packages/camelot/parsers/base.py:238: UserWarning: No tables found in table area (60.943999999999974, 117.82000000000001, 492.7238400000002, 435.50283018867907)\n",
      "  cols, rows, v_s, h_s = self._generate_columns_and_rows(bbox, user_cols)\n",
      "/Users/maximrimer/PycharmProjects/halyk_rag/ragenv/lib/python3.10/site-packages/camelot/parsers/base.py:238: UserWarning: No tables found in table area (60.944, 55.519999999999996, 551.18184, 776.2697959183671)\n",
      "  cols, rows, v_s, h_s = self._generate_columns_and_rows(bbox, user_cols)\n",
      "/Users/maximrimer/PycharmProjects/halyk_rag/ragenv/lib/python3.10/site-packages/camelot/parsers/base.py:238: UserWarning: No tables found in table area (84.70399999999998, 552.39, 547.5736000000002, 773.7718367346937)\n",
      "  cols, rows, v_s, h_s = self._generate_columns_and_rows(bbox, user_cols)\n",
      "/Users/maximrimer/PycharmProjects/halyk_rag/ragenv/lib/python3.10/site-packages/camelot/parsers/base.py:238: UserWarning: No tables found in table area (84.70399999999998, 538.95, 541.6451200000001, 776.2119999999998)\n",
      "  cols, rows, v_s, h_s = self._generate_columns_and_rows(bbox, user_cols)\n",
      "/Users/maximrimer/PycharmProjects/halyk_rag/ragenv/lib/python3.10/site-packages/camelot/parsers/base.py:238: UserWarning: No tables found in table area (84.70399999999997, 391.21000000000004, 553.3152, 776.1723076923075)\n",
      "  cols, rows, v_s, h_s = self._generate_columns_and_rows(bbox, user_cols)\n",
      "/Users/maximrimer/PycharmProjects/halyk_rag/ragenv/lib/python3.10/site-packages/camelot/parsers/base.py:238: UserWarning: No tables found in table area (84.704, 55.519999999999996, 660.97504, 776.262608695652)\n",
      "  cols, rows, v_s, h_s = self._generate_columns_and_rows(bbox, user_cols)\n",
      "/Users/maximrimer/PycharmProjects/halyk_rag/ragenv/lib/python3.10/site-packages/camelot/parsers/base.py:238: UserWarning: No tables found in table area (84.70399999999998, 270.37, 553.7449600000004, 776.2340540540538)\n",
      "  cols, rows, v_s, h_s = self._generate_columns_and_rows(bbox, user_cols)\n",
      "/Users/maximrimer/PycharmProjects/halyk_rag/ragenv/lib/python3.10/site-packages/camelot/parsers/base.py:238: UserWarning: No tables found in table area (84.704, 136.06, 553.94136, 776.2572727272725)\n",
      "  cols, rows, v_s, h_s = self._generate_columns_and_rows(bbox, user_cols)\n",
      "/Users/maximrimer/PycharmProjects/halyk_rag/ragenv/lib/python3.10/site-packages/camelot/parsers/base.py:238: UserWarning: No tables found in table area (84.704, 82.184, 554.0216, 776.1426086956519)\n",
      "  cols, rows, v_s, h_s = self._generate_columns_and_rows(bbox, user_cols)\n",
      "/Users/maximrimer/PycharmProjects/halyk_rag/ragenv/lib/python3.10/site-packages/camelot/parsers/base.py:238: UserWarning: No tables found in table area (84.70399999999998, 498.51, 553.4027200000004, 764.6761348314606)\n",
      "  cols, rows, v_s, h_s = self._generate_columns_and_rows(bbox, user_cols)\n",
      "/Users/maximrimer/PycharmProjects/halyk_rag/ragenv/lib/python3.10/site-packages/camelot/parsers/base.py:238: UserWarning: No tables found in table area (84.70399999999997, 283.69, 552.5942400000001, 776.1632727272724)\n",
      "  cols, rows, v_s, h_s = self._generate_columns_and_rows(bbox, user_cols)\n",
      "/Users/maximrimer/PycharmProjects/halyk_rag/ragenv/lib/python3.10/site-packages/camelot/utils.py:1217: UserWarning:   (503.14, 506.65) does not lie in column range (91.48155985489723, 503.0585973397824)\n",
      "  warnings.warn(\n",
      "/Users/maximrimer/PycharmProjects/halyk_rag/ragenv/lib/python3.10/site-packages/camelot/parsers/base.py:238: UserWarning: No tables found in table area (47.36, 343.29735999999997, 551.45, 529.2465907692308)\n",
      "  cols, rows, v_s, h_s = self._generate_columns_and_rows(bbox, user_cols)\n",
      "/Users/maximrimer/PycharmProjects/halyk_rag/ragenv/lib/python3.10/site-packages/camelot/parsers/base.py:238: UserWarning: No tables found in table area (64.664, 356.61735999999996, 482.57, 560.2843807692307)\n",
      "  cols, rows, v_s, h_s = self._generate_columns_and_rows(bbox, user_cols)\n",
      "/Users/maximrimer/PycharmProjects/halyk_rag/ragenv/lib/python3.10/site-packages/camelot/parsers/base.py:238: UserWarning: No tables found in table area (46.64, 546.35736, 552.19088, 701.2687393103447)\n",
      "  cols, rows, v_s, h_s = self._generate_columns_and_rows(bbox, user_cols)\n",
      "/Users/maximrimer/PycharmProjects/halyk_rag/ragenv/lib/python3.10/site-packages/camelot/parsers/base.py:238: UserWarning: No tables found in table area (46.64, 564.23736, 551.9641199999999, 739.9705599999999)\n",
      "  cols, rows, v_s, h_s = self._generate_columns_and_rows(bbox, user_cols)\n",
      "/Users/maximrimer/PycharmProjects/halyk_rag/ragenv/lib/python3.10/site-packages/camelot/parsers/base.py:238: UserWarning: No tables found in table area (46.64, 685.34736, 551.8364399999998, 855.6873599999998)\n",
      "  cols, rows, v_s, h_s = self._generate_columns_and_rows(bbox, user_cols)\n",
      "/Users/maximrimer/PycharmProjects/halyk_rag/ragenv/lib/python3.10/site-packages/camelot/parsers/base.py:238: UserWarning: No tables found in table area (46.64, 579.2673599999999, 552.16556, 736.0851377777776)\n",
      "  cols, rows, v_s, h_s = self._generate_columns_and_rows(bbox, user_cols)\n",
      "/Users/maximrimer/PycharmProjects/halyk_rag/ragenv/lib/python3.10/site-packages/camelot/parsers/base.py:238: UserWarning: No tables found in table area (0, 0, 595.32, 841.92)\n",
      "  cols, rows, v_s, h_s = self._generate_columns_and_rows(bbox, user_cols)\n",
      "/Users/maximrimer/PycharmProjects/halyk_rag/ragenv/lib/python3.10/site-packages/camelot/parsers/base.py:238: UserWarning: No tables found in table area (0, 0, 595.32, 841.92)\n",
      "  cols, rows, v_s, h_s = self._generate_columns_and_rows(bbox, user_cols)\n",
      "/Users/maximrimer/PycharmProjects/halyk_rag/ragenv/lib/python3.10/site-packages/camelot/parsers/base.py:238: UserWarning: No tables found in table area (0, 0, 595.276, 841.89)\n",
      "  cols, rows, v_s, h_s = self._generate_columns_and_rows(bbox, user_cols)\n",
      "/Users/maximrimer/PycharmProjects/halyk_rag/ragenv/lib/python3.10/site-packages/camelot/parsers/base.py:238: UserWarning: No tables found in table area (41.023599999999995, 577.1268000000003, 542.4540000000003, 804.7280352941177)\n",
      "  cols, rows, v_s, h_s = self._generate_columns_and_rows(bbox, user_cols)\n"
     ]
    }
   ],
   "source": [
    "items = create_all_metadata(pdf_folder=pdf_dir)"
   ]
  },
  {
   "cell_type": "code",
   "execution_count": 18,
   "metadata": {},
   "outputs": [],
   "source": [
    "uniq_docs = []\n",
    "uniq_chunks = []\n",
    "\n",
    "for item in items:\n",
    "    if item.get('doc_id') not in uniq_docs:\n",
    "        uniq_docs.append(item.get('doc_id'))\n",
    "    if item.get('chunk_id') not in uniq_chunks:\n",
    "        uniq_chunks.append(item.get('chunk_id'))"
   ]
  },
  {
   "cell_type": "markdown",
   "metadata": {},
   "source": [
    "### Обработка изображений"
   ]
  },
  {
   "cell_type": "code",
   "execution_count": 68,
   "metadata": {},
   "outputs": [],
   "source": [
    "unique_image_pages = defaultdict(set)"
   ]
  },
  {
   "cell_type": "code",
   "execution_count": 70,
   "metadata": {},
   "outputs": [],
   "source": [
    "for item in items:\n",
    "    doc_name = item.get('source_pdf', '')\n",
    "    if str(item.get('type', '')).lower() == 'figure':\n",
    "        page = item.get('page')\n",
    "        if page is not None:\n",
    "            unique_image_pages[doc_name].add(int(page))"
   ]
  },
  {
   "cell_type": "code",
   "execution_count": 71,
   "metadata": {},
   "outputs": [],
   "source": [
    "unique_image_pages = {k: sorted(v) for k, v in unique_image_pages.items()}"
   ]
  },
  {
   "cell_type": "code",
   "execution_count": 73,
   "metadata": {},
   "outputs": [],
   "source": [
    "def render_page_png(pdf_path: str, page: int, dpi: int = 220, \n",
    "                    max_side: int = 1600, out_path=image_output_path) -> str:\n",
    "    doc = fitz.open(pdf_path)\n",
    "    try:\n",
    "        pg = doc[page-1]\n",
    "        scale = dpi / 72.0\n",
    "        pix = pg.get_pixmap(matrix=fitz.Matrix(scale, scale), alpha=False)\n",
    "        \n",
    "        output_folder = out_path + pdf_path.split('/')[-1].split('.')[0]\n",
    "        if not os.path.exists(output_folder):\n",
    "            os.mkdir(output_folder)\n",
    "        out_path_new = output_folder + '/' + f\"p_{page}.png\"\n",
    "        pix.save(out_path_new)\n",
    "    finally:\n",
    "        doc.close()\n",
    "\n",
    "    im = Image.open(out_path_new)\n",
    "    w, h = im.size\n",
    "    m = max(w, h)\n",
    "    if m > max_side:\n",
    "        ratio = max_side / m\n",
    "        im = im.resize((int(w*ratio), int(h*ratio)), Image.LANCZOS)\n",
    "        im.save(out_path_new, optimize=True, quality=100)\n",
    "    return out_path_new"
   ]
  },
  {
   "cell_type": "code",
   "execution_count": 65,
   "metadata": {},
   "outputs": [],
   "source": [
    "def encode_image(image_path):\n",
    "    \"\"\"Getting the base64 string\"\"\"\n",
    "    with open(image_path, \"rb\") as image_file:\n",
    "        return base64.b64encode(image_file.read()).decode(\"utf-8\")\n",
    "\n",
    "\n",
    "def image_summarize(img_base64, prompt):\n",
    "    \"\"\"Image summary\"\"\"\n",
    "    chat = ChatOpenAI(model=\"gpt-4o\", max_tokens=2048)\n",
    "\n",
    "    msg = chat.invoke(\n",
    "        [\n",
    "            HumanMessage(\n",
    "                content=[\n",
    "                    {\"type\": \"text\", \"text\": prompt},\n",
    "                    {\n",
    "                        \"type\": \"image_url\",\n",
    "                        \"image_url\": {\"url\": f\"data:image/jpeg;base64,{img_base64}\"},\n",
    "                    },\n",
    "                ]\n",
    "            )\n",
    "        ]\n",
    "    )\n",
    "    return msg.content"
   ]
  },
  {
   "cell_type": "code",
   "execution_count": 66,
   "metadata": {},
   "outputs": [],
   "source": [
    "# Prompt\n",
    "prompt = \"\"\"You are an assistant tasked with summarizing images for retrieval. \\\n",
    "These summaries will be embedded and used to retrieve the raw image. \\\n",
    "Give a concise summary of the image that is well optimized for retrieval in russian language strictly.\"\"\""
   ]
  },
  {
   "cell_type": "code",
   "execution_count": null,
   "metadata": {},
   "outputs": [],
   "source": [
    "unique_image_pages['../instructions/Dataset/Air Astana/airap_2024_rus.pdf']"
   ]
  },
  {
   "cell_type": "code",
   "execution_count": 83,
   "metadata": {},
   "outputs": [],
   "source": [
    "used_pdfs = ['../instructions/Dataset/Air Astana/airap_2024_rus.pdf',\n",
    "'../instructions/Dataset/AsiaAgroFood/aafd_af_4_2025.pdf',\n",
    "'../instructions/Dataset/AsiaAgroFood/aafdf5_2024_cons_rus.pdf',\n",
    "'../instructions/Dataset/BAST/bastp_2024_rus.pdf',\n",
    "'../instructions/Dataset/BRK/brkz_af_4_2025.pdf',\n",
    "'../instructions/Dataset/BRK/brkzf6_2024_cons_rus.pdf',\n",
    "'../instructions/Dataset/Bass Gold/fpst_af_4_2025.pdf',\n",
    "'../instructions/Dataset/Bass Gold/fpstp_2024_rus.pdf',\n",
    "'../instructions/Dataset/Bayan Sulu/bsul_af_4_2025.pdf',\n",
    "'../instructions/Dataset/Bayan Sulu/bsulp_2024_rus.pdf',\n",
    "'../instructions/Dataset/Faeton/fatn_af_4_2025.pdf',\n",
    "'../instructions/Dataset/Faeton/fatnp_2024_rus.pdf',\n",
    "'../instructions/Dataset/KazTelecom/kztk_af_4_2025.pdf',\n",
    "'../instructions/Dataset/KazTelecom/kztkf5m1_2025_cons_rus_pdf.pdf']\n"
   ]
  },
  {
   "cell_type": "code",
   "execution_count": 84,
   "metadata": {},
   "outputs": [
    {
     "name": "stderr",
     "output_type": "stream",
     "text": [
      "Number of docs:   0%|          | 0/26 [00:00<?, ?it/s]"
     ]
    },
    {
     "name": "stdout",
     "output_type": "stream",
     "text": [
      "../instructions/Dataset/KazTelecom/kztkp_2024_rus.pdf\n"
     ]
    },
    {
     "name": "stderr",
     "output_type": "stream",
     "text": [
      "Number of docs:  58%|█████▊    | 15/26 [10:34<07:45, 42.30s/it]"
     ]
    },
    {
     "name": "stdout",
     "output_type": "stream",
     "text": [
      "../instructions/Dataset/Maten Petroleum/matnp_2024_rus.pdf\n"
     ]
    },
    {
     "name": "stderr",
     "output_type": "stream",
     "text": [
      "Number of docs:  62%|██████▏   | 16/26 [11:24<07:09, 42.94s/it]"
     ]
    },
    {
     "name": "stdout",
     "output_type": "stream",
     "text": [
      "../instructions/Dataset/Oasis Logistics/oasi_af_4_2025.pdf\n"
     ]
    },
    {
     "name": "stderr",
     "output_type": "stream",
     "text": [
      "Number of docs:  65%|██████▌   | 17/26 [11:52<06:11, 41.33s/it]"
     ]
    },
    {
     "name": "stdout",
     "output_type": "stream",
     "text": [
      "../instructions/Dataset/Oasis Logistics/oasif6_2024_rus.pdf\n"
     ]
    },
    {
     "name": "stderr",
     "output_type": "stream",
     "text": [
      "Number of docs:  69%|██████▉   | 18/26 [16:21<09:38, 72.33s/it]"
     ]
    },
    {
     "name": "stdout",
     "output_type": "stream",
     "text": [
      "../instructions/Dataset/Qazaqstan Temir Joly/tmjl_2024_rus.pdf\n"
     ]
    },
    {
     "name": "stderr",
     "output_type": "stream",
     "text": [
      "Number of docs:  73%|███████▎  | 19/26 [28:43<21:10, 181.52s/it]"
     ]
    },
    {
     "name": "stdout",
     "output_type": "stream",
     "text": [
      "../instructions/Dataset/Qazaqstan Temir Joly/tmjl_af_1_2025.pdf\n"
     ]
    },
    {
     "name": "stderr",
     "output_type": "stream",
     "text": [
      "Number of docs:  77%|███████▋  | 20/26 [28:49<14:49, 148.32s/it]"
     ]
    },
    {
     "name": "stdout",
     "output_type": "stream",
     "text": [
      "../instructions/Dataset/Qazaqstan Temir Joly/tmjlf6_2024_cons_rus.pdf\n"
     ]
    },
    {
     "name": "stderr",
     "output_type": "stream",
     "text": [
      "Number of docs:  81%|████████  | 21/26 [29:33<10:31, 126.26s/it]"
     ]
    },
    {
     "name": "stdout",
     "output_type": "stream",
     "text": [
      "../instructions/Dataset/Rakhat/raht_af_4_2025.pdf\n"
     ]
    },
    {
     "name": "stderr",
     "output_type": "stream",
     "text": [
      "Number of docs:  85%|████████▍ | 22/26 [30:48<07:37, 114.27s/it]"
     ]
    },
    {
     "name": "stdout",
     "output_type": "stream",
     "text": [
      "../instructions/Dataset/Rakhat/rahtp_2024_rus.pdf\n"
     ]
    },
    {
     "name": "stderr",
     "output_type": "stream",
     "text": [
      "Number of docs:  88%|████████▊ | 23/26 [35:17<07:38, 152.95s/it]"
     ]
    },
    {
     "name": "stdout",
     "output_type": "stream",
     "text": [
      "../instructions/Dataset/Teniz Capital/tcib_af_4_2025.pdf\n"
     ]
    },
    {
     "name": "stderr",
     "output_type": "stream",
     "text": [
      "Number of docs:  92%|█████████▏| 24/26 [35:52<04:03, 121.90s/it]"
     ]
    },
    {
     "name": "stdout",
     "output_type": "stream",
     "text": [
      "../instructions/Dataset/Teniz Capital/tcibp_2024_rus.pdf\n"
     ]
    },
    {
     "name": "stderr",
     "output_type": "stream",
     "text": [
      "Number of docs:  96%|█████████▌| 25/26 [42:43<03:20, 200.94s/it]"
     ]
    },
    {
     "name": "stdout",
     "output_type": "stream",
     "text": [
      "../instructions/Dataset/Transtelecom/tcom_af_4_2025.pdf\n"
     ]
    },
    {
     "name": "stderr",
     "output_type": "stream",
     "text": [
      "Number of docs: 100%|██████████| 26/26 [43:07<00:00, 99.52s/it] \n"
     ]
    }
   ],
   "source": [
    "for doc_path, pages in tqdm.tqdm(unique_image_pages.items(), desc='Number of docs'):\n",
    "    if doc_path in used_pdfs:\n",
    "        continue\n",
    "    print(doc_path)\n",
    "    for p in pages:\n",
    "        test_image_path = render_page_png(doc_path,\n",
    "                                          page=p)\n",
    "        encoded_image = encode_image(test_image_path)\n",
    "        summary = image_summarize(encoded_image, prompt=prompt)\n",
    "        for item in items:\n",
    "            if item['source_pdf'] == doc_path and item['type'] == 'figure' and item['page'] == p:\n",
    "                item['text'] = summary\n",
    "                item['image_b_64'] = encoded_image"
   ]
  },
  {
   "cell_type": "markdown",
   "metadata": {},
   "source": [
    "### Добавление контекста"
   ]
  },
  {
   "cell_type": "code",
   "execution_count": 85,
   "metadata": {},
   "outputs": [],
   "source": [
    "SUMMARY_PROMPT = \"\"\"\n",
    "Here is the full document\n",
    "<document>\n",
    "{doc_content}\n",
    "</document>\n",
    "\n",
    "Please give it a strict and precise summary in a range of 2500 to 3000 words in russian language for the purposes \n",
    "of using it as a knowledge base for retrieval of the chunks. Answer only with the strict and precise summary and nothing else and keep the content relevant.\n",
    "\"\"\""
   ]
  },
  {
   "cell_type": "code",
   "execution_count": 86,
   "metadata": {},
   "outputs": [],
   "source": [
    "DOCUMENT_CONTEXT_PROMPT = \"\"\"\n",
    "<document>\n",
    "{doc_content}\n",
    "</document>\n",
    "\"\"\"\n",
    "\n",
    "CHUNK_CONTEXT_PROMPT = \"\"\"\n",
    "Here is the chunk we want to situate within the whole document\n",
    "<chunk>\n",
    "{chunk_content}\n",
    "</chunk>\n",
    "\n",
    "Please give a short succinct context in russian language to situate this chunk within the overall document for the purposes \n",
    "of improving search retrieval of the chunk. Answer only with the succinct context and nothing else.\n",
    "\"\"\""
   ]
  },
  {
   "cell_type": "code",
   "execution_count": 92,
   "metadata": {},
   "outputs": [],
   "source": [
    "def create_summary(pdf_path: str, summary_prompt: str):\n",
    "    with pdfplumber.PDF(open(file=pdf_path, mode='rb')) as pdf:\n",
    "        pages = [page.extract_text() for page in pdf.pages]\n",
    "    doc_text = ''.join(pages)\n",
    "    doc_text = doc_text.replace('\\n','')\n",
    "\n",
    "    if len(doc_text) >= 200000:\n",
    "        doc_text = doc_text[:199000]\n",
    "\n",
    "    with client.messages.stream(\n",
    "        model=\"claude-3-5-haiku-20241022\",\n",
    "        max_tokens=3500,\n",
    "        temperature=0.0,\n",
    "        messages=[\n",
    "            {\n",
    "                \"role\": \"user\", \n",
    "                \"content\": [\n",
    "                    {\n",
    "                        \"type\": \"text\",\n",
    "                        \"text\": summary_prompt.format(doc_content=doc_text)\n",
    "                    }\n",
    "                ]\n",
    "            }\n",
    "        ]\n",
    "    ) as stream:\n",
    "        chunks = []\n",
    "        for delta in stream.text_stream:\n",
    "            chunks.append(delta)\n",
    "        final_msg = stream.get_final_message()\n",
    "    return \"\".join(chunks)"
   ]
  },
  {
   "cell_type": "code",
   "execution_count": null,
   "metadata": {},
   "outputs": [],
   "source": [
    "docs_summary = {}\n",
    "\n",
    "pdf_paths = sorted([str(p) for p in Path(pdf_dir).rglob(\"*.pdf\")])"
   ]
  },
  {
   "cell_type": "code",
   "execution_count": null,
   "metadata": {},
   "outputs": [],
   "source": [
    "for pdf in tqdm.tqdm(pdf_paths, desc=\"Creating summary for each document\"):\n",
    "    if pdf in docs_summary.keys():\n",
    "        continue\n",
    "    docs_summary[pdf] = create_summary(pdf_path=pdf, summary_prompt=SUMMARY_PROMPT)\n",
    "    time.sleep(40)"
   ]
  },
  {
   "cell_type": "code",
   "execution_count": 98,
   "metadata": {},
   "outputs": [],
   "source": [
    "def situate_context(doc: str, chunk: str) -> str:\n",
    "    response = client.messages.create(\n",
    "        model=\"claude-3-5-haiku-20241022\",\n",
    "        max_tokens=800,\n",
    "        temperature=0.0,\n",
    "        messages=[\n",
    "            {\n",
    "                \"role\": \"user\", \n",
    "                \"content\": [\n",
    "                    {\n",
    "                        \"type\": \"text\",\n",
    "                        \"text\": DOCUMENT_CONTEXT_PROMPT.format(doc_content=doc),\n",
    "                        \"cache_control\": {\"type\": \"ephemeral\", \"ttl\": \"1h\"} \n",
    "                    },\n",
    "                    {\n",
    "                        \"type\": \"text\",\n",
    "                        \"text\": CHUNK_CONTEXT_PROMPT.format(chunk_content=chunk),\n",
    "                    }\n",
    "                ]\n",
    "            }\n",
    "        ],\n",
    "        extra_headers={\"anthropic-beta\": \"prompt-caching-2024-07-31\"}\n",
    "    )\n",
    "    return response"
   ]
  },
  {
   "cell_type": "code",
   "execution_count": 132,
   "metadata": {},
   "outputs": [
    {
     "name": "stderr",
     "output_type": "stream",
     "text": [
      "Making context for each chunk: 100%|██████████| 4822/4822 [34:08<00:00,  2.35it/s]  \n"
     ]
    }
   ],
   "source": [
    "for item in tqdm.tqdm(items, desc=\"Making context for each chunk\"):\n",
    "    if item.get('contextualized_content'):\n",
    "        continue\n",
    "    doc_path = item.get('source_pdf')\n",
    "    doc_content = docs_summary[doc_path]\n",
    "    chunk_content = item['text']\n",
    "    if not chunk_content:\n",
    "        continue\n",
    "    else:\n",
    "        response = situate_context(doc_content, chunk_content)\n",
    "        item['contextualized_content'] = response"
   ]
  },
  {
   "cell_type": "code",
   "execution_count": 107,
   "metadata": {},
   "outputs": [
    {
     "name": "stdout",
     "output_type": "stream",
     "text": [
      "Дополнительная информация об аффилированных лицах компании ТОО \"QazaqGaz Onimderi\", входящей в группу компаний АО \"Самрук-Қазына\", с подробным описанием семейных связей руководства и членов правления компании, включая их родственников и статус резидентства.\n"
     ]
    }
   ],
   "source": [
    "print(items[30]['contextualized_content'].content[0].text)"
   ]
  },
  {
   "cell_type": "markdown",
   "metadata": {},
   "source": [
    "### Semantic retriever"
   ]
  },
  {
   "cell_type": "code",
   "execution_count": 136,
   "metadata": {},
   "outputs": [],
   "source": [
    "def create_multi_vector_retriever(vectorstore, chunks):\n",
    "    store = InMemoryStore()\n",
    "\n",
    "    retriever = MultiVectorRetriever(\n",
    "        vectorstore=vectorstore,\n",
    "        docstore=store,\n",
    "        id_key=\"chunk_id\"\n",
    "    )\n",
    "\n",
    "    retriever.search_type = SearchType.mmr\n",
    "\n",
    "    child_docs = []\n",
    "    kv_to_store = [] \n",
    "\n",
    "    for ch in chunks:\n",
    "        original_text = (ch.get(\"text\") or \"\").strip()\n",
    "        context_text = (ch.get(\"contextualized_content\").content[0].text if ch.get(\"contextualized_content\") else \"\").strip()\n",
    "        final_text = original_text + \"\\n\\n\" + \"Context: \" + context_text\n",
    "        if not final_text:\n",
    "            continue  \n",
    "\n",
    "        parent = Document(\n",
    "            page_content=final_text,\n",
    "            metadata={\n",
    "                \"page_num\": ch.get(\"page\"),\n",
    "                \"source\": ch.get(\"source_pdf\", \"\"),\n",
    "                \"data_type\": ch.get(\"type\", \"text\"),\n",
    "                \"raw_image\": ch.get(\"image_b_64\", \"\"),\n",
    "                \"chunk_id\": ch.get(\"chunk_id\"),\n",
    "                \"original_index\": ch.get(\"original_index\")\n",
    "            },\n",
    "        )\n",
    "        kv_to_store.append((ch.get(\"chunk_id\"), parent))\n",
    "\n",
    "        child = Document(\n",
    "            page_content=final_text,\n",
    "            metadata={\n",
    "                \"chunk_id\": ch.get(\"chunk_id\"),                \n",
    "                \"page_num\": ch.get(\"page\"),\n",
    "                \"source\": ch.get(\"source_pdf\", \"\"),\n",
    "                \"data_type\": ch.get(\"type\", \"text\"),\n",
    "            },\n",
    "        )\n",
    "        child_docs.append(child)\n",
    "\n",
    "    retriever.docstore.mset(kv_to_store)\n",
    "    retriever.vectorstore.add_documents(child_docs)\n",
    "\n",
    "    return retriever\n",
    "\n",
    "\n",
    "embeddings = OpenAIEmbeddings(\n",
    "    model=\"text-embedding-3-large\",\n",
    "    chunk_size=32                   \n",
    ")\n",
    "\n",
    "multi_vector_img = Chroma(\n",
    "    collection_name=\"multi_vector_img_all_ver2\", \n",
    "    persist_directory='../persist_dir_2',\n",
    "    embedding_function=embeddings\n",
    ")\n",
    "\n",
    "retriever_multi_vector_img = create_multi_vector_retriever(\n",
    "    multi_vector_img,\n",
    "    items\n",
    ")"
   ]
  },
  {
   "cell_type": "markdown",
   "metadata": {},
   "source": [
    "### BM25"
   ]
  },
  {
   "cell_type": "code",
   "execution_count": 137,
   "metadata": {},
   "outputs": [],
   "source": [
    "class ElasticsearchBM25:\n",
    "    def __init__(self, index_name: str = \"contextual_bm25_index_all_ver2\"):\n",
    "        self.es_client = Elasticsearch(\"http://localhost:9200\")\n",
    "        self.index_name = index_name\n",
    "        self.create_index()\n",
    "\n",
    "    def create_index(self):\n",
    "        index_settings = {\n",
    "            \"settings\": {\n",
    "                \"similarity\": {\"default\": {\"type\": \"BM25\"}}\n",
    "            },\n",
    "            \"mappings\": {\n",
    "                \"properties\": {\n",
    "                    \"content\": {\"type\": \"text\", \"analyzer\": \"russian\"},\n",
    "                    \"contextualized_content\": {\"type\": \"text\", \"analyzer\": \"russian\"},\n",
    "                    \"doc_id\": {\"type\": \"keyword\"},\n",
    "                    \"chunk_id\": {\"type\": \"keyword\"},\n",
    "                    \"page\": {\"type\": \"integer\"},\n",
    "                    \"source_pdf\": {\"type\": \"keyword\", \"index\": False},\n",
    "                    \"data_type\": {\"type\": \"keyword\", \"index\": False},\n",
    "                    \"raw_image\": {\"type\": \"binary\"},\n",
    "                    \"original_index\": {\"type\": \"integer\"} \n",
    "                }\n",
    "            },\n",
    "        }\n",
    "        if not self.es_client.indices.exists(index=self.index_name):\n",
    "            self.es_client.indices.create(index=self.index_name, body=index_settings)\n",
    "            print(f\"Created index: {self.index_name}\")\n",
    "    \n",
    "    def index_documents(self, documents: List[Dict[str, Any]]):\n",
    "        actions = [\n",
    "            {\n",
    "                \"_index\": self.index_name,\n",
    "                \"_source\": {\n",
    "                    \"content\": doc[\"text\"],\n",
    "                    \"contextualized_content\": doc.get(\"contextualized_content\").content[0].text if doc.get(\"contextualized_content\") else \"\",\n",
    "                    \"doc_id\": doc[\"doc_id\"],\n",
    "                    \"chunk_id\": doc[\"chunk_id\"],\n",
    "                    \"page\": doc[\"page\"],\n",
    "                    \"source_pdf\": doc[\"source_pdf\"],\n",
    "                    \"data_type\": doc[\"type\"],\n",
    "                    \"raw_image\": doc.get(\"raw_image\"),\n",
    "                    \"original_index\": doc[\"original_index\"]\n",
    "                },\n",
    "            }\n",
    "            for doc in documents\n",
    "        ]\n",
    "        success, _ = bulk(self.es_client, actions)\n",
    "        self.es_client.indices.refresh(index=self.index_name)\n",
    "        return success\n",
    "    \n",
    "    def search(self, query: str, k: int = 20) -> List[Dict[str, Any]]:\n",
    "        self.es_client.indices.refresh(index=self.index_name) \n",
    "        search_body = {\n",
    "            \"query\": {\n",
    "                \"multi_match\": {\n",
    "                    \"query\": query,\n",
    "                    \"fields\": [\"content\", \"contextualized_content\"],\n",
    "                }\n",
    "            },\n",
    "            \"size\": k,\n",
    "        }\n",
    "        response = self.es_client.search(index=self.index_name, body=search_body)\n",
    "        return [\n",
    "            {\n",
    "                \"content\": hit[\"_source\"][\"content\"],\n",
    "                \"contextualized_content\": hit[\"_source\"][\"contextualized_content\"],\n",
    "                \"doc_id\": hit[\"_source\"][\"doc_id\"],\n",
    "                \"chunk_id\": hit[\"_source\"][\"chunk_id\"],\n",
    "                \"score\": hit[\"_score\"],\n",
    "                \"page\": hit[\"_source\"][\"page\"],\n",
    "                \"source_pdf\": hit[\"_source\"][\"source_pdf\"],\n",
    "                \"data_type\": hit[\"_source\"][\"data_type\"],\n",
    "                \"raw_image\": hit[\"_source\"][\"raw_image\"],\n",
    "                \"original_index\": hit[\"_source\"][\"original_index\"]\n",
    "            }\n",
    "            for hit in response[\"hits\"][\"hits\"]\n",
    "        ]\n",
    "\n",
    "def create_elasticsearch_bm25_index(data):\n",
    "    es_bm25 = ElasticsearchBM25()\n",
    "    es_bm25.index_documents(data)\n",
    "    return es_bm25"
   ]
  },
  {
   "cell_type": "code",
   "execution_count": 138,
   "metadata": {},
   "outputs": [
    {
     "name": "stderr",
     "output_type": "stream",
     "text": [
      "/var/folders/kc/_sr2y9h11m9950k06c5s5vb00000gn/T/ipykernel_59020/475135864.py:27: DeprecationWarning: The 'body' parameter is deprecated and will be removed in a future version. Instead use individual parameters.\n",
      "  self.es_client.indices.create(index=self.index_name, body=index_settings)\n"
     ]
    },
    {
     "name": "stdout",
     "output_type": "stream",
     "text": [
      "Created index: contextual_bm25_index_all_ver2\n"
     ]
    }
   ],
   "source": [
    "es_bm25 = create_elasticsearch_bm25_index(items)"
   ]
  },
  {
   "cell_type": "code",
   "execution_count": 149,
   "metadata": {},
   "outputs": [],
   "source": [
    "def retrieve_advanced(query: str, db: MultiVectorRetriever, es_bm25: ElasticsearchBM25, \n",
    "                      k: int, \n",
    "                      docs: List[Dict[str, Any]],\n",
    "                      semantic_weight: float = 0.7, bm25_weight: float = 0.3,\n",
    "                      num_chunks_to_recall: int = 50):\n",
    "\n",
    "    # Semantic search\n",
    "    semantic_results = db.invoke(query, k=num_chunks_to_recall)\n",
    "    ranked_chunk_ids = [(result.metadata['chunk_id'], result.metadata['original_index']) for result in semantic_results]\n",
    "\n",
    "    # BM25 search using Elasticsearch\n",
    "    bm25_results = es_bm25.search(query, k=num_chunks_to_recall)\n",
    "    ranked_bm25_chunk_ids = [(result['chunk_id'], result['original_index']) for result in bm25_results]\n",
    "\n",
    "    # Combine results\n",
    "    chunk_ids = list(set(ranked_chunk_ids + ranked_bm25_chunk_ids))\n",
    "    chunk_id_to_score = {}\n",
    "\n",
    "    # Initial scoring with weights\n",
    "    for chunk_id in chunk_ids:\n",
    "        score = 0\n",
    "        if chunk_id in ranked_chunk_ids:\n",
    "            index = ranked_chunk_ids.index(chunk_id)\n",
    "            score += semantic_weight * (1 / (index + 1))  # Weighted 1/n scoring for semantic\n",
    "        if chunk_id in ranked_bm25_chunk_ids:\n",
    "            index = ranked_bm25_chunk_ids.index(chunk_id)\n",
    "            score += bm25_weight * (1 / (index + 1))  # Weighted 1/n scoring for BM25\n",
    "        chunk_id_to_score[chunk_id] = score\n",
    "\n",
    "    # Sort chunk IDs by their scores in descending order\n",
    "    sorted_chunk_ids = sorted(\n",
    "        chunk_id_to_score.keys(), key=lambda x: (chunk_id_to_score[x], x[0], x[1]), reverse=True\n",
    "    )\n",
    "\n",
    "    # -------------------- Cohere Rerank (минимальное добавление) --------------------\n",
    "    api_key = os.getenv(\"COHERE_API_KEY\")\n",
    "    if api_key and sorted_chunk_ids:\n",
    "        co = cohere.Client(api_key)\n",
    "\n",
    "        # Быстрый доступ к метаданным по (chunk_id, original_index)\n",
    "        doc_map = { (d[\"chunk_id\"], d[\"original_index\"]) : d for d in docs }\n",
    "\n",
    "        # Сколько кандидатов отдаём на реранк (например, 5*k или максимум 50)\n",
    "        top_n_rr = min(len(sorted_chunk_ids), max(5 * k, 50))\n",
    "        candidates = sorted_chunk_ids[:top_n_rr]\n",
    "\n",
    "        docs_for_rr = []\n",
    "        kept_idx = []\n",
    "        for idx, cid in enumerate(candidates):\n",
    "            d = doc_map.get(cid)\n",
    "            if not d:\n",
    "                continue\n",
    "            base = d.get(\"text\")\n",
    "            ctx  = d.get(\"contextualized_content\")\n",
    "            if isinstance(ctx, str):\n",
    "                ctx_text = ctx\n",
    "            else:\n",
    "                try:\n",
    "                    ctx_text = ctx.content[0].text \n",
    "                except Exception:\n",
    "                    ctx_text = \"\"\n",
    "            txt = (base + (\"\\n\\n\" + ctx_text if ctx_text else \"\")).strip()\n",
    "            if not txt:\n",
    "                continue\n",
    "            docs_for_rr.append({\"text\": txt})\n",
    "            kept_idx.append(idx)\n",
    "\n",
    "        if docs_for_rr:\n",
    "            rr = co.rerank(\n",
    "                model=\"rerank-v3.5\",\n",
    "                query=query,\n",
    "                documents=docs_for_rr,\n",
    "                top_n=len(docs_for_rr),\n",
    "            )\n",
    "            order = sorted(rr.results, key=lambda r: r.relevance_score, reverse=True)\n",
    "            reranked_ids = [candidates[kept_idx[r.index]] for r in order]\n",
    "            remainder = [cid for cid in candidates if cid not in set(reranked_ids)]\n",
    "            tail = [cid for cid in sorted_chunk_ids if cid not in set(candidates)]\n",
    "            sorted_chunk_ids = reranked_ids + remainder + tail\n",
    "\n",
    "    # Assign new scores based on the sorted order\n",
    "    for index, chunk_id in enumerate(sorted_chunk_ids):\n",
    "        chunk_id_to_score[chunk_id] = 1 / (index + 1)\n",
    "\n",
    "    # Prepare the final results\n",
    "    final_results = []\n",
    "    semantic_count = 0\n",
    "    bm25_count = 0\n",
    "    for chunk_id in sorted_chunk_ids[:k]:\n",
    "        chunk_metadata = next(chunk for chunk in docs if chunk['chunk_id'] == chunk_id[0] and chunk['original_index'] == chunk_id[1])\n",
    "        is_from_semantic = chunk_id in ranked_chunk_ids\n",
    "        is_from_bm25 = chunk_id in ranked_bm25_chunk_ids\n",
    "        final_results.append({\n",
    "            'chunk': chunk_metadata,\n",
    "            'score': chunk_id_to_score[chunk_id],\n",
    "            'from_semantic': is_from_semantic,\n",
    "            'from_bm25': is_from_bm25\n",
    "        })\n",
    "        \n",
    "        if is_from_semantic and not is_from_bm25:\n",
    "            semantic_count += 1\n",
    "        elif is_from_bm25 and not is_from_semantic:\n",
    "            bm25_count += 1\n",
    "        else:  # it's in both\n",
    "            semantic_count += 0.5\n",
    "            bm25_count += 0.5\n",
    "\n",
    "    return final_results, semantic_count, bm25_count"
   ]
  },
  {
   "cell_type": "code",
   "execution_count": 150,
   "metadata": {},
   "outputs": [],
   "source": [
    "def _build_page_content(ch: dict) -> str:\n",
    "    text = (ch.get(\"text\") or ch.get(\"content\") or \"\")  \n",
    "    ctx  = (ch.get(\"contextualized_content\").content[0].text if ch.get(\"contextualized_content\") else \"\") \n",
    "    return (text + (\"  \" + ctx if ctx else \"\")).strip()\n",
    "\n",
    "def make_hybrid_runnable(\n",
    "    db, es_bm25, docs,\n",
    "    top_k_out: int = 20,\n",
    "    recall: int = 50,\n",
    "    semantic_weight: float = 0.7,\n",
    "    bm25_weight: float = 0.3,\n",
    "):\n",
    "    \"\"\"Возвращает Runnable, который принимает строку-вопрос и отдаёт List[Document].\"\"\"\n",
    "    def _search(query: str):\n",
    "        results, _, _ = retrieve_advanced(\n",
    "            query=query,\n",
    "            db=db,\n",
    "            es_bm25=es_bm25,\n",
    "            k=top_k_out,                         # сколько вернуть наружу\n",
    "            docs=docs,                           # твои исходные метаданные чанков\n",
    "            semantic_weight=semantic_weight,\n",
    "            bm25_weight=bm25_weight,\n",
    "            num_chunks_to_recall=recall,         # сколько брать из каждого индекса\n",
    "        )\n",
    "        out = []\n",
    "        for r in results:\n",
    "            ch = r[\"chunk\"]\n",
    "            out.append(\n",
    "                Document(\n",
    "                    page_content=_build_page_content(ch),\n",
    "                    metadata={\n",
    "                        \"chunk_id\": ch[\"chunk_id\"],\n",
    "                        \"doc_id\": ch[\"doc_id\"],\n",
    "                        \"original_index\": ch[\"original_index\"],\n",
    "                        \"page_num\": ch.get(\"page\"),\n",
    "                        \"source\": ch.get(\"source_pdf\"),\n",
    "                        \"data_type\": ch.get(\"type\"),\n",
    "                        \"raw_image\": ch.get(\"raw_image\"), \n",
    "                        \"score\": r[\"score\"],\n",
    "                        \"from_semantic\": r[\"from_semantic\"],\n",
    "                        \"from_bm25\": r[\"from_bm25\"],\n",
    "                    },\n",
    "                )\n",
    "            )\n",
    "        return out\n",
    "    return RunnableLambda(_search)"
   ]
  },
  {
   "cell_type": "code",
   "execution_count": 151,
   "metadata": {},
   "outputs": [],
   "source": [
    "hybrid_retriever = make_hybrid_runnable(\n",
    "    db=retriever_multi_vector_img,\n",
    "    es_bm25=es_bm25,     \n",
    "    docs=items\n",
    ")"
   ]
  },
  {
   "cell_type": "markdown",
   "metadata": {},
   "source": [
    "### Multi-modal RAG"
   ]
  },
  {
   "cell_type": "code",
   "execution_count": 192,
   "metadata": {},
   "outputs": [],
   "source": [
    "def build_messages_with_indices(payload: Dict[str, Any]) -> Dict[str, Any]:\n",
    "    \"\"\"\n",
    "    payload: {\"docs\": List[Document], \"question\": str, \"question_id\": int, \"answer_type\": str}\n",
    "    Возвращает {\"messages\": [HumanMessage], \"docs\": docs, \"question_id\": ...}\n",
    "    \"\"\"\n",
    "    docs: List[Document] = payload[\"docs\"]\n",
    "    question: str = payload.get(\"question\") or payload.get(\"full_question\") or \"\"\n",
    "    answer_type: str = payload[\"answer_type\"]\n",
    "\n",
    "    instruction = (\n",
    "        \"Отвечай на русском языке ТОЛЬКО на основе фрагментов ниже.\\n\"\n",
    "        \"Каждый фрагмент помечен индексом в квадратных скобках, например [0].\\n\"\n",
    "        \"Если в вопросе просят указать должность, то напиши его должность целиком и обязательно проверь, что имена в вопросе и найденных фрагментах совпадают.\\n\"\n",
    "        \"Часто ответ на такой вопрос имеется в таблицах, проверяй, что ты берешь информацию из нужного ряда.\\n\"\n",
    "        \"Верни JSON ровно такого вида и ничего больше:\\n\"\n",
    "        '{ \"answer\": \"<строка ответа>\", \"evidence\": [<индексы фрагментов, по убыванию важности>] }\\n'\n",
    "        \"В поле answer верни только ответ на вопрос, без дополнительных пояснений и знаков препинания в конце.\\n\"\n",
    "        f\"Ожидаемый тип данных ответа на вопрос - {answer_type}.\\n\"\n",
    "        \"Если ожидаемый тип данных int либо float либо в вопросе просят указать количество чего-то, либо назвать какое-то число (баллов, очков и т.д.), то в ответе напиши ТОЛЬКО цифру, без пояснений, меры измерения и валюты.\\n\"\n",
    "        \"Не отделяй разряды пробелом, например 123 000 должно быть 123000.\\n\"\n",
    "        \"При этом, если ожидаемый тип данных float, то в ответе обязательно должна быть дробная часть, отдели его точкой, например 6.2 или 14.75.\\n\"\n",
    "        \"Если использован один фрагмент — верни один индекс.\\n\"\n",
    "        \"Если для ответа на вопрос использовано несколько фрагментов, например необходимо сравнить информацию на разных страницах либо в разных документах - верни несколько индексов.\\n\"\n",
    "        \"Не добавляй лишний текст вне JSON.\"\n",
    "    )\n",
    "\n",
    "    content = [\n",
    "        {\"type\": \"text\", \"text\": instruction},\n",
    "        {\"type\": \"text\", \"text\": f\"Вопрос: {question}\"},\n",
    "    ]\n",
    "\n",
    "    for i, d in enumerate(docs):\n",
    "        src = d.metadata.get(\"source\") or d.metadata.get(\"source_pdf\") or \"\"\n",
    "        name = Path(src).name if src else \"\"\n",
    "        page = d.metadata.get(\"page_num\") or d.metadata.get(\"page\")\n",
    "\n",
    "        if d.metadata.get(\"data_type\") == \"figure\" and d.metadata.get(\"raw_image\"):\n",
    "            content.append({\"type\": \"text\", \"text\": f\"[{i}] IMAGE — {name}, стр. {page}.\"})\n",
    "            img = d.metadata[\"raw_image\"]\n",
    "            url = img if str(img).startswith(\"data:\") else f\"data:image/png;base64,{img}\"\n",
    "            content.append({\"type\": \"image_url\", \"image_url\": {\"url\": url}})\n",
    "        else:\n",
    "            txt = d.page_content or \"\"\n",
    "            content.append({\n",
    "                \"type\": \"text\",\n",
    "                \"text\": f\"[{i}] TEXT — {name}, стр. {page}\\n{txt}\"\n",
    "            })\n",
    "\n",
    "    return {\n",
    "        \"messages\": [HumanMessage(content=content)],\n",
    "        \"docs\": docs,\n",
    "        \"question_id\": payload[\"question_id\"],\n",
    "        \"answer_type\": payload[\"answer_type\"]\n",
    "    }"
   ]
  },
  {
   "cell_type": "code",
   "execution_count": 193,
   "metadata": {},
   "outputs": [],
   "source": [
    "def parse_model_json(s: str) -> Dict[str, Any]:\n",
    "    try:\n",
    "        start = s.find(\"{\")\n",
    "        end = s.rfind(\"}\")\n",
    "        if start == -1 or end == -1:\n",
    "            return {\"answer\": s.strip(), \"evidence\": []}\n",
    "        data = json.loads(s[start:end+1])\n",
    "        # подстрахуем поля\n",
    "        if not isinstance(data, dict):\n",
    "            return {\"answer\": s.strip(), \"evidence\": []}\n",
    "        ans = str(data.get(\"answer\", \"\")).strip()\n",
    "        ev = data.get(\"evidence\", [])\n",
    "        if isinstance(ev, int):\n",
    "            ev = [ev]\n",
    "        if not isinstance(ev, list):\n",
    "            ev = []\n",
    "        ev = [int(x) for x in ev if isinstance(x, (int, float))]  # нормализуем\n",
    "        return {\"answer\": ans or s.strip(), \"evidence\": ev}\n",
    "    except Exception:\n",
    "        return {\"answer\": s.strip(), \"evidence\": []}"
   ]
  },
  {
   "cell_type": "code",
   "execution_count": 194,
   "metadata": {},
   "outputs": [],
   "source": [
    "def build_final_payload(inputs: Dict[str, Any]) -> Dict[str, Any]:\n",
    "    \"\"\"\n",
    "    inputs: {\n",
    "      \"answer_text\": \"<raw model output>\",\n",
    "      \"docs\": List[Document],\n",
    "      \"question_id\": int,\n",
    "      \"answer_type\": str\n",
    "    }\n",
    "    \"\"\"\n",
    "    parsed = parse_model_json(inputs[\"answer_text\"])\n",
    "    answer_text: str = parsed[\"answer\"]\n",
    "    if inputs[\"answer_type\"] == 'float':\n",
    "        try:\n",
    "          answer_text = float(answer_text)\n",
    "        except ValueError:\n",
    "           pass\n",
    "    elif inputs[\"answer_type\"] == 'int':\n",
    "        try:\n",
    "          answer_text = int(answer_text)   \n",
    "        except ValueError:\n",
    "           try:\n",
    "              answer_text = float(answer_text)\n",
    "           except ValueError:\n",
    "              pass\n",
    "    ev: List[int] = parsed[\"evidence\"] or []\n",
    "\n",
    "    docs: List[Document] = inputs[\"docs\"]\n",
    "    qid: int = int(inputs[\"question_id\"])\n",
    "\n",
    "    idx = ev[0] if ev and 0 <= ev[0] < len(docs) else 0\n",
    "    d = docs[idx]\n",
    "    src = d.metadata.get(\"source\") or d.metadata.get(\"source_pdf\") or \"\"\n",
    "    name = Path(src).name if src else \"\"\n",
    "    page = d.metadata.get(\"page_num\") or d.metadata.get(\"page\")\n",
    "\n",
    "    return {\n",
    "        \"question_id\": qid,\n",
    "        \"relevant_chunks\": [{\"document_name\": name, \"page_number\": int(page) if page is not None else None}],\n",
    "        \"answer\": answer_text\n",
    "    }"
   ]
  },
  {
   "cell_type": "code",
   "execution_count": 195,
   "metadata": {},
   "outputs": [],
   "source": [
    "def build_structured_chain_that_cites_one(hybrid_retriever_runnable, llm=None):\n",
    "    model = llm or ChatOpenAI(temperature=0, model=\"gpt-5\", max_tokens=2048)\n",
    "\n",
    "    chain = (\n",
    "    {\n",
    "        \"docs\": (itemgetter(\"full_question\") | hybrid_retriever),\n",
    "        \"question\": itemgetter(\"full_question\"),\n",
    "        \"question_id\": itemgetter(\"id\"),\n",
    "        \"answer_type\": itemgetter(\"answer_type\")\n",
    "    }\n",
    "    | RunnableLambda(build_messages_with_indices)\n",
    "    | {\n",
    "        \"answer_text\": (itemgetter(\"messages\") | model | StrOutputParser()),\n",
    "        \"docs\": itemgetter(\"docs\"),\n",
    "        \"question_id\": itemgetter(\"question_id\"),\n",
    "        \"answer_type\": itemgetter(\"answer_type\")\n",
    "    }\n",
    "    | RunnableLambda(build_final_payload)\n",
    ")\n",
    "    return chain"
   ]
  },
  {
   "cell_type": "code",
   "execution_count": 196,
   "metadata": {},
   "outputs": [],
   "source": [
    "chain_structured = build_structured_chain_that_cites_one(hybrid_retriever)"
   ]
  },
  {
   "cell_type": "markdown",
   "metadata": {},
   "source": [
    "### Тестирование"
   ]
  },
  {
   "cell_type": "code",
   "execution_count": 205,
   "metadata": {},
   "outputs": [],
   "source": [
    "import warnings\n",
    "warnings.filterwarnings('ignore')"
   ]
  },
  {
   "cell_type": "code",
   "execution_count": 208,
   "metadata": {},
   "outputs": [],
   "source": [
    "questions = pd.read_excel('../instructions/questions_private.xlsx')"
   ]
  },
  {
   "cell_type": "code",
   "execution_count": 210,
   "metadata": {},
   "outputs": [
    {
     "data": {
      "text/html": [
       "<div>\n",
       "<style scoped>\n",
       "    .dataframe tbody tr th:only-of-type {\n",
       "        vertical-align: middle;\n",
       "    }\n",
       "\n",
       "    .dataframe tbody tr th {\n",
       "        vertical-align: top;\n",
       "    }\n",
       "\n",
       "    .dataframe thead th {\n",
       "        text-align: right;\n",
       "    }\n",
       "</style>\n",
       "<table border=\"1\" class=\"dataframe\">\n",
       "  <thead>\n",
       "    <tr style=\"text-align: right;\">\n",
       "      <th></th>\n",
       "      <th>id</th>\n",
       "      <th>block</th>\n",
       "      <th>full_question</th>\n",
       "      <th>answer_type</th>\n",
       "    </tr>\n",
       "  </thead>\n",
       "  <tbody>\n",
       "    <tr>\n",
       "      <th>195</th>\n",
       "      <td>196</td>\n",
       "      <td>OCR</td>\n",
       "      <td>Сколько пассажирских вагонов у АО «НК «ҚТЖ» (в...</td>\n",
       "      <td>float</td>\n",
       "    </tr>\n",
       "    <tr>\n",
       "      <th>196</th>\n",
       "      <td>197</td>\n",
       "      <td>OCR</td>\n",
       "      <td>Какой объем добычи нефти (тыс. тонн) с месторо...</td>\n",
       "      <td>float</td>\n",
       "    </tr>\n",
       "    <tr>\n",
       "      <th>197</th>\n",
       "      <td>198</td>\n",
       "      <td>AR</td>\n",
       "      <td>Сколько шоколадных цехов есть у АО “Баян Сулу”?</td>\n",
       "      <td>int</td>\n",
       "    </tr>\n",
       "    <tr>\n",
       "      <th>198</th>\n",
       "      <td>199</td>\n",
       "      <td>Both</td>\n",
       "      <td>Какую долю (в процентах) в грузообороте АО «НК...</td>\n",
       "      <td>int</td>\n",
       "    </tr>\n",
       "    <tr>\n",
       "      <th>199</th>\n",
       "      <td>200</td>\n",
       "      <td>Both</td>\n",
       "      <td>Какова суммарная доля участия членов Совета Ди...</td>\n",
       "      <td>float</td>\n",
       "    </tr>\n",
       "  </tbody>\n",
       "</table>\n",
       "</div>"
      ],
      "text/plain": [
       "      id block                                      full_question answer_type\n",
       "195  196   OCR  Сколько пассажирских вагонов у АО «НК «ҚТЖ» (в...       float\n",
       "196  197   OCR  Какой объем добычи нефти (тыс. тонн) с месторо...       float\n",
       "197  198    AR    Сколько шоколадных цехов есть у АО “Баян Сулу”?         int\n",
       "198  199  Both  Какую долю (в процентах) в грузообороте АО «НК...         int\n",
       "199  200  Both  Какова суммарная доля участия членов Совета Ди...       float"
      ]
     },
     "execution_count": 210,
     "metadata": {},
     "output_type": "execute_result"
    }
   ],
   "source": [
    "questions.tail()"
   ]
  },
  {
   "cell_type": "code",
   "execution_count": 211,
   "metadata": {},
   "outputs": [
    {
     "data": {
      "text/plain": [
       "(200, 4)"
      ]
     },
     "execution_count": 211,
     "metadata": {},
     "output_type": "execute_result"
    }
   ],
   "source": [
    "questions.shape"
   ]
  },
  {
   "cell_type": "code",
   "execution_count": 212,
   "metadata": {},
   "outputs": [
    {
     "name": "stderr",
     "output_type": "stream",
     "text": [
      "Answering questions...: 1it [00:11, 11.63s/it]"
     ]
    },
    {
     "name": "stdout",
     "output_type": "stream",
     "text": [
      "Answer: Республика Казахстан, 050002, г. Алматы, ул. Зенкова, 2а --- Question_ID: 1 --- DOC: rahtp_2024_rus.pdf --- Page: 69\n"
     ]
    },
    {
     "name": "stderr",
     "output_type": "stream",
     "text": [
      "Answering questions...: 2it [00:28, 14.49s/it]"
     ]
    },
    {
     "name": "stdout",
     "output_type": "stream",
     "text": [
      "Answer: 11,10,4,15,12,8,17,16,9 --- Question_ID: 2 --- DOC: kztkp_2024_rus.pdf --- Page: 64\n"
     ]
    },
    {
     "name": "stderr",
     "output_type": "stream",
     "text": [
      "Answering questions...: 3it [00:39, 12.88s/it]"
     ]
    },
    {
     "name": "stdout",
     "output_type": "stream",
     "text": [
      "Answer: 31.5 --- Question_ID: 3 --- DOC: tmjl_2024_rus.pdf --- Page: 69\n"
     ]
    },
    {
     "name": "stderr",
     "output_type": "stream",
     "text": [
      "Answering questions...: 4it [01:24, 25.56s/it]"
     ]
    },
    {
     "name": "stdout",
     "output_type": "stream",
     "text": [
      "Answer:  --- Question_ID: 4 --- DOC: tmjl_2024_rus.pdf --- Page: 1\n"
     ]
    },
    {
     "name": "stderr",
     "output_type": "stream",
     "text": [
      "Answering questions...: 5it [01:36, 20.95s/it]"
     ]
    },
    {
     "name": "stdout",
     "output_type": "stream",
     "text": [
      "Answer: 16.5 --- Question_ID: 5 --- DOC: matnp_2024_rus.pdf --- Page: 23\n"
     ]
    },
    {
     "name": "stderr",
     "output_type": "stream",
     "text": [
      "Answering questions...: 6it [01:58, 21.16s/it]"
     ]
    },
    {
     "name": "stdout",
     "output_type": "stream",
     "text": [
      "Answer: Ernst & Young --- Question_ID: 6 --- DOC: tcibp_2024_rus.pdf --- Page: 35\n"
     ]
    },
    {
     "name": "stderr",
     "output_type": "stream",
     "text": [
      "Answering questions...: 7it [02:33, 25.63s/it]"
     ]
    },
    {
     "name": "stdout",
     "output_type": "stream",
     "text": [
      "Answer: 2673 --- Question_ID: 7 --- DOC: fpstp_2024_rus.pdf --- Page: 15\n"
     ]
    },
    {
     "name": "stderr",
     "output_type": "stream",
     "text": [
      "Answering questions...: 8it [02:54, 24.28s/it]"
     ]
    },
    {
     "name": "stdout",
     "output_type": "stream",
     "text": [
      "Answer: 1810.06 --- Question_ID: 8 --- DOC: fatnp_2024_rus.pdf --- Page: 16\n"
     ]
    },
    {
     "name": "stderr",
     "output_type": "stream",
     "text": [
      "Answering questions...: 9it [03:55, 35.83s/it]"
     ]
    },
    {
     "name": "stdout",
     "output_type": "stream",
     "text": [
      "Answer: 0 --- Question_ID: 9 --- DOC: airap_2024_rus.pdf --- Page: 9\n"
     ]
    },
    {
     "name": "stderr",
     "output_type": "stream",
     "text": [
      "Answering questions...: 10it [05:13, 48.85s/it]"
     ]
    },
    {
     "name": "stdout",
     "output_type": "stream",
     "text": [
      "Answer: 4.86 --- Question_ID: 10 --- DOC: airap_2024_rus.pdf --- Page: 8\n"
     ]
    },
    {
     "name": "stderr",
     "output_type": "stream",
     "text": [
      "Answering questions...: 11it [05:35, 40.45s/it]"
     ]
    },
    {
     "name": "stdout",
     "output_type": "stream",
     "text": [
      "Answer: 450 --- Question_ID: 11 --- DOC: rahtp_2024_rus.pdf --- Page: 15\n"
     ]
    },
    {
     "name": "stderr",
     "output_type": "stream",
     "text": [
      "Answering questions...: 12it [06:13, 39.64s/it]"
     ]
    },
    {
     "name": "stdout",
     "output_type": "stream",
     "text": [
      "Answer: 173493 --- Question_ID: 12 --- DOC: matnp_2024_rus.pdf --- Page: 82\n"
     ]
    },
    {
     "name": "stderr",
     "output_type": "stream",
     "text": [
      "Answering questions...: 13it [06:26, 31.79s/it]"
     ]
    },
    {
     "name": "stdout",
     "output_type": "stream",
     "text": [
      "Answer: Товарищество с ограниченной ответственностью «КПМГ Аудит» --- Question_ID: 13 --- DOC: brkzf6_2024_cons_rus.pdf --- Page: 3\n"
     ]
    },
    {
     "name": "stderr",
     "output_type": "stream",
     "text": [
      "Answering questions...: 14it [07:06, 34.32s/it]"
     ]
    },
    {
     "name": "stdout",
     "output_type": "stream",
     "text": [
      "Answer: 0.0 --- Question_ID: 14 --- DOC: bsulp_2024_rus.pdf --- Page: 10\n"
     ]
    },
    {
     "name": "stderr",
     "output_type": "stream",
     "text": [
      "Answering questions...: 15it [07:39, 33.91s/it]"
     ]
    },
    {
     "name": "stdout",
     "output_type": "stream",
     "text": [
      "Answer: { \"answer\": \"\", \"evidence\": [] } --- Question_ID: 15 --- DOC: brkzf6_2024_cons_rus.pdf --- Page: 95\n"
     ]
    },
    {
     "name": "stderr",
     "output_type": "stream",
     "text": [
      "Answering questions...: 16it [08:54, 46.18s/it]"
     ]
    },
    {
     "name": "stdout",
     "output_type": "stream",
     "text": [
      "Answer:  --- Question_ID: 16 --- DOC: aira_af_4_2025.pdf --- Page: 95\n"
     ]
    },
    {
     "name": "stderr",
     "output_type": "stream",
     "text": [
      "Answering questions...: 17it [09:17, 39.17s/it]"
     ]
    },
    {
     "name": "stdout",
     "output_type": "stream",
     "text": [
      "Answer: { \"answer\": \"\", \"evidence\": [] } --- Question_ID: 17 --- DOC: airap_2024_rus.pdf --- Page: 68\n"
     ]
    },
    {
     "name": "stderr",
     "output_type": "stream",
     "text": [
      "Answering questions...: 18it [09:54, 38.61s/it]"
     ]
    },
    {
     "name": "stdout",
     "output_type": "stream",
     "text": [
      "Answer:  --- Question_ID: 18 --- DOC: oasif6_2024_rus.pdf --- Page: 30\n"
     ]
    },
    {
     "name": "stderr",
     "output_type": "stream",
     "text": [
      "Answering questions...: 19it [10:32, 38.38s/it]"
     ]
    },
    {
     "name": "stdout",
     "output_type": "stream",
     "text": [
      "Answer: 25 --- Question_ID: 19 --- DOC: tmjl_2024_rus.pdf --- Page: 336\n"
     ]
    },
    {
     "name": "stderr",
     "output_type": "stream",
     "text": [
      "Answering questions...: 20it [10:58, 34.73s/it]"
     ]
    },
    {
     "name": "stdout",
     "output_type": "stream",
     "text": [
      "Answer: Рахат --- Question_ID: 20 --- DOC: bsulp_2024_rus.pdf --- Page: 13\n"
     ]
    },
    {
     "name": "stderr",
     "output_type": "stream",
     "text": [
      "Answering questions...: 21it [12:45, 56.38s/it]"
     ]
    },
    {
     "name": "stdout",
     "output_type": "stream",
     "text": [
      "Answer:  --- Question_ID: 21 --- DOC: aafd_af_4_2025.pdf --- Page: 1\n"
     ]
    },
    {
     "name": "stderr",
     "output_type": "stream",
     "text": [
      "Answering questions...: 22it [13:32, 53.57s/it]"
     ]
    },
    {
     "name": "stdout",
     "output_type": "stream",
     "text": [
      "Answer:  --- Question_ID: 22 --- DOC: tmjl_af_1_2025.pdf --- Page: 94\n"
     ]
    },
    {
     "name": "stderr",
     "output_type": "stream",
     "text": [
      "Answering questions...: 23it [14:01, 46.18s/it]"
     ]
    },
    {
     "name": "stdout",
     "output_type": "stream",
     "text": [
      "Answer: 3 --- Question_ID: 23 --- DOC: matnp_2024_rus.pdf --- Page: 82\n"
     ]
    },
    {
     "name": "stderr",
     "output_type": "stream",
     "text": [
      "Answering questions...: 24it [14:27, 40.07s/it]"
     ]
    },
    {
     "name": "stdout",
     "output_type": "stream",
     "text": [
      "Answer: 16.0 --- Question_ID: 24 --- DOC: tmjl_2024_rus.pdf --- Page: 12\n"
     ]
    },
    {
     "name": "stderr",
     "output_type": "stream",
     "text": [
      "Answering questions...: 25it [15:10, 40.95s/it]"
     ]
    },
    {
     "name": "stdout",
     "output_type": "stream",
     "text": [
      "Answer:  --- Question_ID: 25 --- DOC: bsulp_2024_rus.pdf --- Page: 4\n"
     ]
    },
    {
     "name": "stderr",
     "output_type": "stream",
     "text": [
      "Answering questions...: 26it [15:42, 38.19s/it]"
     ]
    },
    {
     "name": "stdout",
     "output_type": "stream",
     "text": [
      "Answer: 0 --- Question_ID: 26 --- DOC: tcom_af_4_2025.pdf --- Page: 1\n"
     ]
    },
    {
     "name": "stderr",
     "output_type": "stream",
     "text": [
      "Answering questions...: 27it [15:58, 31.52s/it]"
     ]
    },
    {
     "name": "stdout",
     "output_type": "stream",
     "text": [
      "Answer: 1565 --- Question_ID: 27 --- DOC: kztkp_2024_rus.pdf --- Page: 36\n"
     ]
    },
    {
     "name": "stderr",
     "output_type": "stream",
     "text": [
      "Answering questions...: 28it [16:28, 31.10s/it]"
     ]
    },
    {
     "name": "stdout",
     "output_type": "stream",
     "text": [
      "Answer: 81049.0 --- Question_ID: 28 --- DOC: fatnp_2024_rus.pdf --- Page: 19\n"
     ]
    },
    {
     "name": "stderr",
     "output_type": "stream",
     "text": [
      "Answering questions...: 29it [17:22, 37.90s/it]"
     ]
    },
    {
     "name": "stdout",
     "output_type": "stream",
     "text": [
      "Answer: 38976302.0 --- Question_ID: 29 --- DOC: matnp_2024_rus.pdf --- Page: 81\n"
     ]
    },
    {
     "name": "stderr",
     "output_type": "stream",
     "text": [
      "Answering questions...: 30it [17:47, 34.27s/it]"
     ]
    },
    {
     "name": "stdout",
     "output_type": "stream",
     "text": [
      "Answer: 6546 --- Question_ID: 30 --- DOC: airap_2024_rus.pdf --- Page: 33\n"
     ]
    },
    {
     "name": "stderr",
     "output_type": "stream",
     "text": [
      "Answering questions...: 31it [18:10, 30.93s/it]"
     ]
    },
    {
     "name": "stdout",
     "output_type": "stream",
     "text": [
      "Answer: 125300 --- Question_ID: 31 --- DOC: bastp_2024_rus.pdf --- Page: 100\n"
     ]
    },
    {
     "name": "stderr",
     "output_type": "stream",
     "text": [
      "Answering questions...: 32it [18:55, 35.07s/it]"
     ]
    },
    {
     "name": "stdout",
     "output_type": "stream",
     "text": [
      "Answer: 2006 --- Question_ID: 32 --- DOC: fpstp_2024_rus.pdf --- Page: 8\n"
     ]
    },
    {
     "name": "stderr",
     "output_type": "stream",
     "text": [
      "Answering questions...: 33it [19:43, 38.99s/it]"
     ]
    },
    {
     "name": "stdout",
     "output_type": "stream",
     "text": [
      "Answer: 275370 --- Question_ID: 33 --- DOC: oasif6_2024_rus.pdf --- Page: 22\n"
     ]
    },
    {
     "name": "stderr",
     "output_type": "stream",
     "text": [
      "Answering questions...: 34it [20:02, 33.00s/it]"
     ]
    },
    {
     "name": "stdout",
     "output_type": "stream",
     "text": [
      "Answer: Алматинская область, Казахстан --- Question_ID: 34 --- DOC: aafdf5_2024_cons_rus.pdf --- Page: 2\n"
     ]
    },
    {
     "name": "stderr",
     "output_type": "stream",
     "text": [
      "Answering questions...: 35it [20:17, 27.49s/it]"
     ]
    },
    {
     "name": "stdout",
     "output_type": "stream",
     "text": [
      "Answer: Лю Цзиньчэн --- Question_ID: 35 --- DOC: matnp_2024_rus.pdf --- Page: 25\n"
     ]
    },
    {
     "name": "stderr",
     "output_type": "stream",
     "text": [
      "Answering questions...: 36it [20:31, 23.32s/it]"
     ]
    },
    {
     "name": "stdout",
     "output_type": "stream",
     "text": [
      "Answer: 350 --- Question_ID: 36 --- DOC: bsulp_2024_rus.pdf --- Page: 4\n"
     ]
    },
    {
     "name": "stderr",
     "output_type": "stream",
     "text": [
      "Answering questions...: 37it [21:16, 30.03s/it]"
     ]
    },
    {
     "name": "stdout",
     "output_type": "stream",
     "text": [
      "Answer:  --- Question_ID: 37 --- DOC: oasi_af_4_2025.pdf --- Page: 5\n"
     ]
    },
    {
     "name": "stderr",
     "output_type": "stream",
     "text": [
      "Answering questions...: 38it [21:38, 27.41s/it]"
     ]
    },
    {
     "name": "stdout",
     "output_type": "stream",
     "text": [
      "Answer: 2.7 --- Question_ID: 38 --- DOC: airap_2024_rus.pdf --- Page: 19\n"
     ]
    },
    {
     "name": "stderr",
     "output_type": "stream",
     "text": [
      "Answering questions...: 39it [21:49, 22.50s/it]"
     ]
    },
    {
     "name": "stdout",
     "output_type": "stream",
     "text": [
      "Answer: 19.7 --- Question_ID: 39 --- DOC: bsulp_2024_rus.pdf --- Page: 6\n"
     ]
    },
    {
     "name": "stderr",
     "output_type": "stream",
     "text": [
      "Answering questions...: 40it [22:37, 30.25s/it]"
     ]
    },
    {
     "name": "stdout",
     "output_type": "stream",
     "text": [
      "Answer: Не указано --- Question_ID: 40 --- DOC: airap_2024_rus.pdf --- Page: 41\n"
     ]
    },
    {
     "name": "stderr",
     "output_type": "stream",
     "text": [
      "Answering questions...: 41it [23:15, 32.72s/it]"
     ]
    },
    {
     "name": "stdout",
     "output_type": "stream",
     "text": [
      "Answer:  --- Question_ID: 41 --- DOC: kztk_af_4_2025.pdf --- Page: 202\n"
     ]
    },
    {
     "name": "stderr",
     "output_type": "stream",
     "text": [
      "Answering questions...: 42it [23:33, 28.16s/it]"
     ]
    },
    {
     "name": "stdout",
     "output_type": "stream",
     "text": [
      "Answer: Узень – Атырау – Самара --- Question_ID: 42 --- DOC: matnp_2024_rus.pdf --- Page: 33\n"
     ]
    },
    {
     "name": "stderr",
     "output_type": "stream",
     "text": [
      "Answering questions...: 43it [24:29, 36.63s/it]"
     ]
    },
    {
     "name": "stdout",
     "output_type": "stream",
     "text": [
      "Answer:  --- Question_ID: 43 --- DOC: tmjl_af_1_2025.pdf --- Page: 95\n"
     ]
    },
    {
     "name": "stderr",
     "output_type": "stream",
     "text": [
      "Answering questions...: 44it [25:18, 40.28s/it]"
     ]
    },
    {
     "name": "stdout",
     "output_type": "stream",
     "text": [
      "Answer:  --- Question_ID: 44 --- DOC: fatn_af_4_2025.pdf --- Page: 1\n"
     ]
    },
    {
     "name": "stderr",
     "output_type": "stream",
     "text": [
      "Answering questions...: 45it [25:54, 39.06s/it]"
     ]
    },
    {
     "name": "stdout",
     "output_type": "stream",
     "text": [
      "Answer:  --- Question_ID: 45 --- DOC: aafd_af_4_2025.pdf --- Page: 1\n"
     ]
    },
    {
     "name": "stderr",
     "output_type": "stream",
     "text": [
      "Answering questions...: 46it [26:14, 33.34s/it]"
     ]
    },
    {
     "name": "stdout",
     "output_type": "stream",
     "text": [
      "Answer: Ушшокы, Чинасыл-Сай --- Question_ID: 46 --- DOC: fpstp_2024_rus.pdf --- Page: 6\n"
     ]
    },
    {
     "name": "stderr",
     "output_type": "stream",
     "text": [
      "Answering questions...: 47it [26:34, 29.37s/it]"
     ]
    },
    {
     "name": "stdout",
     "output_type": "stream",
     "text": [
      "Answer: 0 --- Question_ID: 47 --- DOC: oasi_af_4_2025.pdf --- Page: 1\n"
     ]
    },
    {
     "name": "stderr",
     "output_type": "stream",
     "text": [
      "Answering questions...: 48it [26:57, 27.46s/it]"
     ]
    },
    {
     "name": "stdout",
     "output_type": "stream",
     "text": [
      "Answer: 105 --- Question_ID: 48 --- DOC: fatnp_2024_rus.pdf --- Page: 4\n"
     ]
    },
    {
     "name": "stderr",
     "output_type": "stream",
     "text": [
      "Answering questions...: 49it [27:46, 33.69s/it]"
     ]
    },
    {
     "name": "stdout",
     "output_type": "stream",
     "text": [
      "Answer: Да --- Question_ID: 49 --- DOC: aafdf5_2024_cons_rus.pdf --- Page: 1\n"
     ]
    },
    {
     "name": "stderr",
     "output_type": "stream",
     "text": [
      "Answering questions...: 50it [28:41, 40.30s/it]"
     ]
    },
    {
     "name": "stdout",
     "output_type": "stream",
     "text": [
      "Answer:  --- Question_ID: 50 --- DOC: tmjl_af_1_2025.pdf --- Page: 94\n"
     ]
    },
    {
     "name": "stderr",
     "output_type": "stream",
     "text": [
      "Answering questions...: 51it [28:59, 33.61s/it]"
     ]
    },
    {
     "name": "stdout",
     "output_type": "stream",
     "text": [
      "Answer: 28.06.2021 --- Question_ID: 51 --- DOC: matnp_2024_rus.pdf --- Page: 24\n"
     ]
    },
    {
     "name": "stderr",
     "output_type": "stream",
     "text": [
      "Answering questions...: 52it [30:11, 45.06s/it]"
     ]
    },
    {
     "name": "stdout",
     "output_type": "stream",
     "text": [
      "Answer:  --- Question_ID: 52 --- DOC: aira_af_4_2025.pdf --- Page: 23\n"
     ]
    },
    {
     "name": "stderr",
     "output_type": "stream",
     "text": [
      "Answering questions...: 53it [30:22, 34.92s/it]"
     ]
    },
    {
     "name": "stdout",
     "output_type": "stream",
     "text": [
      "Answer: 19 --- Question_ID: 53 --- DOC: rahtp_2024_rus.pdf --- Page: 15\n"
     ]
    },
    {
     "name": "stderr",
     "output_type": "stream",
     "text": [
      "Answering questions...: 54it [30:35, 28.29s/it]"
     ]
    },
    {
     "name": "stdout",
     "output_type": "stream",
     "text": [
      "Answer: 45 --- Question_ID: 54 --- DOC: tmjl_2024_rus.pdf --- Page: 57\n"
     ]
    },
    {
     "name": "stderr",
     "output_type": "stream",
     "text": [
      "Answering questions...: 55it [30:57, 26.22s/it]"
     ]
    },
    {
     "name": "stdout",
     "output_type": "stream",
     "text": [
      "Answer: долгосрочная стратегия развития АО «Казахтелеком» на 2023–2032 годы --- Question_ID: 55 --- DOC: kztkp_2024_rus.pdf --- Page: 23\n"
     ]
    },
    {
     "name": "stderr",
     "output_type": "stream",
     "text": [
      "Answering questions...: 56it [31:25, 26.71s/it]"
     ]
    },
    {
     "name": "stdout",
     "output_type": "stream",
     "text": [
      "Answer: 469.31 --- Question_ID: 56 --- DOC: fpstp_2024_rus.pdf --- Page: 63\n"
     ]
    },
    {
     "name": "stderr",
     "output_type": "stream",
     "text": [
      "Answering questions...: 57it [32:04, 30.66s/it]"
     ]
    },
    {
     "name": "stdout",
     "output_type": "stream",
     "text": [
      "Answer: 19.6 --- Question_ID: 57 --- DOC: rahtp_2024_rus.pdf --- Page: 20\n"
     ]
    },
    {
     "name": "stderr",
     "output_type": "stream",
     "text": [
      "Answering questions...: 58it [33:04, 39.23s/it]"
     ]
    },
    {
     "name": "stdout",
     "output_type": "stream",
     "text": [
      "Answer:  --- Question_ID: 58 --- DOC: tmjlf6_2024_cons_rus.pdf --- Page: 46\n"
     ]
    },
    {
     "name": "stderr",
     "output_type": "stream",
     "text": [
      "Answering questions...: 59it [33:20, 32.41s/it]"
     ]
    },
    {
     "name": "stdout",
     "output_type": "stream",
     "text": [
      "Answer: закрытием фабрики ГОК Максут в феврале 2024 года, что привело к резкому снижению объемов реализации --- Question_ID: 59 --- DOC: bastp_2024_rus.pdf --- Page: 20\n"
     ]
    },
    {
     "name": "stderr",
     "output_type": "stream",
     "text": [
      "Answering questions...: 60it [33:59, 34.23s/it]"
     ]
    },
    {
     "name": "stdout",
     "output_type": "stream",
     "text": [
      "Answer:  --- Question_ID: 60 --- DOC: tcibp_2024_rus.pdf --- Page: 38\n"
     ]
    },
    {
     "name": "stderr",
     "output_type": "stream",
     "text": [
      "Answering questions...: 61it [34:15, 28.88s/it]"
     ]
    },
    {
     "name": "stdout",
     "output_type": "stream",
     "text": [
      "Answer: 6.01 --- Question_ID: 61 --- DOC: tcibp_2024_rus.pdf --- Page: 38\n"
     ]
    },
    {
     "name": "stderr",
     "output_type": "stream",
     "text": [
      "Answering questions...: 62it [34:32, 25.19s/it]"
     ]
    },
    {
     "name": "stdout",
     "output_type": "stream",
     "text": [
      "Answer: Средний --- Question_ID: 62 --- DOC: bsulp_2024_rus.pdf --- Page: 18\n"
     ]
    },
    {
     "name": "stderr",
     "output_type": "stream",
     "text": [
      "Answering questions...: 63it [35:39, 37.76s/it]"
     ]
    },
    {
     "name": "stdout",
     "output_type": "stream",
     "text": [
      "Answer: Высокий --- Question_ID: 63 --- DOC: airap_2024_rus.pdf --- Page: 40\n"
     ]
    },
    {
     "name": "stderr",
     "output_type": "stream",
     "text": [
      "Answering questions...: 64it [36:04, 33.99s/it]"
     ]
    },
    {
     "name": "stdout",
     "output_type": "stream",
     "text": [
      "Answer: 2304.6 --- Question_ID: 64 --- DOC: fpstp_2024_rus.pdf --- Page: 13\n"
     ]
    },
    {
     "name": "stderr",
     "output_type": "stream",
     "text": [
      "Answering questions...: 65it [36:12, 26.37s/it]"
     ]
    },
    {
     "name": "stdout",
     "output_type": "stream",
     "text": [
      "Answer: 8 --- Question_ID: 65 --- DOC: tmjl_2024_rus.pdf --- Page: 47\n"
     ]
    },
    {
     "name": "stderr",
     "output_type": "stream",
     "text": [
      "Answering questions...: 66it [36:58, 32.18s/it]"
     ]
    },
    {
     "name": "stdout",
     "output_type": "stream",
     "text": [
      "Answer: Вице-Президент Компании Geo-Jade Petroleum Corporation (КНР) --- Question_ID: 66 --- DOC: matnp_2024_rus.pdf --- Page: 24\n"
     ]
    },
    {
     "name": "stderr",
     "output_type": "stream",
     "text": [
      "Answering questions...: 67it [37:14, 27.27s/it]"
     ]
    },
    {
     "name": "stdout",
     "output_type": "stream",
     "text": [
      "Answer: Вечер, Маска, Рахат --- Question_ID: 67 --- DOC: rahtp_2024_rus.pdf --- Page: 18\n"
     ]
    },
    {
     "name": "stderr",
     "output_type": "stream",
     "text": [
      "Answering questions...: 68it [37:42, 27.35s/it]"
     ]
    },
    {
     "name": "stdout",
     "output_type": "stream",
     "text": [
      "Answer: Монголия, Китай, Южная Корея --- Question_ID: 68 --- DOC: bsulp_2024_rus.pdf --- Page: 4\n"
     ]
    },
    {
     "name": "stderr",
     "output_type": "stream",
     "text": [
      "Answering questions...: 69it [37:59, 24.37s/it]"
     ]
    },
    {
     "name": "stdout",
     "output_type": "stream",
     "text": [
      "Answer: 117681 --- Question_ID: 69 --- DOC: tmjl_2024_rus.pdf --- Page: 333\n"
     ]
    },
    {
     "name": "stderr",
     "output_type": "stream",
     "text": [
      "Answering questions...: 70it [38:22, 23.88s/it]"
     ]
    },
    {
     "name": "stdout",
     "output_type": "stream",
     "text": [
      "Answer: Каспийский Трубопроводный Консорциум --- Question_ID: 70 --- DOC: matnp_2024_rus.pdf --- Page: 33\n"
     ]
    },
    {
     "name": "stderr",
     "output_type": "stream",
     "text": [
      "Answering questions...: 71it [39:05, 29.65s/it]"
     ]
    },
    {
     "name": "stdout",
     "output_type": "stream",
     "text": [
      "Answer: 1 --- Question_ID: 71 --- DOC: fatn_af_4_2025.pdf --- Page: 1\n"
     ]
    },
    {
     "name": "stderr",
     "output_type": "stream",
     "text": [
      "Answering questions...: 72it [39:42, 31.81s/it]"
     ]
    },
    {
     "name": "stdout",
     "output_type": "stream",
     "text": [
      "Answer: 600 --- Question_ID: 72 --- DOC: aafdf5_2024_cons_rus.pdf --- Page: 2\n"
     ]
    },
    {
     "name": "stderr",
     "output_type": "stream",
     "text": [
      "Answering questions...: 73it [40:26, 35.60s/it]"
     ]
    },
    {
     "name": "stdout",
     "output_type": "stream",
     "text": [
      "Answer:  --- Question_ID: 73 --- DOC: bastp_2024_rus.pdf --- Page: 20\n"
     ]
    },
    {
     "name": "stderr",
     "output_type": "stream",
     "text": [
      "Answering questions...: 74it [40:44, 30.15s/it]"
     ]
    },
    {
     "name": "stdout",
     "output_type": "stream",
     "text": [
      "Answer: 2020 --- Question_ID: 74 --- DOC: airap_2024_rus.pdf --- Page: 56\n"
     ]
    },
    {
     "name": "stderr",
     "output_type": "stream",
     "text": [
      "Answering questions...: 75it [40:56, 24.87s/it]"
     ]
    },
    {
     "name": "stdout",
     "output_type": "stream",
     "text": [
      "Answer: 3 --- Question_ID: 75 --- DOC: fatn_af_4_2025.pdf --- Page: 1\n"
     ]
    },
    {
     "name": "stderr",
     "output_type": "stream",
     "text": [
      "Answering questions...: 76it [41:46, 32.38s/it]"
     ]
    },
    {
     "name": "stdout",
     "output_type": "stream",
     "text": [
      "Answer:  --- Question_ID: 76 --- DOC: aira_af_4_2025.pdf --- Page: 67\n"
     ]
    },
    {
     "name": "stderr",
     "output_type": "stream",
     "text": [
      "Answering questions...: 77it [42:30, 35.88s/it]"
     ]
    },
    {
     "name": "stdout",
     "output_type": "stream",
     "text": [
      "Answer: Алгазиева --- Question_ID: 77 --- DOC: oasif6_2024_rus.pdf --- Page: 7\n"
     ]
    },
    {
     "name": "stderr",
     "output_type": "stream",
     "text": [
      "Answering questions...: 78it [42:45, 29.60s/it]"
     ]
    },
    {
     "name": "stdout",
     "output_type": "stream",
     "text": [
      "Answer: 730000 --- Question_ID: 78 --- DOC: bastp_2024_rus.pdf --- Page: 18\n"
     ]
    },
    {
     "name": "stderr",
     "output_type": "stream",
     "text": [
      "Answering questions...: 79it [43:18, 30.67s/it]"
     ]
    },
    {
     "name": "stdout",
     "output_type": "stream",
     "text": [
      "Answer:  --- Question_ID: 79 --- DOC: aafdf5_2024_cons_rus.pdf --- Page: 2\n"
     ]
    },
    {
     "name": "stderr",
     "output_type": "stream",
     "text": [
      "Answering questions...: 80it [43:41, 28.39s/it]"
     ]
    },
    {
     "name": "stdout",
     "output_type": "stream",
     "text": [
      "Answer: Морское, Каратал, Даулеталы --- Question_ID: 80 --- DOC: matnp_2024_rus.pdf --- Page: 6\n"
     ]
    },
    {
     "name": "stderr",
     "output_type": "stream",
     "text": [
      "Answering questions...: 81it [44:19, 31.23s/it]"
     ]
    },
    {
     "name": "stdout",
     "output_type": "stream",
     "text": [
      "Answer:  --- Question_ID: 81 --- DOC: bastp_2024_rus.pdf --- Page: 22\n"
     ]
    },
    {
     "name": "stderr",
     "output_type": "stream",
     "text": [
      "Answering questions...: 82it [44:31, 25.45s/it]"
     ]
    },
    {
     "name": "stdout",
     "output_type": "stream",
     "text": [
      "Answer: 104986.0 --- Question_ID: 82 --- DOC: fatnp_2024_rus.pdf --- Page: 19\n"
     ]
    },
    {
     "name": "stderr",
     "output_type": "stream",
     "text": [
      "Answering questions...: 83it [45:21, 32.75s/it]"
     ]
    },
    {
     "name": "stdout",
     "output_type": "stream",
     "text": [
      "Answer: 2070 --- Question_ID: 83 --- DOC: fpstp_2024_rus.pdf --- Page: 15\n"
     ]
    },
    {
     "name": "stderr",
     "output_type": "stream",
     "text": [
      "Answering questions...: 84it [46:09, 37.30s/it]"
     ]
    },
    {
     "name": "stdout",
     "output_type": "stream",
     "text": [
      "Answer: не указано --- Question_ID: 84 --- DOC: rahtp_2024_rus.pdf --- Page: 8\n"
     ]
    },
    {
     "name": "stderr",
     "output_type": "stream",
     "text": [
      "Answering questions...: 85it [46:27, 31.49s/it]"
     ]
    },
    {
     "name": "stdout",
     "output_type": "stream",
     "text": [
      "Answer: 10.32 --- Question_ID: 85 --- DOC: fatnp_2024_rus.pdf --- Page: 19\n"
     ]
    },
    {
     "name": "stderr",
     "output_type": "stream",
     "text": [
      "Answering questions...: 86it [46:36, 24.84s/it]"
     ]
    },
    {
     "name": "stdout",
     "output_type": "stream",
     "text": [
      "Answer: Алматы, Шымкент --- Question_ID: 86 --- DOC: rahtp_2024_rus.pdf --- Page: 12\n"
     ]
    },
    {
     "name": "stderr",
     "output_type": "stream",
     "text": [
      "Answering questions...: 87it [46:47, 20.76s/it]"
     ]
    },
    {
     "name": "stdout",
     "output_type": "stream",
     "text": [
      "Answer: Да --- Question_ID: 87 --- DOC: bsulp_2024_rus.pdf --- Page: 11\n"
     ]
    },
    {
     "name": "stderr",
     "output_type": "stream",
     "text": [
      "Answering questions...: 88it [47:14, 22.68s/it]"
     ]
    },
    {
     "name": "stdout",
     "output_type": "stream",
     "text": [
      "Answer: 20 декабря 2024 года --- Question_ID: 88 --- DOC: tmjl_2024_rus.pdf --- Page: 183\n"
     ]
    },
    {
     "name": "stderr",
     "output_type": "stream",
     "text": [
      "Answering questions...: 89it [47:44, 24.87s/it]"
     ]
    },
    {
     "name": "stdout",
     "output_type": "stream",
     "text": [
      "Answer: Рахат --- Question_ID: 89 --- DOC: bsulp_2024_rus.pdf --- Page: 11\n"
     ]
    },
    {
     "name": "stderr",
     "output_type": "stream",
     "text": [
      "Answering questions...: 90it [47:56, 20.92s/it]"
     ]
    },
    {
     "name": "stdout",
     "output_type": "stream",
     "text": [
      "Answer: 219 --- Question_ID: 90 --- DOC: bastp_2024_rus.pdf --- Page: 20\n"
     ]
    },
    {
     "name": "stderr",
     "output_type": "stream",
     "text": [
      "Answering questions...: 91it [48:49, 30.61s/it]"
     ]
    },
    {
     "name": "stdout",
     "output_type": "stream",
     "text": [
      "Answer: АО «ЛОТТЕ Рахат» --- Question_ID: 91 --- DOC: rahtp_2024_rus.pdf --- Page: 8\n"
     ]
    },
    {
     "name": "stderr",
     "output_type": "stream",
     "text": [
      "Answering questions...: 92it [49:01, 24.81s/it]"
     ]
    },
    {
     "name": "stdout",
     "output_type": "stream",
     "text": [
      "Answer: ТОО «Crowe Audit KZ LLP» --- Question_ID: 92 --- DOC: bsulp_2024_rus.pdf --- Page: 58\n"
     ]
    },
    {
     "name": "stderr",
     "output_type": "stream",
     "text": [
      "Answering questions...: 93it [50:01, 35.49s/it]"
     ]
    },
    {
     "name": "stdout",
     "output_type": "stream",
     "text": [
      "Answer:  --- Question_ID: 93 --- DOC: tcibp_2024_rus.pdf --- Page: 27\n"
     ]
    },
    {
     "name": "stderr",
     "output_type": "stream",
     "text": [
      "Answering questions...: 94it [50:18, 29.85s/it]"
     ]
    },
    {
     "name": "stdout",
     "output_type": "stream",
     "text": [
      "Answer: 2 --- Question_ID: 94 --- DOC: oasi_af_4_2025.pdf --- Page: 5\n"
     ]
    },
    {
     "name": "stderr",
     "output_type": "stream",
     "text": [
      "Answering questions...: 95it [50:31, 24.89s/it]"
     ]
    },
    {
     "name": "stdout",
     "output_type": "stream",
     "text": [
      "Answer: Турлов Т.Р. --- Question_ID: 95 --- DOC: bastp_2024_rus.pdf --- Page: 6\n"
     ]
    },
    {
     "name": "stderr",
     "output_type": "stream",
     "text": [
      "Answering questions...: 96it [51:02, 26.82s/it]"
     ]
    },
    {
     "name": "stdout",
     "output_type": "stream",
     "text": [
      "Answer: 95 --- Question_ID: 96 --- DOC: tcibp_2024_rus.pdf --- Page: 25\n"
     ]
    },
    {
     "name": "stderr",
     "output_type": "stream",
     "text": [
      "Answering questions...: 97it [51:20, 24.01s/it]"
     ]
    },
    {
     "name": "stdout",
     "output_type": "stream",
     "text": [
      "Answer: Они входят в один холдинг --- Question_ID: 97 --- DOC: fatnp_2024_rus.pdf --- Page: 26\n"
     ]
    },
    {
     "name": "stderr",
     "output_type": "stream",
     "text": [
      "Answering questions...: 98it [51:33, 20.73s/it]"
     ]
    },
    {
     "name": "stdout",
     "output_type": "stream",
     "text": [
      "Answer: Управление персоналом --- Question_ID: 98 --- DOC: tcibp_2024_rus.pdf --- Page: 2\n"
     ]
    },
    {
     "name": "stderr",
     "output_type": "stream",
     "text": [
      "Answering questions...: 99it [52:44, 35.90s/it]"
     ]
    },
    {
     "name": "stdout",
     "output_type": "stream",
     "text": [
      "Answer:  --- Question_ID: 99 --- DOC: brkzf6_2024_cons_rus.pdf --- Page: 62\n"
     ]
    },
    {
     "name": "stderr",
     "output_type": "stream",
     "text": [
      "Answering questions...: 100it [53:06, 31.79s/it]"
     ]
    },
    {
     "name": "stdout",
     "output_type": "stream",
     "text": [
      "Answer: 6 --- Question_ID: 100 --- DOC: airap_2024_rus.pdf --- Page: 75\n"
     ]
    },
    {
     "name": "stderr",
     "output_type": "stream",
     "text": [
      "Answering questions...: 101it [53:37, 31.41s/it]"
     ]
    },
    {
     "name": "stdout",
     "output_type": "stream",
     "text": [
      "Answer: 43134.0 --- Question_ID: 101 --- DOC: matnp_2024_rus.pdf --- Page: 14\n"
     ]
    },
    {
     "name": "stderr",
     "output_type": "stream",
     "text": [
      "Answering questions...: 102it [54:05, 30.28s/it]"
     ]
    },
    {
     "name": "stdout",
     "output_type": "stream",
     "text": [
      "Answer: 50 --- Question_ID: 102 --- DOC: airap_2024_rus.pdf --- Page: 74\n"
     ]
    },
    {
     "name": "stderr",
     "output_type": "stream",
     "text": [
      "Answering questions...: 103it [54:28, 28.12s/it]"
     ]
    },
    {
     "name": "stdout",
     "output_type": "stream",
     "text": [
      "Answer: ТОО «Делойт» --- Question_ID: 103 --- DOC: tmjl_2024_rus.pdf --- Page: 280\n"
     ]
    },
    {
     "name": "stderr",
     "output_type": "stream",
     "text": [
      "Answering questions...: 104it [55:38, 40.72s/it]"
     ]
    },
    {
     "name": "stdout",
     "output_type": "stream",
     "text": [
      "Answer:  --- Question_ID: 104 --- DOC: airap_2024_rus.pdf --- Page: 39\n"
     ]
    },
    {
     "name": "stderr",
     "output_type": "stream",
     "text": [
      "Answering questions...: 105it [55:53, 33.20s/it]"
     ]
    },
    {
     "name": "stdout",
     "output_type": "stream",
     "text": [
      "Answer: 12.0 --- Question_ID: 105 --- DOC: rahtp_2024_rus.pdf --- Page: 19\n"
     ]
    },
    {
     "name": "stderr",
     "output_type": "stream",
     "text": [
      "Answering questions...: 106it [56:14, 29.29s/it]"
     ]
    },
    {
     "name": "stdout",
     "output_type": "stream",
     "text": [
      "Answer: PW1100G --- Question_ID: 106 --- DOC: airap_2024_rus.pdf --- Page: 45\n"
     ]
    },
    {
     "name": "stderr",
     "output_type": "stream",
     "text": [
      "Answering questions...: 107it [56:53, 32.48s/it]"
     ]
    },
    {
     "name": "stdout",
     "output_type": "stream",
     "text": [
      "Answer: нет данных --- Question_ID: 107 --- DOC: aafdf5_2024_cons_rus.pdf --- Page: 1\n"
     ]
    },
    {
     "name": "stderr",
     "output_type": "stream",
     "text": [
      "Answering questions...: 108it [57:34, 34.79s/it]"
     ]
    },
    {
     "name": "stdout",
     "output_type": "stream",
     "text": [
      "Answer: данные отсутствуют --- Question_ID: 108 --- DOC: bsulp_2024_rus.pdf --- Page: 10\n"
     ]
    },
    {
     "name": "stderr",
     "output_type": "stream",
     "text": [
      "Answering questions...: 109it [58:13, 36.05s/it]"
     ]
    },
    {
     "name": "stdout",
     "output_type": "stream",
     "text": [
      "Answer:  --- Question_ID: 109 --- DOC: brkzf6_2024_cons_rus.pdf --- Page: 1\n"
     ]
    },
    {
     "name": "stderr",
     "output_type": "stream",
     "text": [
      "Answering questions...: 110it [58:57, 38.56s/it]"
     ]
    },
    {
     "name": "stdout",
     "output_type": "stream",
     "text": [
      "Answer:  --- Question_ID: 110 --- DOC: airap_2024_rus.pdf --- Page: 1\n"
     ]
    },
    {
     "name": "stderr",
     "output_type": "stream",
     "text": [
      "Answering questions...: 111it [59:18, 33.16s/it]"
     ]
    },
    {
     "name": "stdout",
     "output_type": "stream",
     "text": [
      "Answer: 2200684 --- Question_ID: 111 --- DOC: airap_2024_rus.pdf --- Page: 67\n"
     ]
    },
    {
     "name": "stderr",
     "output_type": "stream",
     "text": [
      "Answering questions...: 112it [59:29, 26.70s/it]"
     ]
    },
    {
     "name": "stdout",
     "output_type": "stream",
     "text": [
      "Answer: г. Алматы, мкрн. Коктем-1, 15А БЦ \"Koktem Square\", 7 этаж --- Question_ID: 112 --- DOC: bastp_2024_rus.pdf --- Page: 5\n"
     ]
    },
    {
     "name": "stderr",
     "output_type": "stream",
     "text": [
      "Answering questions...: 112it [59:58, 32.13s/it]\n"
     ]
    },
    {
     "ename": "RateLimitError",
     "evalue": "Error code: 429 - {'error': {'message': 'Rate limit reached for gpt-5 in organization org-wXGkJ77mwNS8ljn87bmBc9d8 on tokens per min (TPM): Limit 30000, Used 24355, Requested 24796. Please try again in 38.302s. Visit https://platform.openai.com/account/rate-limits to learn more.', 'type': 'tokens', 'param': None, 'code': 'rate_limit_exceeded'}}",
     "output_type": "error",
     "traceback": [
      "\u001b[0;31m---------------------------------------------------------------------------\u001b[0m",
      "\u001b[0;31mRateLimitError\u001b[0m                            Traceback (most recent call last)",
      "\u001b[1;32m/Users/maximrimer/PycharmProjects/halyk_rag/code/create_vector_store.ipynb Cell 61\u001b[0m line \u001b[0;36m8\n\u001b[1;32m      <a href='vscode-notebook-cell:/Users/maximrimer/PycharmProjects/halyk_rag/code/create_vector_store.ipynb#Y231sZmlsZQ%3D%3D?line=5'>6</a>\u001b[0m question_payload[\u001b[39m'\u001b[39m\u001b[39mfull_question\u001b[39m\u001b[39m'\u001b[39m] \u001b[39m=\u001b[39m row[\u001b[39m'\u001b[39m\u001b[39mfull_question\u001b[39m\u001b[39m'\u001b[39m]\n\u001b[1;32m      <a href='vscode-notebook-cell:/Users/maximrimer/PycharmProjects/halyk_rag/code/create_vector_store.ipynb#Y231sZmlsZQ%3D%3D?line=6'>7</a>\u001b[0m question_payload[\u001b[39m'\u001b[39m\u001b[39manswer_type\u001b[39m\u001b[39m'\u001b[39m] \u001b[39m=\u001b[39m row[\u001b[39m'\u001b[39m\u001b[39manswer_type\u001b[39m\u001b[39m'\u001b[39m]\n\u001b[0;32m----> <a href='vscode-notebook-cell:/Users/maximrimer/PycharmProjects/halyk_rag/code/create_vector_store.ipynb#Y231sZmlsZQ%3D%3D?line=7'>8</a>\u001b[0m result \u001b[39m=\u001b[39m chain_structured\u001b[39m.\u001b[39;49minvoke(question_payload)\n\u001b[1;32m      <a href='vscode-notebook-cell:/Users/maximrimer/PycharmProjects/halyk_rag/code/create_vector_store.ipynb#Y231sZmlsZQ%3D%3D?line=8'>9</a>\u001b[0m \u001b[39mprint\u001b[39m(\u001b[39mf\u001b[39m\u001b[39m\"\u001b[39m\u001b[39mAnswer: \u001b[39m\u001b[39m{\u001b[39;00mresult[\u001b[39m'\u001b[39m\u001b[39manswer\u001b[39m\u001b[39m'\u001b[39m]\u001b[39m}\u001b[39;00m\u001b[39m --- Question_ID: \u001b[39m\u001b[39m{\u001b[39;00mresult[\u001b[39m'\u001b[39m\u001b[39mquestion_id\u001b[39m\u001b[39m'\u001b[39m]\u001b[39m}\u001b[39;00m\u001b[39m --- DOC: \u001b[39m\u001b[39m{\u001b[39;00mresult[\u001b[39m'\u001b[39m\u001b[39mrelevant_chunks\u001b[39m\u001b[39m'\u001b[39m][\u001b[39m0\u001b[39m][\u001b[39m'\u001b[39m\u001b[39mdocument_name\u001b[39m\u001b[39m'\u001b[39m]\u001b[39m}\u001b[39;00m\u001b[39m --- Page: \u001b[39m\u001b[39m{\u001b[39;00mresult[\u001b[39m'\u001b[39m\u001b[39mrelevant_chunks\u001b[39m\u001b[39m'\u001b[39m][\u001b[39m0\u001b[39m][\u001b[39m'\u001b[39m\u001b[39mpage_number\u001b[39m\u001b[39m'\u001b[39m]\u001b[39m}\u001b[39;00m\u001b[39m\"\u001b[39m)\n\u001b[1;32m     <a href='vscode-notebook-cell:/Users/maximrimer/PycharmProjects/halyk_rag/code/create_vector_store.ipynb#Y231sZmlsZQ%3D%3D?line=9'>10</a>\u001b[0m ans\u001b[39m.\u001b[39mappend(result)\n",
      "File \u001b[0;32m~/PycharmProjects/halyk_rag/ragenv/lib/python3.10/site-packages/langchain_core/runnables/base.py:3049\u001b[0m, in \u001b[0;36mRunnableSequence.invoke\u001b[0;34m(self, input, config, **kwargs)\u001b[0m\n\u001b[1;32m   3047\u001b[0m                 input_ \u001b[39m=\u001b[39m context\u001b[39m.\u001b[39mrun(step\u001b[39m.\u001b[39minvoke, input_, config, \u001b[39m*\u001b[39m\u001b[39m*\u001b[39mkwargs)\n\u001b[1;32m   3048\u001b[0m             \u001b[39melse\u001b[39;00m:\n\u001b[0;32m-> 3049\u001b[0m                 input_ \u001b[39m=\u001b[39m context\u001b[39m.\u001b[39;49mrun(step\u001b[39m.\u001b[39;49minvoke, input_, config)\n\u001b[1;32m   3050\u001b[0m \u001b[39m# finish the root run\u001b[39;00m\n\u001b[1;32m   3051\u001b[0m \u001b[39mexcept\u001b[39;00m \u001b[39mBaseException\u001b[39;00m \u001b[39mas\u001b[39;00m e:\n",
      "File \u001b[0;32m~/PycharmProjects/halyk_rag/ragenv/lib/python3.10/site-packages/langchain_core/runnables/base.py:3777\u001b[0m, in \u001b[0;36mRunnableParallel.invoke\u001b[0;34m(self, input, config, **kwargs)\u001b[0m\n\u001b[1;32m   3772\u001b[0m     \u001b[39mwith\u001b[39;00m get_executor_for_config(config) \u001b[39mas\u001b[39;00m executor:\n\u001b[1;32m   3773\u001b[0m         futures \u001b[39m=\u001b[39m [\n\u001b[1;32m   3774\u001b[0m             executor\u001b[39m.\u001b[39msubmit(_invoke_step, step, \u001b[39minput\u001b[39m, config, key)\n\u001b[1;32m   3775\u001b[0m             \u001b[39mfor\u001b[39;00m key, step \u001b[39min\u001b[39;00m steps\u001b[39m.\u001b[39mitems()\n\u001b[1;32m   3776\u001b[0m         ]\n\u001b[0;32m-> 3777\u001b[0m         output \u001b[39m=\u001b[39m {key: future\u001b[39m.\u001b[39mresult() \u001b[39mfor\u001b[39;00m key, future \u001b[39min\u001b[39;00m \u001b[39mzip\u001b[39m(steps, futures)}\n\u001b[1;32m   3778\u001b[0m \u001b[39m# finish the root run\u001b[39;00m\n\u001b[1;32m   3779\u001b[0m \u001b[39mexcept\u001b[39;00m \u001b[39mBaseException\u001b[39;00m \u001b[39mas\u001b[39;00m e:\n",
      "File \u001b[0;32m~/PycharmProjects/halyk_rag/ragenv/lib/python3.10/site-packages/langchain_core/runnables/base.py:3777\u001b[0m, in \u001b[0;36m<dictcomp>\u001b[0;34m(.0)\u001b[0m\n\u001b[1;32m   3772\u001b[0m     \u001b[39mwith\u001b[39;00m get_executor_for_config(config) \u001b[39mas\u001b[39;00m executor:\n\u001b[1;32m   3773\u001b[0m         futures \u001b[39m=\u001b[39m [\n\u001b[1;32m   3774\u001b[0m             executor\u001b[39m.\u001b[39msubmit(_invoke_step, step, \u001b[39minput\u001b[39m, config, key)\n\u001b[1;32m   3775\u001b[0m             \u001b[39mfor\u001b[39;00m key, step \u001b[39min\u001b[39;00m steps\u001b[39m.\u001b[39mitems()\n\u001b[1;32m   3776\u001b[0m         ]\n\u001b[0;32m-> 3777\u001b[0m         output \u001b[39m=\u001b[39m {key: future\u001b[39m.\u001b[39;49mresult() \u001b[39mfor\u001b[39;00m key, future \u001b[39min\u001b[39;00m \u001b[39mzip\u001b[39m(steps, futures)}\n\u001b[1;32m   3778\u001b[0m \u001b[39m# finish the root run\u001b[39;00m\n\u001b[1;32m   3779\u001b[0m \u001b[39mexcept\u001b[39;00m \u001b[39mBaseException\u001b[39;00m \u001b[39mas\u001b[39;00m e:\n",
      "File \u001b[0;32m~/Downloads/anaconda3/lib/python3.10/concurrent/futures/_base.py:458\u001b[0m, in \u001b[0;36mFuture.result\u001b[0;34m(self, timeout)\u001b[0m\n\u001b[1;32m    456\u001b[0m     \u001b[39mraise\u001b[39;00m CancelledError()\n\u001b[1;32m    457\u001b[0m \u001b[39melif\u001b[39;00m \u001b[39mself\u001b[39m\u001b[39m.\u001b[39m_state \u001b[39m==\u001b[39m FINISHED:\n\u001b[0;32m--> 458\u001b[0m     \u001b[39mreturn\u001b[39;00m \u001b[39mself\u001b[39;49m\u001b[39m.\u001b[39;49m__get_result()\n\u001b[1;32m    459\u001b[0m \u001b[39melse\u001b[39;00m:\n\u001b[1;32m    460\u001b[0m     \u001b[39mraise\u001b[39;00m \u001b[39mTimeoutError\u001b[39;00m()\n",
      "File \u001b[0;32m~/Downloads/anaconda3/lib/python3.10/concurrent/futures/_base.py:403\u001b[0m, in \u001b[0;36mFuture.__get_result\u001b[0;34m(self)\u001b[0m\n\u001b[1;32m    401\u001b[0m \u001b[39mif\u001b[39;00m \u001b[39mself\u001b[39m\u001b[39m.\u001b[39m_exception:\n\u001b[1;32m    402\u001b[0m     \u001b[39mtry\u001b[39;00m:\n\u001b[0;32m--> 403\u001b[0m         \u001b[39mraise\u001b[39;00m \u001b[39mself\u001b[39m\u001b[39m.\u001b[39m_exception\n\u001b[1;32m    404\u001b[0m     \u001b[39mfinally\u001b[39;00m:\n\u001b[1;32m    405\u001b[0m         \u001b[39m# Break a reference cycle with the exception in self._exception\u001b[39;00m\n\u001b[1;32m    406\u001b[0m         \u001b[39mself\u001b[39m \u001b[39m=\u001b[39m \u001b[39mNone\u001b[39;00m\n",
      "File \u001b[0;32m~/Downloads/anaconda3/lib/python3.10/concurrent/futures/thread.py:58\u001b[0m, in \u001b[0;36m_WorkItem.run\u001b[0;34m(self)\u001b[0m\n\u001b[1;32m     55\u001b[0m     \u001b[39mreturn\u001b[39;00m\n\u001b[1;32m     57\u001b[0m \u001b[39mtry\u001b[39;00m:\n\u001b[0;32m---> 58\u001b[0m     result \u001b[39m=\u001b[39m \u001b[39mself\u001b[39;49m\u001b[39m.\u001b[39;49mfn(\u001b[39m*\u001b[39;49m\u001b[39mself\u001b[39;49m\u001b[39m.\u001b[39;49margs, \u001b[39m*\u001b[39;49m\u001b[39m*\u001b[39;49m\u001b[39mself\u001b[39;49m\u001b[39m.\u001b[39;49mkwargs)\n\u001b[1;32m     59\u001b[0m \u001b[39mexcept\u001b[39;00m \u001b[39mBaseException\u001b[39;00m \u001b[39mas\u001b[39;00m exc:\n\u001b[1;32m     60\u001b[0m     \u001b[39mself\u001b[39m\u001b[39m.\u001b[39mfuture\u001b[39m.\u001b[39mset_exception(exc)\n",
      "File \u001b[0;32m~/PycharmProjects/halyk_rag/ragenv/lib/python3.10/site-packages/langchain_core/runnables/base.py:3761\u001b[0m, in \u001b[0;36mRunnableParallel.invoke.<locals>._invoke_step\u001b[0;34m(step, input_, config, key)\u001b[0m\n\u001b[1;32m   3755\u001b[0m child_config \u001b[39m=\u001b[39m patch_config(\n\u001b[1;32m   3756\u001b[0m     config,\n\u001b[1;32m   3757\u001b[0m     \u001b[39m# mark each step as a child run\u001b[39;00m\n\u001b[1;32m   3758\u001b[0m     callbacks\u001b[39m=\u001b[39mrun_manager\u001b[39m.\u001b[39mget_child(\u001b[39mf\u001b[39m\u001b[39m\"\u001b[39m\u001b[39mmap:key:\u001b[39m\u001b[39m{\u001b[39;00mkey\u001b[39m}\u001b[39;00m\u001b[39m\"\u001b[39m),\n\u001b[1;32m   3759\u001b[0m )\n\u001b[1;32m   3760\u001b[0m \u001b[39mwith\u001b[39;00m set_config_context(child_config) \u001b[39mas\u001b[39;00m context:\n\u001b[0;32m-> 3761\u001b[0m     \u001b[39mreturn\u001b[39;00m context\u001b[39m.\u001b[39;49mrun(\n\u001b[1;32m   3762\u001b[0m         step\u001b[39m.\u001b[39;49minvoke,\n\u001b[1;32m   3763\u001b[0m         input_,\n\u001b[1;32m   3764\u001b[0m         child_config,\n\u001b[1;32m   3765\u001b[0m     )\n",
      "File \u001b[0;32m~/PycharmProjects/halyk_rag/ragenv/lib/python3.10/site-packages/langchain_core/runnables/base.py:3049\u001b[0m, in \u001b[0;36mRunnableSequence.invoke\u001b[0;34m(self, input, config, **kwargs)\u001b[0m\n\u001b[1;32m   3047\u001b[0m                 input_ \u001b[39m=\u001b[39m context\u001b[39m.\u001b[39mrun(step\u001b[39m.\u001b[39minvoke, input_, config, \u001b[39m*\u001b[39m\u001b[39m*\u001b[39mkwargs)\n\u001b[1;32m   3048\u001b[0m             \u001b[39melse\u001b[39;00m:\n\u001b[0;32m-> 3049\u001b[0m                 input_ \u001b[39m=\u001b[39m context\u001b[39m.\u001b[39;49mrun(step\u001b[39m.\u001b[39;49minvoke, input_, config)\n\u001b[1;32m   3050\u001b[0m \u001b[39m# finish the root run\u001b[39;00m\n\u001b[1;32m   3051\u001b[0m \u001b[39mexcept\u001b[39;00m \u001b[39mBaseException\u001b[39;00m \u001b[39mas\u001b[39;00m e:\n",
      "File \u001b[0;32m~/PycharmProjects/halyk_rag/ragenv/lib/python3.10/site-packages/langchain_core/language_models/chat_models.py:383\u001b[0m, in \u001b[0;36mBaseChatModel.invoke\u001b[0;34m(self, input, config, stop, **kwargs)\u001b[0m\n\u001b[1;32m    371\u001b[0m \u001b[39m@override\u001b[39m\n\u001b[1;32m    372\u001b[0m \u001b[39mdef\u001b[39;00m\u001b[39m \u001b[39m\u001b[39minvoke\u001b[39m(\n\u001b[1;32m    373\u001b[0m     \u001b[39mself\u001b[39m,\n\u001b[0;32m   (...)\u001b[0m\n\u001b[1;32m    378\u001b[0m     \u001b[39m*\u001b[39m\u001b[39m*\u001b[39mkwargs: Any,\n\u001b[1;32m    379\u001b[0m ) \u001b[39m-\u001b[39m\u001b[39m>\u001b[39m BaseMessage:\n\u001b[1;32m    380\u001b[0m     config \u001b[39m=\u001b[39m ensure_config(config)\n\u001b[1;32m    381\u001b[0m     \u001b[39mreturn\u001b[39;00m cast(\n\u001b[1;32m    382\u001b[0m         \u001b[39m\"\u001b[39m\u001b[39mChatGeneration\u001b[39m\u001b[39m\"\u001b[39m,\n\u001b[0;32m--> 383\u001b[0m         \u001b[39mself\u001b[39;49m\u001b[39m.\u001b[39;49mgenerate_prompt(\n\u001b[1;32m    384\u001b[0m             [\u001b[39mself\u001b[39;49m\u001b[39m.\u001b[39;49m_convert_input(\u001b[39minput\u001b[39;49m)],\n\u001b[1;32m    385\u001b[0m             stop\u001b[39m=\u001b[39;49mstop,\n\u001b[1;32m    386\u001b[0m             callbacks\u001b[39m=\u001b[39;49mconfig\u001b[39m.\u001b[39;49mget(\u001b[39m\"\u001b[39;49m\u001b[39mcallbacks\u001b[39;49m\u001b[39m\"\u001b[39;49m),\n\u001b[1;32m    387\u001b[0m             tags\u001b[39m=\u001b[39;49mconfig\u001b[39m.\u001b[39;49mget(\u001b[39m\"\u001b[39;49m\u001b[39mtags\u001b[39;49m\u001b[39m\"\u001b[39;49m),\n\u001b[1;32m    388\u001b[0m             metadata\u001b[39m=\u001b[39;49mconfig\u001b[39m.\u001b[39;49mget(\u001b[39m\"\u001b[39;49m\u001b[39mmetadata\u001b[39;49m\u001b[39m\"\u001b[39;49m),\n\u001b[1;32m    389\u001b[0m             run_name\u001b[39m=\u001b[39;49mconfig\u001b[39m.\u001b[39;49mget(\u001b[39m\"\u001b[39;49m\u001b[39mrun_name\u001b[39;49m\u001b[39m\"\u001b[39;49m),\n\u001b[1;32m    390\u001b[0m             run_id\u001b[39m=\u001b[39;49mconfig\u001b[39m.\u001b[39;49mpop(\u001b[39m\"\u001b[39;49m\u001b[39mrun_id\u001b[39;49m\u001b[39m\"\u001b[39;49m, \u001b[39mNone\u001b[39;49;00m),\n\u001b[1;32m    391\u001b[0m             \u001b[39m*\u001b[39;49m\u001b[39m*\u001b[39;49mkwargs,\n\u001b[1;32m    392\u001b[0m         )\u001b[39m.\u001b[39mgenerations[\u001b[39m0\u001b[39m][\u001b[39m0\u001b[39m],\n\u001b[1;32m    393\u001b[0m     )\u001b[39m.\u001b[39mmessage\n",
      "File \u001b[0;32m~/PycharmProjects/halyk_rag/ragenv/lib/python3.10/site-packages/langchain_core/language_models/chat_models.py:1006\u001b[0m, in \u001b[0;36mBaseChatModel.generate_prompt\u001b[0;34m(self, prompts, stop, callbacks, **kwargs)\u001b[0m\n\u001b[1;32m    997\u001b[0m \u001b[39m@override\u001b[39m\n\u001b[1;32m    998\u001b[0m \u001b[39mdef\u001b[39;00m\u001b[39m \u001b[39m\u001b[39mgenerate_prompt\u001b[39m(\n\u001b[1;32m    999\u001b[0m     \u001b[39mself\u001b[39m,\n\u001b[0;32m   (...)\u001b[0m\n\u001b[1;32m   1003\u001b[0m     \u001b[39m*\u001b[39m\u001b[39m*\u001b[39mkwargs: Any,\n\u001b[1;32m   1004\u001b[0m ) \u001b[39m-\u001b[39m\u001b[39m>\u001b[39m LLMResult:\n\u001b[1;32m   1005\u001b[0m     prompt_messages \u001b[39m=\u001b[39m [p\u001b[39m.\u001b[39mto_messages() \u001b[39mfor\u001b[39;00m p \u001b[39min\u001b[39;00m prompts]\n\u001b[0;32m-> 1006\u001b[0m     \u001b[39mreturn\u001b[39;00m \u001b[39mself\u001b[39;49m\u001b[39m.\u001b[39;49mgenerate(prompt_messages, stop\u001b[39m=\u001b[39;49mstop, callbacks\u001b[39m=\u001b[39;49mcallbacks, \u001b[39m*\u001b[39;49m\u001b[39m*\u001b[39;49mkwargs)\n",
      "File \u001b[0;32m~/PycharmProjects/halyk_rag/ragenv/lib/python3.10/site-packages/langchain_core/language_models/chat_models.py:825\u001b[0m, in \u001b[0;36mBaseChatModel.generate\u001b[0;34m(self, messages, stop, callbacks, tags, metadata, run_name, run_id, **kwargs)\u001b[0m\n\u001b[1;32m    822\u001b[0m \u001b[39mfor\u001b[39;00m i, m \u001b[39min\u001b[39;00m \u001b[39menumerate\u001b[39m(input_messages):\n\u001b[1;32m    823\u001b[0m     \u001b[39mtry\u001b[39;00m:\n\u001b[1;32m    824\u001b[0m         results\u001b[39m.\u001b[39mappend(\n\u001b[0;32m--> 825\u001b[0m             \u001b[39mself\u001b[39;49m\u001b[39m.\u001b[39;49m_generate_with_cache(\n\u001b[1;32m    826\u001b[0m                 m,\n\u001b[1;32m    827\u001b[0m                 stop\u001b[39m=\u001b[39;49mstop,\n\u001b[1;32m    828\u001b[0m                 run_manager\u001b[39m=\u001b[39;49mrun_managers[i] \u001b[39mif\u001b[39;49;00m run_managers \u001b[39melse\u001b[39;49;00m \u001b[39mNone\u001b[39;49;00m,\n\u001b[1;32m    829\u001b[0m                 \u001b[39m*\u001b[39;49m\u001b[39m*\u001b[39;49mkwargs,\n\u001b[1;32m    830\u001b[0m             )\n\u001b[1;32m    831\u001b[0m         )\n\u001b[1;32m    832\u001b[0m     \u001b[39mexcept\u001b[39;00m \u001b[39mBaseException\u001b[39;00m \u001b[39mas\u001b[39;00m e:\n\u001b[1;32m    833\u001b[0m         \u001b[39mif\u001b[39;00m run_managers:\n",
      "File \u001b[0;32m~/PycharmProjects/halyk_rag/ragenv/lib/python3.10/site-packages/langchain_core/language_models/chat_models.py:1072\u001b[0m, in \u001b[0;36mBaseChatModel._generate_with_cache\u001b[0;34m(self, messages, stop, run_manager, **kwargs)\u001b[0m\n\u001b[1;32m   1070\u001b[0m     result \u001b[39m=\u001b[39m generate_from_stream(\u001b[39miter\u001b[39m(chunks))\n\u001b[1;32m   1071\u001b[0m \u001b[39melif\u001b[39;00m inspect\u001b[39m.\u001b[39msignature(\u001b[39mself\u001b[39m\u001b[39m.\u001b[39m_generate)\u001b[39m.\u001b[39mparameters\u001b[39m.\u001b[39mget(\u001b[39m\"\u001b[39m\u001b[39mrun_manager\u001b[39m\u001b[39m\"\u001b[39m):\n\u001b[0;32m-> 1072\u001b[0m     result \u001b[39m=\u001b[39m \u001b[39mself\u001b[39;49m\u001b[39m.\u001b[39;49m_generate(\n\u001b[1;32m   1073\u001b[0m         messages, stop\u001b[39m=\u001b[39;49mstop, run_manager\u001b[39m=\u001b[39;49mrun_manager, \u001b[39m*\u001b[39;49m\u001b[39m*\u001b[39;49mkwargs\n\u001b[1;32m   1074\u001b[0m     )\n\u001b[1;32m   1075\u001b[0m \u001b[39melse\u001b[39;00m:\n\u001b[1;32m   1076\u001b[0m     result \u001b[39m=\u001b[39m \u001b[39mself\u001b[39m\u001b[39m.\u001b[39m_generate(messages, stop\u001b[39m=\u001b[39mstop, \u001b[39m*\u001b[39m\u001b[39m*\u001b[39mkwargs)\n",
      "File \u001b[0;32m~/PycharmProjects/halyk_rag/ragenv/lib/python3.10/site-packages/langchain_openai/chat_models/base.py:1177\u001b[0m, in \u001b[0;36mBaseChatOpenAI._generate\u001b[0;34m(self, messages, stop, run_manager, **kwargs)\u001b[0m\n\u001b[1;32m   1175\u001b[0m     generation_info \u001b[39m=\u001b[39m {\u001b[39m\"\u001b[39m\u001b[39mheaders\u001b[39m\u001b[39m\"\u001b[39m: \u001b[39mdict\u001b[39m(raw_response\u001b[39m.\u001b[39mheaders)}\n\u001b[1;32m   1176\u001b[0m \u001b[39melse\u001b[39;00m:\n\u001b[0;32m-> 1177\u001b[0m     response \u001b[39m=\u001b[39m \u001b[39mself\u001b[39;49m\u001b[39m.\u001b[39;49mclient\u001b[39m.\u001b[39;49mcreate(\u001b[39m*\u001b[39;49m\u001b[39m*\u001b[39;49mpayload)\n\u001b[1;32m   1178\u001b[0m \u001b[39mreturn\u001b[39;00m \u001b[39mself\u001b[39m\u001b[39m.\u001b[39m_create_chat_result(response, generation_info)\n",
      "File \u001b[0;32m~/PycharmProjects/halyk_rag/ragenv/lib/python3.10/site-packages/openai/_utils/_utils.py:287\u001b[0m, in \u001b[0;36mrequired_args.<locals>.inner.<locals>.wrapper\u001b[0;34m(*args, **kwargs)\u001b[0m\n\u001b[1;32m    285\u001b[0m             msg \u001b[39m=\u001b[39m \u001b[39mf\u001b[39m\u001b[39m\"\u001b[39m\u001b[39mMissing required argument: \u001b[39m\u001b[39m{\u001b[39;00mquote(missing[\u001b[39m0\u001b[39m])\u001b[39m}\u001b[39;00m\u001b[39m\"\u001b[39m\n\u001b[1;32m    286\u001b[0m     \u001b[39mraise\u001b[39;00m \u001b[39mTypeError\u001b[39;00m(msg)\n\u001b[0;32m--> 287\u001b[0m \u001b[39mreturn\u001b[39;00m func(\u001b[39m*\u001b[39;49margs, \u001b[39m*\u001b[39;49m\u001b[39m*\u001b[39;49mkwargs)\n",
      "File \u001b[0;32m~/PycharmProjects/halyk_rag/ragenv/lib/python3.10/site-packages/openai/resources/chat/completions/completions.py:1150\u001b[0m, in \u001b[0;36mCompletions.create\u001b[0;34m(self, messages, model, audio, frequency_penalty, function_call, functions, logit_bias, logprobs, max_completion_tokens, max_tokens, metadata, modalities, n, parallel_tool_calls, prediction, presence_penalty, prompt_cache_key, reasoning_effort, response_format, safety_identifier, seed, service_tier, stop, store, stream, stream_options, temperature, tool_choice, tools, top_logprobs, top_p, user, verbosity, web_search_options, extra_headers, extra_query, extra_body, timeout)\u001b[0m\n\u001b[1;32m   1104\u001b[0m \u001b[39m@required_args\u001b[39m([\u001b[39m\"\u001b[39m\u001b[39mmessages\u001b[39m\u001b[39m\"\u001b[39m, \u001b[39m\"\u001b[39m\u001b[39mmodel\u001b[39m\u001b[39m\"\u001b[39m], [\u001b[39m\"\u001b[39m\u001b[39mmessages\u001b[39m\u001b[39m\"\u001b[39m, \u001b[39m\"\u001b[39m\u001b[39mmodel\u001b[39m\u001b[39m\"\u001b[39m, \u001b[39m\"\u001b[39m\u001b[39mstream\u001b[39m\u001b[39m\"\u001b[39m])\n\u001b[1;32m   1105\u001b[0m \u001b[39mdef\u001b[39;00m\u001b[39m \u001b[39m\u001b[39mcreate\u001b[39m(\n\u001b[1;32m   1106\u001b[0m     \u001b[39mself\u001b[39m,\n\u001b[0;32m   (...)\u001b[0m\n\u001b[1;32m   1147\u001b[0m     timeout: \u001b[39mfloat\u001b[39m \u001b[39m|\u001b[39m httpx\u001b[39m.\u001b[39mTimeout \u001b[39m|\u001b[39m \u001b[39mNone\u001b[39;00m \u001b[39m|\u001b[39m NotGiven \u001b[39m=\u001b[39m NOT_GIVEN,\n\u001b[1;32m   1148\u001b[0m ) \u001b[39m-\u001b[39m\u001b[39m>\u001b[39m ChatCompletion \u001b[39m|\u001b[39m Stream[ChatCompletionChunk]:\n\u001b[1;32m   1149\u001b[0m     validate_response_format(response_format)\n\u001b[0;32m-> 1150\u001b[0m     \u001b[39mreturn\u001b[39;00m \u001b[39mself\u001b[39;49m\u001b[39m.\u001b[39;49m_post(\n\u001b[1;32m   1151\u001b[0m         \u001b[39m\"\u001b[39;49m\u001b[39m/chat/completions\u001b[39;49m\u001b[39m\"\u001b[39;49m,\n\u001b[1;32m   1152\u001b[0m         body\u001b[39m=\u001b[39;49mmaybe_transform(\n\u001b[1;32m   1153\u001b[0m             {\n\u001b[1;32m   1154\u001b[0m                 \u001b[39m\"\u001b[39;49m\u001b[39mmessages\u001b[39;49m\u001b[39m\"\u001b[39;49m: messages,\n\u001b[1;32m   1155\u001b[0m                 \u001b[39m\"\u001b[39;49m\u001b[39mmodel\u001b[39;49m\u001b[39m\"\u001b[39;49m: model,\n\u001b[1;32m   1156\u001b[0m                 \u001b[39m\"\u001b[39;49m\u001b[39maudio\u001b[39;49m\u001b[39m\"\u001b[39;49m: audio,\n\u001b[1;32m   1157\u001b[0m                 \u001b[39m\"\u001b[39;49m\u001b[39mfrequency_penalty\u001b[39;49m\u001b[39m\"\u001b[39;49m: frequency_penalty,\n\u001b[1;32m   1158\u001b[0m                 \u001b[39m\"\u001b[39;49m\u001b[39mfunction_call\u001b[39;49m\u001b[39m\"\u001b[39;49m: function_call,\n\u001b[1;32m   1159\u001b[0m                 \u001b[39m\"\u001b[39;49m\u001b[39mfunctions\u001b[39;49m\u001b[39m\"\u001b[39;49m: functions,\n\u001b[1;32m   1160\u001b[0m                 \u001b[39m\"\u001b[39;49m\u001b[39mlogit_bias\u001b[39;49m\u001b[39m\"\u001b[39;49m: logit_bias,\n\u001b[1;32m   1161\u001b[0m                 \u001b[39m\"\u001b[39;49m\u001b[39mlogprobs\u001b[39;49m\u001b[39m\"\u001b[39;49m: logprobs,\n\u001b[1;32m   1162\u001b[0m                 \u001b[39m\"\u001b[39;49m\u001b[39mmax_completion_tokens\u001b[39;49m\u001b[39m\"\u001b[39;49m: max_completion_tokens,\n\u001b[1;32m   1163\u001b[0m                 \u001b[39m\"\u001b[39;49m\u001b[39mmax_tokens\u001b[39;49m\u001b[39m\"\u001b[39;49m: max_tokens,\n\u001b[1;32m   1164\u001b[0m                 \u001b[39m\"\u001b[39;49m\u001b[39mmetadata\u001b[39;49m\u001b[39m\"\u001b[39;49m: metadata,\n\u001b[1;32m   1165\u001b[0m                 \u001b[39m\"\u001b[39;49m\u001b[39mmodalities\u001b[39;49m\u001b[39m\"\u001b[39;49m: modalities,\n\u001b[1;32m   1166\u001b[0m                 \u001b[39m\"\u001b[39;49m\u001b[39mn\u001b[39;49m\u001b[39m\"\u001b[39;49m: n,\n\u001b[1;32m   1167\u001b[0m                 \u001b[39m\"\u001b[39;49m\u001b[39mparallel_tool_calls\u001b[39;49m\u001b[39m\"\u001b[39;49m: parallel_tool_calls,\n\u001b[1;32m   1168\u001b[0m                 \u001b[39m\"\u001b[39;49m\u001b[39mprediction\u001b[39;49m\u001b[39m\"\u001b[39;49m: prediction,\n\u001b[1;32m   1169\u001b[0m                 \u001b[39m\"\u001b[39;49m\u001b[39mpresence_penalty\u001b[39;49m\u001b[39m\"\u001b[39;49m: presence_penalty,\n\u001b[1;32m   1170\u001b[0m                 \u001b[39m\"\u001b[39;49m\u001b[39mprompt_cache_key\u001b[39;49m\u001b[39m\"\u001b[39;49m: prompt_cache_key,\n\u001b[1;32m   1171\u001b[0m                 \u001b[39m\"\u001b[39;49m\u001b[39mreasoning_effort\u001b[39;49m\u001b[39m\"\u001b[39;49m: reasoning_effort,\n\u001b[1;32m   1172\u001b[0m                 \u001b[39m\"\u001b[39;49m\u001b[39mresponse_format\u001b[39;49m\u001b[39m\"\u001b[39;49m: response_format,\n\u001b[1;32m   1173\u001b[0m                 \u001b[39m\"\u001b[39;49m\u001b[39msafety_identifier\u001b[39;49m\u001b[39m\"\u001b[39;49m: safety_identifier,\n\u001b[1;32m   1174\u001b[0m                 \u001b[39m\"\u001b[39;49m\u001b[39mseed\u001b[39;49m\u001b[39m\"\u001b[39;49m: seed,\n\u001b[1;32m   1175\u001b[0m                 \u001b[39m\"\u001b[39;49m\u001b[39mservice_tier\u001b[39;49m\u001b[39m\"\u001b[39;49m: service_tier,\n\u001b[1;32m   1176\u001b[0m                 \u001b[39m\"\u001b[39;49m\u001b[39mstop\u001b[39;49m\u001b[39m\"\u001b[39;49m: stop,\n\u001b[1;32m   1177\u001b[0m                 \u001b[39m\"\u001b[39;49m\u001b[39mstore\u001b[39;49m\u001b[39m\"\u001b[39;49m: store,\n\u001b[1;32m   1178\u001b[0m                 \u001b[39m\"\u001b[39;49m\u001b[39mstream\u001b[39;49m\u001b[39m\"\u001b[39;49m: stream,\n\u001b[1;32m   1179\u001b[0m                 \u001b[39m\"\u001b[39;49m\u001b[39mstream_options\u001b[39;49m\u001b[39m\"\u001b[39;49m: stream_options,\n\u001b[1;32m   1180\u001b[0m                 \u001b[39m\"\u001b[39;49m\u001b[39mtemperature\u001b[39;49m\u001b[39m\"\u001b[39;49m: temperature,\n\u001b[1;32m   1181\u001b[0m                 \u001b[39m\"\u001b[39;49m\u001b[39mtool_choice\u001b[39;49m\u001b[39m\"\u001b[39;49m: tool_choice,\n\u001b[1;32m   1182\u001b[0m                 \u001b[39m\"\u001b[39;49m\u001b[39mtools\u001b[39;49m\u001b[39m\"\u001b[39;49m: tools,\n\u001b[1;32m   1183\u001b[0m                 \u001b[39m\"\u001b[39;49m\u001b[39mtop_logprobs\u001b[39;49m\u001b[39m\"\u001b[39;49m: top_logprobs,\n\u001b[1;32m   1184\u001b[0m                 \u001b[39m\"\u001b[39;49m\u001b[39mtop_p\u001b[39;49m\u001b[39m\"\u001b[39;49m: top_p,\n\u001b[1;32m   1185\u001b[0m                 \u001b[39m\"\u001b[39;49m\u001b[39muser\u001b[39;49m\u001b[39m\"\u001b[39;49m: user,\n\u001b[1;32m   1186\u001b[0m                 \u001b[39m\"\u001b[39;49m\u001b[39mverbosity\u001b[39;49m\u001b[39m\"\u001b[39;49m: verbosity,\n\u001b[1;32m   1187\u001b[0m                 \u001b[39m\"\u001b[39;49m\u001b[39mweb_search_options\u001b[39;49m\u001b[39m\"\u001b[39;49m: web_search_options,\n\u001b[1;32m   1188\u001b[0m             },\n\u001b[1;32m   1189\u001b[0m             completion_create_params\u001b[39m.\u001b[39;49mCompletionCreateParamsStreaming\n\u001b[1;32m   1190\u001b[0m             \u001b[39mif\u001b[39;49;00m stream\n\u001b[1;32m   1191\u001b[0m             \u001b[39melse\u001b[39;49;00m completion_create_params\u001b[39m.\u001b[39;49mCompletionCreateParamsNonStreaming,\n\u001b[1;32m   1192\u001b[0m         ),\n\u001b[1;32m   1193\u001b[0m         options\u001b[39m=\u001b[39;49mmake_request_options(\n\u001b[1;32m   1194\u001b[0m             extra_headers\u001b[39m=\u001b[39;49mextra_headers, extra_query\u001b[39m=\u001b[39;49mextra_query, extra_body\u001b[39m=\u001b[39;49mextra_body, timeout\u001b[39m=\u001b[39;49mtimeout\n\u001b[1;32m   1195\u001b[0m         ),\n\u001b[1;32m   1196\u001b[0m         cast_to\u001b[39m=\u001b[39;49mChatCompletion,\n\u001b[1;32m   1197\u001b[0m         stream\u001b[39m=\u001b[39;49mstream \u001b[39mor\u001b[39;49;00m \u001b[39mFalse\u001b[39;49;00m,\n\u001b[1;32m   1198\u001b[0m         stream_cls\u001b[39m=\u001b[39;49mStream[ChatCompletionChunk],\n\u001b[1;32m   1199\u001b[0m     )\n",
      "File \u001b[0;32m~/PycharmProjects/halyk_rag/ragenv/lib/python3.10/site-packages/openai/_base_client.py:1259\u001b[0m, in \u001b[0;36mSyncAPIClient.post\u001b[0;34m(self, path, cast_to, body, options, files, stream, stream_cls)\u001b[0m\n\u001b[1;32m   1245\u001b[0m \u001b[39mdef\u001b[39;00m\u001b[39m \u001b[39m\u001b[39mpost\u001b[39m(\n\u001b[1;32m   1246\u001b[0m     \u001b[39mself\u001b[39m,\n\u001b[1;32m   1247\u001b[0m     path: \u001b[39mstr\u001b[39m,\n\u001b[0;32m   (...)\u001b[0m\n\u001b[1;32m   1254\u001b[0m     stream_cls: \u001b[39mtype\u001b[39m[_StreamT] \u001b[39m|\u001b[39m \u001b[39mNone\u001b[39;00m \u001b[39m=\u001b[39m \u001b[39mNone\u001b[39;00m,\n\u001b[1;32m   1255\u001b[0m ) \u001b[39m-\u001b[39m\u001b[39m>\u001b[39m ResponseT \u001b[39m|\u001b[39m _StreamT:\n\u001b[1;32m   1256\u001b[0m     opts \u001b[39m=\u001b[39m FinalRequestOptions\u001b[39m.\u001b[39mconstruct(\n\u001b[1;32m   1257\u001b[0m         method\u001b[39m=\u001b[39m\u001b[39m\"\u001b[39m\u001b[39mpost\u001b[39m\u001b[39m\"\u001b[39m, url\u001b[39m=\u001b[39mpath, json_data\u001b[39m=\u001b[39mbody, files\u001b[39m=\u001b[39mto_httpx_files(files), \u001b[39m*\u001b[39m\u001b[39m*\u001b[39moptions\n\u001b[1;32m   1258\u001b[0m     )\n\u001b[0;32m-> 1259\u001b[0m     \u001b[39mreturn\u001b[39;00m cast(ResponseT, \u001b[39mself\u001b[39;49m\u001b[39m.\u001b[39;49mrequest(cast_to, opts, stream\u001b[39m=\u001b[39;49mstream, stream_cls\u001b[39m=\u001b[39;49mstream_cls))\n",
      "File \u001b[0;32m~/PycharmProjects/halyk_rag/ragenv/lib/python3.10/site-packages/openai/_base_client.py:1047\u001b[0m, in \u001b[0;36mSyncAPIClient.request\u001b[0;34m(self, cast_to, options, stream, stream_cls)\u001b[0m\n\u001b[1;32m   1044\u001b[0m             err\u001b[39m.\u001b[39mresponse\u001b[39m.\u001b[39mread()\n\u001b[1;32m   1046\u001b[0m         log\u001b[39m.\u001b[39mdebug(\u001b[39m\"\u001b[39m\u001b[39mRe-raising status error\u001b[39m\u001b[39m\"\u001b[39m)\n\u001b[0;32m-> 1047\u001b[0m         \u001b[39mraise\u001b[39;00m \u001b[39mself\u001b[39m\u001b[39m.\u001b[39m_make_status_error_from_response(err\u001b[39m.\u001b[39mresponse) \u001b[39mfrom\u001b[39;00m\u001b[39m \u001b[39m\u001b[39mNone\u001b[39;00m\n\u001b[1;32m   1049\u001b[0m     \u001b[39mbreak\u001b[39;00m\n\u001b[1;32m   1051\u001b[0m \u001b[39massert\u001b[39;00m response \u001b[39mis\u001b[39;00m \u001b[39mnot\u001b[39;00m \u001b[39mNone\u001b[39;00m, \u001b[39m\"\u001b[39m\u001b[39mcould not resolve response (should never happen)\u001b[39m\u001b[39m\"\u001b[39m\n",
      "\u001b[0;31mRateLimitError\u001b[0m: Error code: 429 - {'error': {'message': 'Rate limit reached for gpt-5 in organization org-wXGkJ77mwNS8ljn87bmBc9d8 on tokens per min (TPM): Limit 30000, Used 24355, Requested 24796. Please try again in 38.302s. Visit https://platform.openai.com/account/rate-limits to learn more.', 'type': 'tokens', 'param': None, 'code': 'rate_limit_exceeded'}}"
     ]
    }
   ],
   "source": [
    "ans = []\n",
    "\n",
    "for id, row in tqdm.tqdm(questions.iterrows(), desc=\"Answering questions...\"):\n",
    "    question_payload = {}\n",
    "    question_payload['id'] = row['id']\n",
    "    question_payload['full_question'] = row['full_question']\n",
    "    question_payload['answer_type'] = row['answer_type']\n",
    "    result = chain_structured.invoke(question_payload)\n",
    "    print(f\"Answer: {result['answer']} --- Question_ID: {result['question_id']} --- DOC: {result['relevant_chunks'][0]['document_name']} --- Page: {result['relevant_chunks'][0]['page_number']}\")\n",
    "    ans.append(result)"
   ]
  },
  {
   "cell_type": "code",
   "execution_count": null,
   "metadata": {},
   "outputs": [],
   "source": []
  },
  {
   "cell_type": "code",
   "execution_count": 215,
   "metadata": {},
   "outputs": [],
   "source": [
    "questions_cut = questions[questions['id'] > 112]"
   ]
  },
  {
   "cell_type": "code",
   "execution_count": 217,
   "metadata": {},
   "outputs": [
    {
     "name": "stderr",
     "output_type": "stream",
     "text": [
      "Answering questions...: 0it [00:00, ?it/s]"
     ]
    },
    {
     "name": "stdout",
     "output_type": "stream",
     "text": [
      "Answer: ТОО «Эрнст энд Янг» --- Question_ID: 113 --- DOC: matnp_2024_rus.pdf --- Page: 37\n"
     ]
    },
    {
     "name": "stderr",
     "output_type": "stream",
     "text": [
      "Answering questions...: 1it [00:14, 14.88s/it]"
     ]
    },
    {
     "name": "stdout",
     "output_type": "stream",
     "text": [
      "Answer: не указан --- Question_ID: 114 --- DOC: oasi_af_4_2025.pdf --- Page: 5\n"
     ]
    },
    {
     "name": "stderr",
     "output_type": "stream",
     "text": [
      "Answering questions...: 2it [00:46, 24.51s/it]"
     ]
    },
    {
     "name": "stdout",
     "output_type": "stream",
     "text": [
      "Answer: Кушеров Даир Адильбекович --- Question_ID: 115 --- DOC: tmjl_2024_rus.pdf --- Page: 266\n"
     ]
    },
    {
     "name": "stderr",
     "output_type": "stream",
     "text": [
      "Answering questions...: 3it [01:09, 23.79s/it]"
     ]
    },
    {
     "name": "stdout",
     "output_type": "stream",
     "text": [
      "Answer: 6013245 --- Question_ID: 116 --- DOC: airap_2024_rus.pdf --- Page: 67\n"
     ]
    },
    {
     "name": "stderr",
     "output_type": "stream",
     "text": [
      "Answering questions...: 4it [01:46, 29.36s/it]"
     ]
    },
    {
     "name": "stdout",
     "output_type": "stream",
     "text": [
      "Answer: 60 --- Question_ID: 117 --- DOC: kztkp_2024_rus.pdf --- Page: 39\n"
     ]
    },
    {
     "name": "stderr",
     "output_type": "stream",
     "text": [
      "Answering questions...: 5it [01:58, 23.02s/it]"
     ]
    },
    {
     "name": "stdout",
     "output_type": "stream",
     "text": [
      "Answer: 23964 --- Question_ID: 118 --- DOC: fpstp_2024_rus.pdf --- Page: 55\n"
     ]
    },
    {
     "name": "stderr",
     "output_type": "stream",
     "text": [
      "Answering questions...: 6it [02:42, 29.92s/it]"
     ]
    },
    {
     "name": "stdout",
     "output_type": "stream",
     "text": [
      "Answer: BB --- Question_ID: 119 --- DOC: tmjl_2024_rus.pdf --- Page: 27\n"
     ]
    },
    {
     "name": "stderr",
     "output_type": "stream",
     "text": [
      "Answering questions...: 7it [03:05, 27.74s/it]"
     ]
    },
    {
     "name": "stdout",
     "output_type": "stream",
     "text": [
      "Answer:  --- Question_ID: 120 --- DOC: airap_2024_rus.pdf --- Page: 55\n"
     ]
    },
    {
     "name": "stderr",
     "output_type": "stream",
     "text": [
      "Answering questions...: 8it [04:05, 37.95s/it]"
     ]
    },
    {
     "name": "stdout",
     "output_type": "stream",
     "text": [
      "Answer: 4,5,8,10,13,17 --- Question_ID: 121 --- DOC: airap_2024_rus.pdf --- Page: 24\n"
     ]
    },
    {
     "name": "stderr",
     "output_type": "stream",
     "text": [
      "Answering questions...: 9it [04:14, 28.99s/it]"
     ]
    },
    {
     "name": "stdout",
     "output_type": "stream",
     "text": [
      "Answer: не указано --- Question_ID: 122 --- DOC: rahtp_2024_rus.pdf --- Page: 69\n"
     ]
    },
    {
     "name": "stderr",
     "output_type": "stream",
     "text": [
      "Answering questions...: 10it [04:47, 30.28s/it]"
     ]
    },
    {
     "name": "stdout",
     "output_type": "stream",
     "text": [
      "Answer:  --- Question_ID: 123 --- DOC: tmjl_af_1_2025.pdf --- Page: 95\n"
     ]
    },
    {
     "name": "stderr",
     "output_type": "stream",
     "text": [
      "Answering questions...: 11it [05:40, 37.13s/it]"
     ]
    },
    {
     "name": "stdout",
     "output_type": "stream",
     "text": [
      "Answer: 473 --- Question_ID: 124 --- DOC: bsulp_2024_rus.pdf --- Page: 19\n"
     ]
    },
    {
     "name": "stderr",
     "output_type": "stream",
     "text": [
      "Answering questions...: 12it [05:56, 30.69s/it]"
     ]
    },
    {
     "name": "stdout",
     "output_type": "stream",
     "text": [
      "Answer: 3 --- Question_ID: 125 --- DOC: fatnp_2024_rus.pdf --- Page: 19\n"
     ]
    },
    {
     "name": "stderr",
     "output_type": "stream",
     "text": [
      "Answering questions...: 13it [06:20, 28.65s/it]"
     ]
    },
    {
     "name": "stdout",
     "output_type": "stream",
     "text": [
      "Answer: 8.47 --- Question_ID: 126 --- DOC: bastp_2024_rus.pdf --- Page: 6\n"
     ]
    },
    {
     "name": "stderr",
     "output_type": "stream",
     "text": [
      "Answering questions...: 14it [06:47, 28.16s/it]"
     ]
    },
    {
     "name": "stdout",
     "output_type": "stream",
     "text": [
      "Answer:  --- Question_ID: 127 --- DOC: brkzf6_2024_cons_rus.pdf --- Page: 60\n"
     ]
    },
    {
     "name": "stderr",
     "output_type": "stream",
     "text": [
      "Answering questions...: 15it [07:55, 40.14s/it]"
     ]
    },
    {
     "name": "stdout",
     "output_type": "stream",
     "text": [
      "Answer: 28761700 --- Question_ID: 128 --- DOC: brkzf6_2024_cons_rus.pdf --- Page: 76\n"
     ]
    },
    {
     "name": "stderr",
     "output_type": "stream",
     "text": [
      "Answering questions...: 16it [08:25, 37.15s/it]"
     ]
    },
    {
     "name": "stdout",
     "output_type": "stream",
     "text": [
      "Answer:  --- Question_ID: 129 --- DOC: bsulp_2024_rus.pdf --- Page: 17\n"
     ]
    },
    {
     "name": "stderr",
     "output_type": "stream",
     "text": [
      "Answering questions...: 17it [09:11, 39.79s/it]"
     ]
    },
    {
     "name": "stdout",
     "output_type": "stream",
     "text": [
      "Answer: 5 --- Question_ID: 130 --- DOC: tmjl_2024_rus.pdf --- Page: 47\n"
     ]
    },
    {
     "name": "stderr",
     "output_type": "stream",
     "text": [
      "Answering questions...: 18it [09:28, 32.93s/it]"
     ]
    },
    {
     "name": "stdout",
     "output_type": "stream",
     "text": [
      "Answer:  --- Question_ID: 131 --- DOC: tmjl_2024_rus.pdf --- Page: 326\n"
     ]
    },
    {
     "name": "stderr",
     "output_type": "stream",
     "text": [
      "Answering questions...: 19it [10:19, 38.54s/it]"
     ]
    },
    {
     "name": "stdout",
     "output_type": "stream",
     "text": [
      "Answer:  --- Question_ID: 132 --- DOC: airap_2024_rus.pdf --- Page: 41\n"
     ]
    },
    {
     "name": "stderr",
     "output_type": "stream",
     "text": [
      "Answering questions...: 20it [11:09, 41.82s/it]"
     ]
    },
    {
     "name": "stdout",
     "output_type": "stream",
     "text": [
      "Answer: Бакиева Дина Бактжановна --- Question_ID: 133 --- DOC: tcibp_2024_rus.pdf --- Page: 20\n"
     ]
    },
    {
     "name": "stderr",
     "output_type": "stream",
     "text": [
      "Answering questions...: 21it [11:34, 36.90s/it]"
     ]
    },
    {
     "name": "stdout",
     "output_type": "stream",
     "text": [
      "Answer: 40 --- Question_ID: 134 --- DOC: tcibp_2024_rus.pdf --- Page: 3\n"
     ]
    },
    {
     "name": "stderr",
     "output_type": "stream",
     "text": [
      "Answering questions...: 22it [11:55, 32.11s/it]"
     ]
    },
    {
     "name": "stdout",
     "output_type": "stream",
     "text": [
      "Answer: ТОО Компания Фаэтон владеет 100% долей участия в ТОО MALIT LTD --- Question_ID: 135 --- DOC: fatnp_2024_rus.pdf --- Page: 27\n"
     ]
    },
    {
     "name": "stderr",
     "output_type": "stream",
     "text": [
      "Answering questions...: 23it [12:16, 28.74s/it]"
     ]
    },
    {
     "name": "stdout",
     "output_type": "stream",
     "text": [
      "Answer:  --- Question_ID: 136 --- DOC: matnp_2024_rus.pdf --- Page: 2\n"
     ]
    },
    {
     "name": "stderr",
     "output_type": "stream",
     "text": [
      "Answering questions...: 24it [13:11, 36.74s/it]"
     ]
    },
    {
     "name": "stdout",
     "output_type": "stream",
     "text": [
      "Answer:  --- Question_ID: 137 --- DOC: aira_af_4_2025.pdf --- Page: 26\n"
     ]
    },
    {
     "name": "stderr",
     "output_type": "stream",
     "text": [
      "Answering questions...: 25it [14:06, 42.03s/it]"
     ]
    },
    {
     "name": "stdout",
     "output_type": "stream",
     "text": [
      "Answer: 0.01 --- Question_ID: 138 --- DOC: fpstp_2024_rus.pdf --- Page: 58\n"
     ]
    },
    {
     "name": "stderr",
     "output_type": "stream",
     "text": [
      "Answering questions...: 26it [14:31, 36.89s/it]"
     ]
    },
    {
     "name": "stdout",
     "output_type": "stream",
     "text": [
      "Answer: не указано --- Question_ID: 139 --- DOC: tmjl_2024_rus.pdf --- Page: 9\n"
     ]
    },
    {
     "name": "stderr",
     "output_type": "stream",
     "text": [
      "Answering questions...: 27it [15:24, 41.73s/it]"
     ]
    },
    {
     "name": "stdout",
     "output_type": "stream",
     "text": [
      "Answer: 2 --- Question_ID: 140 --- DOC: kztkp_2024_rus.pdf --- Page: 41\n"
     ]
    },
    {
     "name": "stderr",
     "output_type": "stream",
     "text": [
      "Answering questions...: 28it [15:50, 37.08s/it]"
     ]
    },
    {
     "name": "stdout",
     "output_type": "stream",
     "text": [
      "Answer: 2005 --- Question_ID: 141 --- DOC: airap_2024_rus.pdf --- Page: 71\n"
     ]
    },
    {
     "name": "stderr",
     "output_type": "stream",
     "text": [
      "Answering questions...: 29it [16:06, 30.74s/it]"
     ]
    },
    {
     "name": "stdout",
     "output_type": "stream",
     "text": [
      "Answer: 2286 --- Question_ID: 142 --- DOC: fpstp_2024_rus.pdf --- Page: 15\n"
     ]
    },
    {
     "name": "stderr",
     "output_type": "stream",
     "text": [
      "Answering questions...: 30it [16:54, 35.86s/it]"
     ]
    },
    {
     "name": "stdout",
     "output_type": "stream",
     "text": [
      "Answer: 14 --- Question_ID: 143 --- DOC: kztkp_2024_rus.pdf --- Page: 67\n"
     ]
    },
    {
     "name": "stderr",
     "output_type": "stream",
     "text": [
      "Answering questions...: 31it [17:22, 33.55s/it]"
     ]
    },
    {
     "name": "stdout",
     "output_type": "stream",
     "text": [
      "Answer:  --- Question_ID: 144 --- DOC: tmjl_af_1_2025.pdf --- Page: 37\n"
     ]
    },
    {
     "name": "stderr",
     "output_type": "stream",
     "text": [
      "Answering questions...: 32it [18:12, 38.54s/it]"
     ]
    },
    {
     "name": "stdout",
     "output_type": "stream",
     "text": [
      "Answer: 36.8 --- Question_ID: 145 --- DOC: bastp_2024_rus.pdf --- Page: 8\n"
     ]
    },
    {
     "name": "stderr",
     "output_type": "stream",
     "text": [
      "Answering questions...: 33it [18:33, 33.27s/it]"
     ]
    },
    {
     "name": "stdout",
     "output_type": "stream",
     "text": [
      "Answer: 0.00 --- Question_ID: 146 --- DOC: fpstp_2024_rus.pdf --- Page: 48\n"
     ]
    },
    {
     "name": "stderr",
     "output_type": "stream",
     "text": [
      "Answering questions...: 34it [19:25, 38.83s/it]"
     ]
    },
    {
     "name": "stdout",
     "output_type": "stream",
     "text": [
      "Answer: 3739.71 --- Question_ID: 147 --- DOC: tmjl_2024_rus.pdf --- Page: 143\n"
     ]
    },
    {
     "name": "stderr",
     "output_type": "stream",
     "text": [
      "Answering questions...: 35it [19:44, 32.86s/it]"
     ]
    },
    {
     "name": "stdout",
     "output_type": "stream",
     "text": [
      "Answer:  --- Question_ID: 148 --- DOC: tmjl_af_1_2025.pdf --- Page: 96\n"
     ]
    },
    {
     "name": "stderr",
     "output_type": "stream",
     "text": [
      "Answering questions...: 36it [20:34, 38.18s/it]"
     ]
    },
    {
     "name": "stdout",
     "output_type": "stream",
     "text": [
      "Answer: 100 --- Question_ID: 149 --- DOC: bastp_2024_rus.pdf --- Page: 56\n"
     ]
    },
    {
     "name": "stderr",
     "output_type": "stream",
     "text": [
      "Answering questions...: 37it [20:52, 32.07s/it]"
     ]
    },
    {
     "name": "stdout",
     "output_type": "stream",
     "text": [
      "Answer:  --- Question_ID: 150 --- DOC: tmjl_af_1_2025.pdf --- Page: 96\n"
     ]
    },
    {
     "name": "stderr",
     "output_type": "stream",
     "text": [
      "Answering questions...: 38it [22:00, 42.76s/it]"
     ]
    },
    {
     "name": "stdout",
     "output_type": "stream",
     "text": [
      "Answer: The Shanyraq --- Question_ID: 151 --- DOC: airap_2024_rus.pdf --- Page: 46\n"
     ]
    },
    {
     "name": "stderr",
     "output_type": "stream",
     "text": [
      "Answering questions...: 39it [22:25, 37.61s/it]"
     ]
    },
    {
     "name": "stdout",
     "output_type": "stream",
     "text": [
      "Answer: 0.0 --- Question_ID: 152 --- DOC: fpstp_2024_rus.pdf --- Page: 85\n"
     ]
    },
    {
     "name": "stderr",
     "output_type": "stream",
     "text": [
      "Answering questions...: 40it [22:49, 33.33s/it]"
     ]
    },
    {
     "name": "stdout",
     "output_type": "stream",
     "text": [
      "Answer:  --- Question_ID: 153 --- DOC: aafd_af_4_2025.pdf --- Page: 14\n"
     ]
    },
    {
     "name": "stderr",
     "output_type": "stream",
     "text": [
      "Answering questions...: 41it [23:26, 34.42s/it]"
     ]
    },
    {
     "name": "stdout",
     "output_type": "stream",
     "text": [
      "Answer:  --- Question_ID: 154 --- DOC: bsulp_2024_rus.pdf --- Page: 17\n"
     ]
    },
    {
     "name": "stderr",
     "output_type": "stream",
     "text": [
      "Answering questions...: 42it [24:09, 37.18s/it]"
     ]
    },
    {
     "name": "stdout",
     "output_type": "stream",
     "text": [
      "Answer: нет данных --- Question_ID: 155 --- DOC: aafdf5_2024_cons_rus.pdf --- Page: 8\n"
     ]
    },
    {
     "name": "stderr",
     "output_type": "stream",
     "text": [
      "Answering questions...: 43it [24:37, 34.44s/it]"
     ]
    },
    {
     "name": "stdout",
     "output_type": "stream",
     "text": [
      "Answer: 2025 --- Question_ID: 156 --- DOC: tcibp_2024_rus.pdf --- Page: 27\n"
     ]
    },
    {
     "name": "stderr",
     "output_type": "stream",
     "text": [
      "Answering questions...: 44it [24:53, 28.85s/it]"
     ]
    },
    {
     "name": "stdout",
     "output_type": "stream",
     "text": [
      "Answer: 84 --- Question_ID: 157 --- DOC: tmjl_2024_rus.pdf --- Page: 172\n"
     ]
    },
    {
     "name": "stderr",
     "output_type": "stream",
     "text": [
      "Answering questions...: 45it [25:26, 29.92s/it]"
     ]
    },
    {
     "name": "stdout",
     "output_type": "stream",
     "text": [
      "Answer: 3 --- Question_ID: 158 --- DOC: bastp_2024_rus.pdf --- Page: 51\n"
     ]
    },
    {
     "name": "stderr",
     "output_type": "stream",
     "text": [
      "Answering questions...: 46it [25:40, 25.37s/it]"
     ]
    },
    {
     "name": "stdout",
     "output_type": "stream",
     "text": [
      "Answer: 0.6 --- Question_ID: 159 --- DOC: tmjl_2024_rus.pdf --- Page: 207\n"
     ]
    },
    {
     "name": "stderr",
     "output_type": "stream",
     "text": [
      "Answering questions...: 47it [26:20, 29.66s/it]"
     ]
    },
    {
     "name": "stdout",
     "output_type": "stream",
     "text": [
      "Answer: 26 --- Question_ID: 160 --- DOC: airap_2024_rus.pdf --- Page: 67\n"
     ]
    },
    {
     "name": "stderr",
     "output_type": "stream",
     "text": [
      "Answering questions...: 48it [26:50, 29.66s/it]"
     ]
    },
    {
     "name": "stdout",
     "output_type": "stream",
     "text": [
      "Answer: 1968 --- Question_ID: 161 --- DOC: kztkp_2024_rus.pdf --- Page: 100\n"
     ]
    },
    {
     "name": "stderr",
     "output_type": "stream",
     "text": [
      "Answering questions...: 49it [27:10, 26.75s/it]"
     ]
    },
    {
     "name": "stdout",
     "output_type": "stream",
     "text": [
      "Answer: Алматы --- Question_ID: 162 --- DOC: bsulp_2024_rus.pdf --- Page: 10\n"
     ]
    },
    {
     "name": "stderr",
     "output_type": "stream",
     "text": [
      "Answering questions...: 50it [27:42, 28.49s/it]"
     ]
    },
    {
     "name": "stdout",
     "output_type": "stream",
     "text": [
      "Answer: 16198.2 --- Question_ID: 163 --- DOC: tmjl_2024_rus.pdf --- Page: 47\n"
     ]
    },
    {
     "name": "stderr",
     "output_type": "stream",
     "text": [
      "Answering questions...: 51it [28:20, 31.41s/it]"
     ]
    },
    {
     "name": "stdout",
     "output_type": "stream",
     "text": [
      "Answer: 77 --- Question_ID: 164 --- DOC: kztkp_2024_rus.pdf --- Page: 23\n"
     ]
    },
    {
     "name": "stderr",
     "output_type": "stream",
     "text": [
      "Answering questions...: 52it [28:46, 29.57s/it]"
     ]
    },
    {
     "name": "stdout",
     "output_type": "stream",
     "text": [
      "Answer: FlyArystan --- Question_ID: 165 --- DOC: airap_2024_rus.pdf --- Page: 17\n"
     ]
    },
    {
     "name": "stderr",
     "output_type": "stream",
     "text": [
      "Answering questions...: 53it [29:21, 31.24s/it]"
     ]
    },
    {
     "name": "stdout",
     "output_type": "stream",
     "text": [
      "Answer: не указано --- Question_ID: 166 --- DOC: bastp_2024_rus.pdf --- Page: 63\n"
     ]
    },
    {
     "name": "stderr",
     "output_type": "stream",
     "text": [
      "Answering questions...: 54it [30:06, 35.35s/it]"
     ]
    },
    {
     "name": "stdout",
     "output_type": "stream",
     "text": [
      "Answer: не указано --- Question_ID: 167 --- DOC: oasif6_2024_rus.pdf --- Page: 2\n"
     ]
    },
    {
     "name": "stderr",
     "output_type": "stream",
     "text": [
      "Answering questions...: 55it [30:37, 34.24s/it]"
     ]
    },
    {
     "name": "stdout",
     "output_type": "stream",
     "text": [
      "Answer: 26.0 --- Question_ID: 168 --- DOC: tmjl_2024_rus.pdf --- Page: 37\n"
     ]
    },
    {
     "name": "stderr",
     "output_type": "stream",
     "text": [
      "Answering questions...: 56it [31:04, 31.95s/it]"
     ]
    },
    {
     "name": "stdout",
     "output_type": "stream",
     "text": [
      "Answer: Показатели экологического аспекта --- Question_ID: 169 --- DOC: tmjl_2024_rus.pdf --- Page: 1\n"
     ]
    },
    {
     "name": "stderr",
     "output_type": "stream",
     "text": [
      "Answering questions...: 57it [31:36, 31.95s/it]"
     ]
    },
    {
     "name": "stdout",
     "output_type": "stream",
     "text": [
      "Answer: Да --- Question_ID: 170 --- DOC: rahtp_2024_rus.pdf --- Page: 13\n"
     ]
    },
    {
     "name": "stderr",
     "output_type": "stream",
     "text": [
      "Answering questions...: 58it [31:49, 26.40s/it]"
     ]
    },
    {
     "name": "stdout",
     "output_type": "stream",
     "text": [
      "Answer: 3,4,5,6,12,13 --- Question_ID: 171 --- DOC: tmjl_2024_rus.pdf --- Page: 91\n"
     ]
    },
    {
     "name": "stderr",
     "output_type": "stream",
     "text": [
      "Answering questions...: 59it [32:41, 33.93s/it]"
     ]
    },
    {
     "name": "stdout",
     "output_type": "stream",
     "text": [
      "Answer: Связь не указана --- Question_ID: 172 --- DOC: fatn_af_4_2025.pdf --- Page: 1\n"
     ]
    },
    {
     "name": "stderr",
     "output_type": "stream",
     "text": [
      "Answering questions...: 60it [33:22, 36.02s/it]"
     ]
    },
    {
     "name": "stdout",
     "output_type": "stream",
     "text": [
      "Answer: Ким О.В. --- Question_ID: 173 --- DOC: fatnp_2024_rus.pdf --- Page: 27\n"
     ]
    },
    {
     "name": "stderr",
     "output_type": "stream",
     "text": [
      "Answering questions...: 61it [33:34, 28.95s/it]"
     ]
    },
    {
     "name": "stdout",
     "output_type": "stream",
     "text": [
      "Answer:  --- Question_ID: 174 --- DOC: fatnp_2024_rus.pdf --- Page: 32\n"
     ]
    },
    {
     "name": "stderr",
     "output_type": "stream",
     "text": [
      "Answering questions...: 62it [34:25, 35.60s/it]"
     ]
    },
    {
     "name": "stdout",
     "output_type": "stream",
     "text": [
      "Answer: 13589 --- Question_ID: 175 --- DOC: fpstp_2024_rus.pdf --- Page: 82\n"
     ]
    },
    {
     "name": "stderr",
     "output_type": "stream",
     "text": [
      "Answering questions...: 63it [34:42, 29.78s/it]"
     ]
    },
    {
     "name": "stdout",
     "output_type": "stream",
     "text": [
      "Answer: высокая изношенность оборудования и нерентабельность --- Question_ID: 176 --- DOC: bastp_2024_rus.pdf --- Page: 10\n"
     ]
    },
    {
     "name": "stderr",
     "output_type": "stream",
     "text": [
      "Answering questions...: 64it [34:55, 24.82s/it]"
     ]
    },
    {
     "name": "stdout",
     "output_type": "stream",
     "text": [
      "Answer: KTZ Express --- Question_ID: 177 --- DOC: tmjl_2024_rus.pdf --- Page: 14\n"
     ]
    },
    {
     "name": "stderr",
     "output_type": "stream",
     "text": [
      "Answering questions...: 65it [35:50, 33.96s/it]"
     ]
    },
    {
     "name": "stdout",
     "output_type": "stream",
     "text": [
      "Answer: 21.45 --- Question_ID: 178 --- DOC: kztkp_2024_rus.pdf --- Page: 51\n"
     ]
    },
    {
     "name": "stderr",
     "output_type": "stream",
     "text": [
      "Answering questions...: 66it [36:32, 36.40s/it]"
     ]
    },
    {
     "name": "stdout",
     "output_type": "stream",
     "text": [
      "Answer: 9 --- Question_ID: 179 --- DOC: tcibp_2024_rus.pdf --- Page: 11\n"
     ]
    },
    {
     "name": "stderr",
     "output_type": "stream",
     "text": [
      "Answering questions...: 67it [36:44, 29.04s/it]"
     ]
    },
    {
     "name": "stdout",
     "output_type": "stream",
     "text": [
      "Answer: 0 --- Question_ID: 180 --- DOC: raht_af_4_2025.pdf --- Page: 2\n"
     ]
    },
    {
     "name": "stderr",
     "output_type": "stream",
     "text": [
      "Answering questions...: 68it [37:12, 28.63s/it]"
     ]
    },
    {
     "name": "stdout",
     "output_type": "stream",
     "text": [
      "Answer: Штадлер --- Question_ID: 181 --- DOC: tmjl_2024_rus.pdf --- Page: 37\n"
     ]
    },
    {
     "name": "stderr",
     "output_type": "stream",
     "text": [
      "Answering questions...: 69it [37:43, 29.32s/it]"
     ]
    },
    {
     "name": "stdout",
     "output_type": "stream",
     "text": [
      "Answer:  --- Question_ID: 182 --- DOC: aafdf5_2024_cons_rus.pdf --- Page: 2\n"
     ]
    },
    {
     "name": "stderr",
     "output_type": "stream",
     "text": [
      "Answering questions...: 70it [38:46, 39.47s/it]"
     ]
    },
    {
     "name": "stdout",
     "output_type": "stream",
     "text": [
      "Answer:  --- Question_ID: 183 --- DOC: tmjl_af_1_2025.pdf --- Page: 37\n"
     ]
    },
    {
     "name": "stderr",
     "output_type": "stream",
     "text": [
      "Answering questions...: 71it [39:23, 38.90s/it]"
     ]
    },
    {
     "name": "stdout",
     "output_type": "stream",
     "text": [
      "Answer: 0 --- Question_ID: 184 --- DOC: tmjl_2024_rus.pdf --- Page: 86\n"
     ]
    },
    {
     "name": "stderr",
     "output_type": "stream",
     "text": [
      "Answering questions...: 72it [39:49, 34.94s/it]"
     ]
    },
    {
     "name": "stdout",
     "output_type": "stream",
     "text": [
      "Answer:  --- Question_ID: 185 --- DOC: fpstp_2024_rus.pdf --- Page: 31\n"
     ]
    },
    {
     "name": "stderr",
     "output_type": "stream",
     "text": [
      "Answering questions...: 73it [40:41, 39.94s/it]"
     ]
    },
    {
     "name": "stdout",
     "output_type": "stream",
     "text": [
      "Answer:  --- Question_ID: 186 --- DOC: tmjl_af_1_2025.pdf --- Page: 87\n"
     ]
    },
    {
     "name": "stderr",
     "output_type": "stream",
     "text": [
      "Answering questions...: 74it [41:15, 38.34s/it]"
     ]
    },
    {
     "name": "stdout",
     "output_type": "stream",
     "text": [
      "Answer:  --- Question_ID: 187 --- DOC: tmjl_2024_rus.pdf --- Page: 68\n"
     ]
    },
    {
     "name": "stderr",
     "output_type": "stream",
     "text": [
      "Answering questions...: 75it [42:05, 41.74s/it]"
     ]
    },
    {
     "name": "stdout",
     "output_type": "stream",
     "text": [
      "Answer: 26 --- Question_ID: 188 --- DOC: tcibp_2024_rus.pdf --- Page: 19\n"
     ]
    },
    {
     "name": "stderr",
     "output_type": "stream",
     "text": [
      "Answering questions...: 76it [42:17, 32.78s/it]"
     ]
    },
    {
     "name": "stdout",
     "output_type": "stream",
     "text": [
      "Answer: Цзян Вэй является аффилированным лицом АО «НК «ҚТЖ» как член Наблюдательного совета ТОО «Актауский международный контейнерный хаб» --- Question_ID: 189 --- DOC: tmjl_af_1_2025.pdf --- Page: 58\n"
     ]
    },
    {
     "name": "stderr",
     "output_type": "stream",
     "text": [
      "Answering questions...: 77it [42:56, 34.53s/it]"
     ]
    },
    {
     "name": "stdout",
     "output_type": "stream",
     "text": [
      "Answer: 0 --- Question_ID: 190 --- DOC: rahtp_2024_rus.pdf --- Page: 4\n"
     ]
    },
    {
     "name": "stderr",
     "output_type": "stream",
     "text": [
      "Answering questions...: 78it [43:22, 32.12s/it]"
     ]
    },
    {
     "name": "stdout",
     "output_type": "stream",
     "text": [
      "Answer:  --- Question_ID: 191 --- DOC: airap_2024_rus.pdf --- Page: 55\n"
     ]
    },
    {
     "name": "stderr",
     "output_type": "stream",
     "text": [
      "Answering questions...: 79it [44:04, 35.05s/it]"
     ]
    },
    {
     "name": "stdout",
     "output_type": "stream",
     "text": [
      "Answer: 1 --- Question_ID: 192 --- DOC: oasi_af_4_2025.pdf --- Page: 5\n"
     ]
    },
    {
     "name": "stderr",
     "output_type": "stream",
     "text": [
      "Answering questions...: 80it [44:33, 33.25s/it]"
     ]
    },
    {
     "name": "stdout",
     "output_type": "stream",
     "text": [
      "Answer:  --- Question_ID: 193 --- DOC: tcibp_2024_rus.pdf --- Page: 27\n"
     ]
    },
    {
     "name": "stderr",
     "output_type": "stream",
     "text": [
      "Answering questions...: 81it [45:16, 36.07s/it]"
     ]
    },
    {
     "name": "stdout",
     "output_type": "stream",
     "text": [
      "Answer: 1.28 --- Question_ID: 194 --- DOC: matnp_2024_rus.pdf --- Page: 2\n"
     ]
    },
    {
     "name": "stderr",
     "output_type": "stream",
     "text": [
      "Answering questions...: 82it [45:36, 31.45s/it]"
     ]
    },
    {
     "name": "stdout",
     "output_type": "stream",
     "text": [
      "Answer: 5371837.0 --- Question_ID: 195 --- DOC: matnp_2024_rus.pdf --- Page: 81\n"
     ]
    },
    {
     "name": "stderr",
     "output_type": "stream",
     "text": [
      "Answering questions...: 83it [46:15, 33.63s/it]"
     ]
    },
    {
     "name": "stdout",
     "output_type": "stream",
     "text": [
      "Answer: 2.3 --- Question_ID: 196 --- DOC: tmjl_2024_rus.pdf --- Page: 11\n"
     ]
    },
    {
     "name": "stderr",
     "output_type": "stream",
     "text": [
      "Answering questions...: 84it [46:29, 27.63s/it]"
     ]
    },
    {
     "name": "stdout",
     "output_type": "stream",
     "text": [
      "Answer: 109.17 --- Question_ID: 197 --- DOC: matnp_2024_rus.pdf --- Page: 6\n"
     ]
    },
    {
     "name": "stderr",
     "output_type": "stream",
     "text": [
      "Answering questions...: 85it [46:51, 26.08s/it]"
     ]
    },
    {
     "name": "stdout",
     "output_type": "stream",
     "text": [
      "Answer: 2 --- Question_ID: 198 --- DOC: bsulp_2024_rus.pdf --- Page: 6\n"
     ]
    },
    {
     "name": "stderr",
     "output_type": "stream",
     "text": [
      "Answering questions...: 86it [47:11, 24.21s/it]"
     ]
    },
    {
     "name": "stdout",
     "output_type": "stream",
     "text": [
      "Answer: 0 --- Question_ID: 199 --- DOC: tmjl_2024_rus.pdf --- Page: 48\n"
     ]
    },
    {
     "name": "stderr",
     "output_type": "stream",
     "text": [
      "Answering questions...: 87it [48:04, 32.83s/it]"
     ]
    },
    {
     "name": "stdout",
     "output_type": "stream",
     "text": [
      "Answer: 5.1 --- Question_ID: 200 --- DOC: bsulp_2024_rus.pdf --- Page: 31\n"
     ]
    },
    {
     "name": "stderr",
     "output_type": "stream",
     "text": [
      "Answering questions...: 88it [48:28, 33.05s/it]\n"
     ]
    }
   ],
   "source": [
    "for id, row in tqdm.tqdm(questions_cut.iterrows(), desc=\"Answering questions...\"):\n",
    "    question_payload = {}\n",
    "    question_payload['id'] = row['id']\n",
    "    question_payload['full_question'] = row['full_question']\n",
    "    question_payload['answer_type'] = row['answer_type']\n",
    "    result = chain_structured.invoke(question_payload)\n",
    "    print(f\"Answer: {result['answer']} --- Question_ID: {result['question_id']} --- DOC: {result['relevant_chunks'][0]['document_name']} --- Page: {result['relevant_chunks'][0]['page_number']}\")\n",
    "    ans.append(result)\n",
    "    time.sleep(1)"
   ]
  },
  {
   "cell_type": "code",
   "execution_count": 219,
   "metadata": {},
   "outputs": [
    {
     "data": {
      "text/plain": [
       "[{'question_id': 1,\n",
       "  'relevant_chunks': [{'document_name': 'rahtp_2024_rus.pdf',\n",
       "    'page_number': 69}],\n",
       "  'answer': 'Республика Казахстан, 050002, г. Алматы, ул. Зенкова, 2а'},\n",
       " {'question_id': 2,\n",
       "  'relevant_chunks': [{'document_name': 'kztkp_2024_rus.pdf',\n",
       "    'page_number': 64}],\n",
       "  'answer': '11,10,4,15,12,8,17,16,9'},\n",
       " {'question_id': 3,\n",
       "  'relevant_chunks': [{'document_name': 'tmjl_2024_rus.pdf',\n",
       "    'page_number': 69}],\n",
       "  'answer': 31.5},\n",
       " {'question_id': 4,\n",
       "  'relevant_chunks': [{'document_name': 'tmjl_2024_rus.pdf',\n",
       "    'page_number': 1}],\n",
       "  'answer': ''},\n",
       " {'question_id': 5,\n",
       "  'relevant_chunks': [{'document_name': 'matnp_2024_rus.pdf',\n",
       "    'page_number': 23}],\n",
       "  'answer': 16.5},\n",
       " {'question_id': 6,\n",
       "  'relevant_chunks': [{'document_name': 'tcibp_2024_rus.pdf',\n",
       "    'page_number': 35}],\n",
       "  'answer': 'Ernst & Young'},\n",
       " {'question_id': 7,\n",
       "  'relevant_chunks': [{'document_name': 'fpstp_2024_rus.pdf',\n",
       "    'page_number': 15}],\n",
       "  'answer': 2673},\n",
       " {'question_id': 8,\n",
       "  'relevant_chunks': [{'document_name': 'fatnp_2024_rus.pdf',\n",
       "    'page_number': 16}],\n",
       "  'answer': 1810.06},\n",
       " {'question_id': 9,\n",
       "  'relevant_chunks': [{'document_name': 'airap_2024_rus.pdf',\n",
       "    'page_number': 9}],\n",
       "  'answer': 0},\n",
       " {'question_id': 10,\n",
       "  'relevant_chunks': [{'document_name': 'airap_2024_rus.pdf',\n",
       "    'page_number': 8}],\n",
       "  'answer': 4.86},\n",
       " {'question_id': 11,\n",
       "  'relevant_chunks': [{'document_name': 'rahtp_2024_rus.pdf',\n",
       "    'page_number': 15}],\n",
       "  'answer': 450},\n",
       " {'question_id': 12,\n",
       "  'relevant_chunks': [{'document_name': 'matnp_2024_rus.pdf',\n",
       "    'page_number': 82}],\n",
       "  'answer': 173493},\n",
       " {'question_id': 13,\n",
       "  'relevant_chunks': [{'document_name': 'brkzf6_2024_cons_rus.pdf',\n",
       "    'page_number': 3}],\n",
       "  'answer': 'Товарищество с ограниченной ответственностью «КПМГ Аудит»'},\n",
       " {'question_id': 14,\n",
       "  'relevant_chunks': [{'document_name': 'bsulp_2024_rus.pdf',\n",
       "    'page_number': 10}],\n",
       "  'answer': 0.0},\n",
       " {'question_id': 15,\n",
       "  'relevant_chunks': [{'document_name': 'brkzf6_2024_cons_rus.pdf',\n",
       "    'page_number': 95}],\n",
       "  'answer': '{ \"answer\": \"\", \"evidence\": [] }'},\n",
       " {'question_id': 16,\n",
       "  'relevant_chunks': [{'document_name': 'aira_af_4_2025.pdf',\n",
       "    'page_number': 95}],\n",
       "  'answer': ''},\n",
       " {'question_id': 17,\n",
       "  'relevant_chunks': [{'document_name': 'airap_2024_rus.pdf',\n",
       "    'page_number': 68}],\n",
       "  'answer': '{ \"answer\": \"\", \"evidence\": [] }'},\n",
       " {'question_id': 18,\n",
       "  'relevant_chunks': [{'document_name': 'oasif6_2024_rus.pdf',\n",
       "    'page_number': 30}],\n",
       "  'answer': ''},\n",
       " {'question_id': 19,\n",
       "  'relevant_chunks': [{'document_name': 'tmjl_2024_rus.pdf',\n",
       "    'page_number': 336}],\n",
       "  'answer': 25},\n",
       " {'question_id': 20,\n",
       "  'relevant_chunks': [{'document_name': 'bsulp_2024_rus.pdf',\n",
       "    'page_number': 13}],\n",
       "  'answer': 'Рахат'},\n",
       " {'question_id': 21,\n",
       "  'relevant_chunks': [{'document_name': 'aafd_af_4_2025.pdf',\n",
       "    'page_number': 1}],\n",
       "  'answer': ''},\n",
       " {'question_id': 22,\n",
       "  'relevant_chunks': [{'document_name': 'tmjl_af_1_2025.pdf',\n",
       "    'page_number': 94}],\n",
       "  'answer': ''},\n",
       " {'question_id': 23,\n",
       "  'relevant_chunks': [{'document_name': 'matnp_2024_rus.pdf',\n",
       "    'page_number': 82}],\n",
       "  'answer': 3},\n",
       " {'question_id': 24,\n",
       "  'relevant_chunks': [{'document_name': 'tmjl_2024_rus.pdf',\n",
       "    'page_number': 12}],\n",
       "  'answer': 16.0},\n",
       " {'question_id': 25,\n",
       "  'relevant_chunks': [{'document_name': 'bsulp_2024_rus.pdf',\n",
       "    'page_number': 4}],\n",
       "  'answer': ''},\n",
       " {'question_id': 26,\n",
       "  'relevant_chunks': [{'document_name': 'tcom_af_4_2025.pdf',\n",
       "    'page_number': 1}],\n",
       "  'answer': 0},\n",
       " {'question_id': 27,\n",
       "  'relevant_chunks': [{'document_name': 'kztkp_2024_rus.pdf',\n",
       "    'page_number': 36}],\n",
       "  'answer': 1565},\n",
       " {'question_id': 28,\n",
       "  'relevant_chunks': [{'document_name': 'fatnp_2024_rus.pdf',\n",
       "    'page_number': 19}],\n",
       "  'answer': 81049.0},\n",
       " {'question_id': 29,\n",
       "  'relevant_chunks': [{'document_name': 'matnp_2024_rus.pdf',\n",
       "    'page_number': 81}],\n",
       "  'answer': 38976302.0},\n",
       " {'question_id': 30,\n",
       "  'relevant_chunks': [{'document_name': 'airap_2024_rus.pdf',\n",
       "    'page_number': 33}],\n",
       "  'answer': 6546},\n",
       " {'question_id': 31,\n",
       "  'relevant_chunks': [{'document_name': 'bastp_2024_rus.pdf',\n",
       "    'page_number': 100}],\n",
       "  'answer': 125300},\n",
       " {'question_id': 32,\n",
       "  'relevant_chunks': [{'document_name': 'fpstp_2024_rus.pdf',\n",
       "    'page_number': 8}],\n",
       "  'answer': '2006'},\n",
       " {'question_id': 33,\n",
       "  'relevant_chunks': [{'document_name': 'oasif6_2024_rus.pdf',\n",
       "    'page_number': 22}],\n",
       "  'answer': 275370},\n",
       " {'question_id': 34,\n",
       "  'relevant_chunks': [{'document_name': 'aafdf5_2024_cons_rus.pdf',\n",
       "    'page_number': 2}],\n",
       "  'answer': 'Алматинская область, Казахстан'},\n",
       " {'question_id': 35,\n",
       "  'relevant_chunks': [{'document_name': 'matnp_2024_rus.pdf',\n",
       "    'page_number': 25}],\n",
       "  'answer': 'Лю Цзиньчэн'},\n",
       " {'question_id': 36,\n",
       "  'relevant_chunks': [{'document_name': 'bsulp_2024_rus.pdf',\n",
       "    'page_number': 4}],\n",
       "  'answer': 350},\n",
       " {'question_id': 37,\n",
       "  'relevant_chunks': [{'document_name': 'oasi_af_4_2025.pdf',\n",
       "    'page_number': 5}],\n",
       "  'answer': ''},\n",
       " {'question_id': 38,\n",
       "  'relevant_chunks': [{'document_name': 'airap_2024_rus.pdf',\n",
       "    'page_number': 19}],\n",
       "  'answer': 2.7},\n",
       " {'question_id': 39,\n",
       "  'relevant_chunks': [{'document_name': 'bsulp_2024_rus.pdf',\n",
       "    'page_number': 6}],\n",
       "  'answer': 19.7},\n",
       " {'question_id': 40,\n",
       "  'relevant_chunks': [{'document_name': 'airap_2024_rus.pdf',\n",
       "    'page_number': 41}],\n",
       "  'answer': 'Не указано'},\n",
       " {'question_id': 41,\n",
       "  'relevant_chunks': [{'document_name': 'kztk_af_4_2025.pdf',\n",
       "    'page_number': 202}],\n",
       "  'answer': ''},\n",
       " {'question_id': 42,\n",
       "  'relevant_chunks': [{'document_name': 'matnp_2024_rus.pdf',\n",
       "    'page_number': 33}],\n",
       "  'answer': 'Узень – Атырау – Самара'},\n",
       " {'question_id': 43,\n",
       "  'relevant_chunks': [{'document_name': 'tmjl_af_1_2025.pdf',\n",
       "    'page_number': 95}],\n",
       "  'answer': ''},\n",
       " {'question_id': 44,\n",
       "  'relevant_chunks': [{'document_name': 'fatn_af_4_2025.pdf',\n",
       "    'page_number': 1}],\n",
       "  'answer': ''},\n",
       " {'question_id': 45,\n",
       "  'relevant_chunks': [{'document_name': 'aafd_af_4_2025.pdf',\n",
       "    'page_number': 1}],\n",
       "  'answer': ''},\n",
       " {'question_id': 46,\n",
       "  'relevant_chunks': [{'document_name': 'fpstp_2024_rus.pdf',\n",
       "    'page_number': 6}],\n",
       "  'answer': 'Ушшокы, Чинасыл-Сай'},\n",
       " {'question_id': 47,\n",
       "  'relevant_chunks': [{'document_name': 'oasi_af_4_2025.pdf',\n",
       "    'page_number': 1}],\n",
       "  'answer': 0},\n",
       " {'question_id': 48,\n",
       "  'relevant_chunks': [{'document_name': 'fatnp_2024_rus.pdf',\n",
       "    'page_number': 4}],\n",
       "  'answer': 105},\n",
       " {'question_id': 49,\n",
       "  'relevant_chunks': [{'document_name': 'aafdf5_2024_cons_rus.pdf',\n",
       "    'page_number': 1}],\n",
       "  'answer': 'Да'},\n",
       " {'question_id': 50,\n",
       "  'relevant_chunks': [{'document_name': 'tmjl_af_1_2025.pdf',\n",
       "    'page_number': 94}],\n",
       "  'answer': ''},\n",
       " {'question_id': 51,\n",
       "  'relevant_chunks': [{'document_name': 'matnp_2024_rus.pdf',\n",
       "    'page_number': 24}],\n",
       "  'answer': '28.06.2021'},\n",
       " {'question_id': 52,\n",
       "  'relevant_chunks': [{'document_name': 'aira_af_4_2025.pdf',\n",
       "    'page_number': 23}],\n",
       "  'answer': ''},\n",
       " {'question_id': 53,\n",
       "  'relevant_chunks': [{'document_name': 'rahtp_2024_rus.pdf',\n",
       "    'page_number': 15}],\n",
       "  'answer': 19},\n",
       " {'question_id': 54,\n",
       "  'relevant_chunks': [{'document_name': 'tmjl_2024_rus.pdf',\n",
       "    'page_number': 57}],\n",
       "  'answer': 45},\n",
       " {'question_id': 55,\n",
       "  'relevant_chunks': [{'document_name': 'kztkp_2024_rus.pdf',\n",
       "    'page_number': 23}],\n",
       "  'answer': 'долгосрочная стратегия развития АО «Казахтелеком» на 2023–2032 годы'},\n",
       " {'question_id': 56,\n",
       "  'relevant_chunks': [{'document_name': 'fpstp_2024_rus.pdf',\n",
       "    'page_number': 63}],\n",
       "  'answer': 469.31},\n",
       " {'question_id': 57,\n",
       "  'relevant_chunks': [{'document_name': 'rahtp_2024_rus.pdf',\n",
       "    'page_number': 20}],\n",
       "  'answer': 19.6},\n",
       " {'question_id': 58,\n",
       "  'relevant_chunks': [{'document_name': 'tmjlf6_2024_cons_rus.pdf',\n",
       "    'page_number': 46}],\n",
       "  'answer': ''},\n",
       " {'question_id': 59,\n",
       "  'relevant_chunks': [{'document_name': 'bastp_2024_rus.pdf',\n",
       "    'page_number': 20}],\n",
       "  'answer': 'закрытием фабрики ГОК Максут в феврале 2024 года, что привело к резкому снижению объемов реализации'},\n",
       " {'question_id': 60,\n",
       "  'relevant_chunks': [{'document_name': 'tcibp_2024_rus.pdf',\n",
       "    'page_number': 38}],\n",
       "  'answer': ''},\n",
       " {'question_id': 61,\n",
       "  'relevant_chunks': [{'document_name': 'tcibp_2024_rus.pdf',\n",
       "    'page_number': 38}],\n",
       "  'answer': 6.01},\n",
       " {'question_id': 62,\n",
       "  'relevant_chunks': [{'document_name': 'bsulp_2024_rus.pdf',\n",
       "    'page_number': 18}],\n",
       "  'answer': 'Средний'},\n",
       " {'question_id': 63,\n",
       "  'relevant_chunks': [{'document_name': 'airap_2024_rus.pdf',\n",
       "    'page_number': 40}],\n",
       "  'answer': 'Высокий'},\n",
       " {'question_id': 64,\n",
       "  'relevant_chunks': [{'document_name': 'fpstp_2024_rus.pdf',\n",
       "    'page_number': 13}],\n",
       "  'answer': 2304.6},\n",
       " {'question_id': 65,\n",
       "  'relevant_chunks': [{'document_name': 'tmjl_2024_rus.pdf',\n",
       "    'page_number': 47}],\n",
       "  'answer': 8},\n",
       " {'question_id': 66,\n",
       "  'relevant_chunks': [{'document_name': 'matnp_2024_rus.pdf',\n",
       "    'page_number': 24}],\n",
       "  'answer': 'Вице-Президент Компании Geo-Jade Petroleum Corporation (КНР)'},\n",
       " {'question_id': 67,\n",
       "  'relevant_chunks': [{'document_name': 'rahtp_2024_rus.pdf',\n",
       "    'page_number': 18}],\n",
       "  'answer': 'Вечер, Маска, Рахат'},\n",
       " {'question_id': 68,\n",
       "  'relevant_chunks': [{'document_name': 'bsulp_2024_rus.pdf',\n",
       "    'page_number': 4}],\n",
       "  'answer': 'Монголия, Китай, Южная Корея'},\n",
       " {'question_id': 69,\n",
       "  'relevant_chunks': [{'document_name': 'tmjl_2024_rus.pdf',\n",
       "    'page_number': 333}],\n",
       "  'answer': 117681},\n",
       " {'question_id': 70,\n",
       "  'relevant_chunks': [{'document_name': 'matnp_2024_rus.pdf',\n",
       "    'page_number': 33}],\n",
       "  'answer': 'Каспийский Трубопроводный Консорциум'},\n",
       " {'question_id': 71,\n",
       "  'relevant_chunks': [{'document_name': 'fatn_af_4_2025.pdf',\n",
       "    'page_number': 1}],\n",
       "  'answer': 1},\n",
       " {'question_id': 72,\n",
       "  'relevant_chunks': [{'document_name': 'aafdf5_2024_cons_rus.pdf',\n",
       "    'page_number': 2}],\n",
       "  'answer': 600},\n",
       " {'question_id': 73,\n",
       "  'relevant_chunks': [{'document_name': 'bastp_2024_rus.pdf',\n",
       "    'page_number': 20}],\n",
       "  'answer': ''},\n",
       " {'question_id': 74,\n",
       "  'relevant_chunks': [{'document_name': 'airap_2024_rus.pdf',\n",
       "    'page_number': 56}],\n",
       "  'answer': '2020'},\n",
       " {'question_id': 75,\n",
       "  'relevant_chunks': [{'document_name': 'fatn_af_4_2025.pdf',\n",
       "    'page_number': 1}],\n",
       "  'answer': 3},\n",
       " {'question_id': 76,\n",
       "  'relevant_chunks': [{'document_name': 'aira_af_4_2025.pdf',\n",
       "    'page_number': 67}],\n",
       "  'answer': ''},\n",
       " {'question_id': 77,\n",
       "  'relevant_chunks': [{'document_name': 'oasif6_2024_rus.pdf',\n",
       "    'page_number': 7}],\n",
       "  'answer': 'Алгазиева'},\n",
       " {'question_id': 78,\n",
       "  'relevant_chunks': [{'document_name': 'bastp_2024_rus.pdf',\n",
       "    'page_number': 18}],\n",
       "  'answer': 730000},\n",
       " {'question_id': 79,\n",
       "  'relevant_chunks': [{'document_name': 'aafdf5_2024_cons_rus.pdf',\n",
       "    'page_number': 2}],\n",
       "  'answer': ''},\n",
       " {'question_id': 80,\n",
       "  'relevant_chunks': [{'document_name': 'matnp_2024_rus.pdf',\n",
       "    'page_number': 6}],\n",
       "  'answer': 'Морское, Каратал, Даулеталы'},\n",
       " {'question_id': 81,\n",
       "  'relevant_chunks': [{'document_name': 'bastp_2024_rus.pdf',\n",
       "    'page_number': 22}],\n",
       "  'answer': ''},\n",
       " {'question_id': 82,\n",
       "  'relevant_chunks': [{'document_name': 'fatnp_2024_rus.pdf',\n",
       "    'page_number': 19}],\n",
       "  'answer': 104986.0},\n",
       " {'question_id': 83,\n",
       "  'relevant_chunks': [{'document_name': 'fpstp_2024_rus.pdf',\n",
       "    'page_number': 15}],\n",
       "  'answer': 2070},\n",
       " {'question_id': 84,\n",
       "  'relevant_chunks': [{'document_name': 'rahtp_2024_rus.pdf',\n",
       "    'page_number': 8}],\n",
       "  'answer': 'не указано'},\n",
       " {'question_id': 85,\n",
       "  'relevant_chunks': [{'document_name': 'fatnp_2024_rus.pdf',\n",
       "    'page_number': 19}],\n",
       "  'answer': 10.32},\n",
       " {'question_id': 86,\n",
       "  'relevant_chunks': [{'document_name': 'rahtp_2024_rus.pdf',\n",
       "    'page_number': 12}],\n",
       "  'answer': 'Алматы, Шымкент'},\n",
       " {'question_id': 87,\n",
       "  'relevant_chunks': [{'document_name': 'bsulp_2024_rus.pdf',\n",
       "    'page_number': 11}],\n",
       "  'answer': 'Да'},\n",
       " {'question_id': 88,\n",
       "  'relevant_chunks': [{'document_name': 'tmjl_2024_rus.pdf',\n",
       "    'page_number': 183}],\n",
       "  'answer': '20 декабря 2024 года'},\n",
       " {'question_id': 89,\n",
       "  'relevant_chunks': [{'document_name': 'bsulp_2024_rus.pdf',\n",
       "    'page_number': 11}],\n",
       "  'answer': 'Рахат'},\n",
       " {'question_id': 90,\n",
       "  'relevant_chunks': [{'document_name': 'bastp_2024_rus.pdf',\n",
       "    'page_number': 20}],\n",
       "  'answer': 219},\n",
       " {'question_id': 91,\n",
       "  'relevant_chunks': [{'document_name': 'rahtp_2024_rus.pdf',\n",
       "    'page_number': 8}],\n",
       "  'answer': 'АО «ЛОТТЕ Рахат»'},\n",
       " {'question_id': 92,\n",
       "  'relevant_chunks': [{'document_name': 'bsulp_2024_rus.pdf',\n",
       "    'page_number': 58}],\n",
       "  'answer': 'ТОО «Crowe Audit KZ LLP»'},\n",
       " {'question_id': 93,\n",
       "  'relevant_chunks': [{'document_name': 'tcibp_2024_rus.pdf',\n",
       "    'page_number': 27}],\n",
       "  'answer': ''},\n",
       " {'question_id': 94,\n",
       "  'relevant_chunks': [{'document_name': 'oasi_af_4_2025.pdf',\n",
       "    'page_number': 5}],\n",
       "  'answer': 2},\n",
       " {'question_id': 95,\n",
       "  'relevant_chunks': [{'document_name': 'bastp_2024_rus.pdf',\n",
       "    'page_number': 6}],\n",
       "  'answer': 'Турлов Т.Р.'},\n",
       " {'question_id': 96,\n",
       "  'relevant_chunks': [{'document_name': 'tcibp_2024_rus.pdf',\n",
       "    'page_number': 25}],\n",
       "  'answer': 95},\n",
       " {'question_id': 97,\n",
       "  'relevant_chunks': [{'document_name': 'fatnp_2024_rus.pdf',\n",
       "    'page_number': 26}],\n",
       "  'answer': 'Они входят в один холдинг'},\n",
       " {'question_id': 98,\n",
       "  'relevant_chunks': [{'document_name': 'tcibp_2024_rus.pdf',\n",
       "    'page_number': 2}],\n",
       "  'answer': 'Управление персоналом'},\n",
       " {'question_id': 99,\n",
       "  'relevant_chunks': [{'document_name': 'brkzf6_2024_cons_rus.pdf',\n",
       "    'page_number': 62}],\n",
       "  'answer': ''},\n",
       " {'question_id': 100,\n",
       "  'relevant_chunks': [{'document_name': 'airap_2024_rus.pdf',\n",
       "    'page_number': 75}],\n",
       "  'answer': 6},\n",
       " {'question_id': 101,\n",
       "  'relevant_chunks': [{'document_name': 'matnp_2024_rus.pdf',\n",
       "    'page_number': 14}],\n",
       "  'answer': 43134.0},\n",
       " {'question_id': 102,\n",
       "  'relevant_chunks': [{'document_name': 'airap_2024_rus.pdf',\n",
       "    'page_number': 74}],\n",
       "  'answer': 50},\n",
       " {'question_id': 103,\n",
       "  'relevant_chunks': [{'document_name': 'tmjl_2024_rus.pdf',\n",
       "    'page_number': 280}],\n",
       "  'answer': 'ТОО «Делойт»'},\n",
       " {'question_id': 104,\n",
       "  'relevant_chunks': [{'document_name': 'airap_2024_rus.pdf',\n",
       "    'page_number': 39}],\n",
       "  'answer': ''},\n",
       " {'question_id': 105,\n",
       "  'relevant_chunks': [{'document_name': 'rahtp_2024_rus.pdf',\n",
       "    'page_number': 19}],\n",
       "  'answer': 12.0},\n",
       " {'question_id': 106,\n",
       "  'relevant_chunks': [{'document_name': 'airap_2024_rus.pdf',\n",
       "    'page_number': 45}],\n",
       "  'answer': 'PW1100G'},\n",
       " {'question_id': 107,\n",
       "  'relevant_chunks': [{'document_name': 'aafdf5_2024_cons_rus.pdf',\n",
       "    'page_number': 1}],\n",
       "  'answer': 'нет данных'},\n",
       " {'question_id': 108,\n",
       "  'relevant_chunks': [{'document_name': 'bsulp_2024_rus.pdf',\n",
       "    'page_number': 10}],\n",
       "  'answer': 'данные отсутствуют'},\n",
       " {'question_id': 109,\n",
       "  'relevant_chunks': [{'document_name': 'brkzf6_2024_cons_rus.pdf',\n",
       "    'page_number': 1}],\n",
       "  'answer': ''},\n",
       " {'question_id': 110,\n",
       "  'relevant_chunks': [{'document_name': 'airap_2024_rus.pdf',\n",
       "    'page_number': 1}],\n",
       "  'answer': ''},\n",
       " {'question_id': 111,\n",
       "  'relevant_chunks': [{'document_name': 'airap_2024_rus.pdf',\n",
       "    'page_number': 67}],\n",
       "  'answer': 2200684},\n",
       " {'question_id': 112,\n",
       "  'relevant_chunks': [{'document_name': 'bastp_2024_rus.pdf',\n",
       "    'page_number': 5}],\n",
       "  'answer': 'г. Алматы, мкрн. Коктем-1, 15А БЦ \"Koktem Square\", 7 этаж'},\n",
       " {'question_id': 113,\n",
       "  'relevant_chunks': [{'document_name': 'matnp_2024_rus.pdf',\n",
       "    'page_number': 37}],\n",
       "  'answer': 'ТОО «Эрнст энд Янг»'},\n",
       " {'question_id': 114,\n",
       "  'relevant_chunks': [{'document_name': 'oasi_af_4_2025.pdf',\n",
       "    'page_number': 5}],\n",
       "  'answer': 'не указан'},\n",
       " {'question_id': 115,\n",
       "  'relevant_chunks': [{'document_name': 'tmjl_2024_rus.pdf',\n",
       "    'page_number': 266}],\n",
       "  'answer': 'Кушеров Даир Адильбекович'},\n",
       " {'question_id': 116,\n",
       "  'relevant_chunks': [{'document_name': 'airap_2024_rus.pdf',\n",
       "    'page_number': 67}],\n",
       "  'answer': 6013245},\n",
       " {'question_id': 117,\n",
       "  'relevant_chunks': [{'document_name': 'kztkp_2024_rus.pdf',\n",
       "    'page_number': 39}],\n",
       "  'answer': 60},\n",
       " {'question_id': 118,\n",
       "  'relevant_chunks': [{'document_name': 'fpstp_2024_rus.pdf',\n",
       "    'page_number': 55}],\n",
       "  'answer': 23964},\n",
       " {'question_id': 119,\n",
       "  'relevant_chunks': [{'document_name': 'tmjl_2024_rus.pdf',\n",
       "    'page_number': 27}],\n",
       "  'answer': 'BB'},\n",
       " {'question_id': 120,\n",
       "  'relevant_chunks': [{'document_name': 'airap_2024_rus.pdf',\n",
       "    'page_number': 55}],\n",
       "  'answer': ''},\n",
       " {'question_id': 121,\n",
       "  'relevant_chunks': [{'document_name': 'airap_2024_rus.pdf',\n",
       "    'page_number': 24}],\n",
       "  'answer': '4,5,8,10,13,17'},\n",
       " {'question_id': 122,\n",
       "  'relevant_chunks': [{'document_name': 'rahtp_2024_rus.pdf',\n",
       "    'page_number': 69}],\n",
       "  'answer': 'не указано'},\n",
       " {'question_id': 123,\n",
       "  'relevant_chunks': [{'document_name': 'tmjl_af_1_2025.pdf',\n",
       "    'page_number': 95}],\n",
       "  'answer': ''},\n",
       " {'question_id': 124,\n",
       "  'relevant_chunks': [{'document_name': 'bsulp_2024_rus.pdf',\n",
       "    'page_number': 19}],\n",
       "  'answer': 473},\n",
       " {'question_id': 125,\n",
       "  'relevant_chunks': [{'document_name': 'fatnp_2024_rus.pdf',\n",
       "    'page_number': 19}],\n",
       "  'answer': 3},\n",
       " {'question_id': 126,\n",
       "  'relevant_chunks': [{'document_name': 'bastp_2024_rus.pdf',\n",
       "    'page_number': 6}],\n",
       "  'answer': 8.47},\n",
       " {'question_id': 127,\n",
       "  'relevant_chunks': [{'document_name': 'brkzf6_2024_cons_rus.pdf',\n",
       "    'page_number': 60}],\n",
       "  'answer': ''},\n",
       " {'question_id': 128,\n",
       "  'relevant_chunks': [{'document_name': 'brkzf6_2024_cons_rus.pdf',\n",
       "    'page_number': 76}],\n",
       "  'answer': 28761700},\n",
       " {'question_id': 129,\n",
       "  'relevant_chunks': [{'document_name': 'bsulp_2024_rus.pdf',\n",
       "    'page_number': 17}],\n",
       "  'answer': ''},\n",
       " {'question_id': 130,\n",
       "  'relevant_chunks': [{'document_name': 'tmjl_2024_rus.pdf',\n",
       "    'page_number': 47}],\n",
       "  'answer': 5},\n",
       " {'question_id': 131,\n",
       "  'relevant_chunks': [{'document_name': 'tmjl_2024_rus.pdf',\n",
       "    'page_number': 326}],\n",
       "  'answer': ''},\n",
       " {'question_id': 132,\n",
       "  'relevant_chunks': [{'document_name': 'airap_2024_rus.pdf',\n",
       "    'page_number': 41}],\n",
       "  'answer': ''},\n",
       " {'question_id': 133,\n",
       "  'relevant_chunks': [{'document_name': 'tcibp_2024_rus.pdf',\n",
       "    'page_number': 20}],\n",
       "  'answer': 'Бакиева Дина Бактжановна'},\n",
       " {'question_id': 134,\n",
       "  'relevant_chunks': [{'document_name': 'tcibp_2024_rus.pdf',\n",
       "    'page_number': 3}],\n",
       "  'answer': 40},\n",
       " {'question_id': 135,\n",
       "  'relevant_chunks': [{'document_name': 'fatnp_2024_rus.pdf',\n",
       "    'page_number': 27}],\n",
       "  'answer': 'ТОО Компания Фаэтон владеет 100% долей участия в ТОО MALIT LTD'},\n",
       " {'question_id': 136,\n",
       "  'relevant_chunks': [{'document_name': 'matnp_2024_rus.pdf',\n",
       "    'page_number': 2}],\n",
       "  'answer': ''},\n",
       " {'question_id': 137,\n",
       "  'relevant_chunks': [{'document_name': 'aira_af_4_2025.pdf',\n",
       "    'page_number': 26}],\n",
       "  'answer': ''},\n",
       " {'question_id': 138,\n",
       "  'relevant_chunks': [{'document_name': 'fpstp_2024_rus.pdf',\n",
       "    'page_number': 58}],\n",
       "  'answer': 0.01},\n",
       " {'question_id': 139,\n",
       "  'relevant_chunks': [{'document_name': 'tmjl_2024_rus.pdf',\n",
       "    'page_number': 9}],\n",
       "  'answer': 'не указано'},\n",
       " {'question_id': 140,\n",
       "  'relevant_chunks': [{'document_name': 'kztkp_2024_rus.pdf',\n",
       "    'page_number': 41}],\n",
       "  'answer': 2},\n",
       " {'question_id': 141,\n",
       "  'relevant_chunks': [{'document_name': 'airap_2024_rus.pdf',\n",
       "    'page_number': 71}],\n",
       "  'answer': '2005'},\n",
       " {'question_id': 142,\n",
       "  'relevant_chunks': [{'document_name': 'fpstp_2024_rus.pdf',\n",
       "    'page_number': 15}],\n",
       "  'answer': 2286},\n",
       " {'question_id': 143,\n",
       "  'relevant_chunks': [{'document_name': 'kztkp_2024_rus.pdf',\n",
       "    'page_number': 67}],\n",
       "  'answer': 14},\n",
       " {'question_id': 144,\n",
       "  'relevant_chunks': [{'document_name': 'tmjl_af_1_2025.pdf',\n",
       "    'page_number': 37}],\n",
       "  'answer': ''},\n",
       " {'question_id': 145,\n",
       "  'relevant_chunks': [{'document_name': 'bastp_2024_rus.pdf',\n",
       "    'page_number': 8}],\n",
       "  'answer': 36.8},\n",
       " {'question_id': 146,\n",
       "  'relevant_chunks': [{'document_name': 'fpstp_2024_rus.pdf',\n",
       "    'page_number': 48}],\n",
       "  'answer': '0.00'},\n",
       " {'question_id': 147,\n",
       "  'relevant_chunks': [{'document_name': 'tmjl_2024_rus.pdf',\n",
       "    'page_number': 143}],\n",
       "  'answer': 3739.71},\n",
       " {'question_id': 148,\n",
       "  'relevant_chunks': [{'document_name': 'tmjl_af_1_2025.pdf',\n",
       "    'page_number': 96}],\n",
       "  'answer': ''},\n",
       " {'question_id': 149,\n",
       "  'relevant_chunks': [{'document_name': 'bastp_2024_rus.pdf',\n",
       "    'page_number': 56}],\n",
       "  'answer': 100},\n",
       " {'question_id': 150,\n",
       "  'relevant_chunks': [{'document_name': 'tmjl_af_1_2025.pdf',\n",
       "    'page_number': 96}],\n",
       "  'answer': ''},\n",
       " {'question_id': 151,\n",
       "  'relevant_chunks': [{'document_name': 'airap_2024_rus.pdf',\n",
       "    'page_number': 46}],\n",
       "  'answer': 'The Shanyraq'},\n",
       " {'question_id': 152,\n",
       "  'relevant_chunks': [{'document_name': 'fpstp_2024_rus.pdf',\n",
       "    'page_number': 85}],\n",
       "  'answer': 0.0},\n",
       " {'question_id': 153,\n",
       "  'relevant_chunks': [{'document_name': 'aafd_af_4_2025.pdf',\n",
       "    'page_number': 14}],\n",
       "  'answer': ''},\n",
       " {'question_id': 154,\n",
       "  'relevant_chunks': [{'document_name': 'bsulp_2024_rus.pdf',\n",
       "    'page_number': 17}],\n",
       "  'answer': ''},\n",
       " {'question_id': 155,\n",
       "  'relevant_chunks': [{'document_name': 'aafdf5_2024_cons_rus.pdf',\n",
       "    'page_number': 8}],\n",
       "  'answer': 'нет данных'},\n",
       " {'question_id': 156,\n",
       "  'relevant_chunks': [{'document_name': 'tcibp_2024_rus.pdf',\n",
       "    'page_number': 27}],\n",
       "  'answer': '2025'},\n",
       " {'question_id': 157,\n",
       "  'relevant_chunks': [{'document_name': 'tmjl_2024_rus.pdf',\n",
       "    'page_number': 172}],\n",
       "  'answer': 84},\n",
       " {'question_id': 158,\n",
       "  'relevant_chunks': [{'document_name': 'bastp_2024_rus.pdf',\n",
       "    'page_number': 51}],\n",
       "  'answer': 3},\n",
       " {'question_id': 159,\n",
       "  'relevant_chunks': [{'document_name': 'tmjl_2024_rus.pdf',\n",
       "    'page_number': 207}],\n",
       "  'answer': 0.6},\n",
       " {'question_id': 160,\n",
       "  'relevant_chunks': [{'document_name': 'airap_2024_rus.pdf',\n",
       "    'page_number': 67}],\n",
       "  'answer': 26},\n",
       " {'question_id': 161,\n",
       "  'relevant_chunks': [{'document_name': 'kztkp_2024_rus.pdf',\n",
       "    'page_number': 100}],\n",
       "  'answer': 1968},\n",
       " {'question_id': 162,\n",
       "  'relevant_chunks': [{'document_name': 'bsulp_2024_rus.pdf',\n",
       "    'page_number': 10}],\n",
       "  'answer': 'Алматы'},\n",
       " {'question_id': 163,\n",
       "  'relevant_chunks': [{'document_name': 'tmjl_2024_rus.pdf',\n",
       "    'page_number': 47}],\n",
       "  'answer': 16198.2},\n",
       " {'question_id': 164,\n",
       "  'relevant_chunks': [{'document_name': 'kztkp_2024_rus.pdf',\n",
       "    'page_number': 23}],\n",
       "  'answer': 77},\n",
       " {'question_id': 165,\n",
       "  'relevant_chunks': [{'document_name': 'airap_2024_rus.pdf',\n",
       "    'page_number': 17}],\n",
       "  'answer': 'FlyArystan'},\n",
       " {'question_id': 166,\n",
       "  'relevant_chunks': [{'document_name': 'bastp_2024_rus.pdf',\n",
       "    'page_number': 63}],\n",
       "  'answer': 'не указано'},\n",
       " {'question_id': 167,\n",
       "  'relevant_chunks': [{'document_name': 'oasif6_2024_rus.pdf',\n",
       "    'page_number': 2}],\n",
       "  'answer': 'не указано'},\n",
       " {'question_id': 168,\n",
       "  'relevant_chunks': [{'document_name': 'tmjl_2024_rus.pdf',\n",
       "    'page_number': 37}],\n",
       "  'answer': 26.0},\n",
       " {'question_id': 169,\n",
       "  'relevant_chunks': [{'document_name': 'tmjl_2024_rus.pdf',\n",
       "    'page_number': 1}],\n",
       "  'answer': 'Показатели экологического аспекта'},\n",
       " {'question_id': 170,\n",
       "  'relevant_chunks': [{'document_name': 'rahtp_2024_rus.pdf',\n",
       "    'page_number': 13}],\n",
       "  'answer': 'Да'},\n",
       " {'question_id': 171,\n",
       "  'relevant_chunks': [{'document_name': 'tmjl_2024_rus.pdf',\n",
       "    'page_number': 91}],\n",
       "  'answer': '3,4,5,6,12,13'},\n",
       " {'question_id': 172,\n",
       "  'relevant_chunks': [{'document_name': 'fatn_af_4_2025.pdf',\n",
       "    'page_number': 1}],\n",
       "  'answer': 'Связь не указана'},\n",
       " {'question_id': 173,\n",
       "  'relevant_chunks': [{'document_name': 'fatnp_2024_rus.pdf',\n",
       "    'page_number': 27}],\n",
       "  'answer': 'Ким О.В.'},\n",
       " {'question_id': 174,\n",
       "  'relevant_chunks': [{'document_name': 'fatnp_2024_rus.pdf',\n",
       "    'page_number': 32}],\n",
       "  'answer': ''},\n",
       " {'question_id': 175,\n",
       "  'relevant_chunks': [{'document_name': 'fpstp_2024_rus.pdf',\n",
       "    'page_number': 82}],\n",
       "  'answer': 13589},\n",
       " {'question_id': 176,\n",
       "  'relevant_chunks': [{'document_name': 'bastp_2024_rus.pdf',\n",
       "    'page_number': 10}],\n",
       "  'answer': 'высокая изношенность оборудования и нерентабельность'},\n",
       " {'question_id': 177,\n",
       "  'relevant_chunks': [{'document_name': 'tmjl_2024_rus.pdf',\n",
       "    'page_number': 14}],\n",
       "  'answer': 'KTZ Express'},\n",
       " {'question_id': 178,\n",
       "  'relevant_chunks': [{'document_name': 'kztkp_2024_rus.pdf',\n",
       "    'page_number': 51}],\n",
       "  'answer': 21.45},\n",
       " {'question_id': 179,\n",
       "  'relevant_chunks': [{'document_name': 'tcibp_2024_rus.pdf',\n",
       "    'page_number': 11}],\n",
       "  'answer': 9},\n",
       " {'question_id': 180,\n",
       "  'relevant_chunks': [{'document_name': 'raht_af_4_2025.pdf',\n",
       "    'page_number': 2}],\n",
       "  'answer': 0},\n",
       " {'question_id': 181,\n",
       "  'relevant_chunks': [{'document_name': 'tmjl_2024_rus.pdf',\n",
       "    'page_number': 37}],\n",
       "  'answer': 'Штадлер'},\n",
       " {'question_id': 182,\n",
       "  'relevant_chunks': [{'document_name': 'aafdf5_2024_cons_rus.pdf',\n",
       "    'page_number': 2}],\n",
       "  'answer': ''},\n",
       " {'question_id': 183,\n",
       "  'relevant_chunks': [{'document_name': 'tmjl_af_1_2025.pdf',\n",
       "    'page_number': 37}],\n",
       "  'answer': ''},\n",
       " {'question_id': 184,\n",
       "  'relevant_chunks': [{'document_name': 'tmjl_2024_rus.pdf',\n",
       "    'page_number': 86}],\n",
       "  'answer': 0},\n",
       " {'question_id': 185,\n",
       "  'relevant_chunks': [{'document_name': 'fpstp_2024_rus.pdf',\n",
       "    'page_number': 31}],\n",
       "  'answer': ''},\n",
       " {'question_id': 186,\n",
       "  'relevant_chunks': [{'document_name': 'tmjl_af_1_2025.pdf',\n",
       "    'page_number': 87}],\n",
       "  'answer': ''},\n",
       " {'question_id': 187,\n",
       "  'relevant_chunks': [{'document_name': 'tmjl_2024_rus.pdf',\n",
       "    'page_number': 68}],\n",
       "  'answer': ''},\n",
       " {'question_id': 188,\n",
       "  'relevant_chunks': [{'document_name': 'tcibp_2024_rus.pdf',\n",
       "    'page_number': 19}],\n",
       "  'answer': 26},\n",
       " {'question_id': 189,\n",
       "  'relevant_chunks': [{'document_name': 'tmjl_af_1_2025.pdf',\n",
       "    'page_number': 58}],\n",
       "  'answer': 'Цзян Вэй является аффилированным лицом АО «НК «ҚТЖ» как член Наблюдательного совета ТОО «Актауский международный контейнерный хаб»'},\n",
       " {'question_id': 190,\n",
       "  'relevant_chunks': [{'document_name': 'rahtp_2024_rus.pdf',\n",
       "    'page_number': 4}],\n",
       "  'answer': 0},\n",
       " {'question_id': 191,\n",
       "  'relevant_chunks': [{'document_name': 'airap_2024_rus.pdf',\n",
       "    'page_number': 55}],\n",
       "  'answer': ''},\n",
       " {'question_id': 192,\n",
       "  'relevant_chunks': [{'document_name': 'oasi_af_4_2025.pdf',\n",
       "    'page_number': 5}],\n",
       "  'answer': 1},\n",
       " {'question_id': 193,\n",
       "  'relevant_chunks': [{'document_name': 'tcibp_2024_rus.pdf',\n",
       "    'page_number': 27}],\n",
       "  'answer': ''},\n",
       " {'question_id': 194,\n",
       "  'relevant_chunks': [{'document_name': 'matnp_2024_rus.pdf',\n",
       "    'page_number': 2}],\n",
       "  'answer': 1.28},\n",
       " {'question_id': 195,\n",
       "  'relevant_chunks': [{'document_name': 'matnp_2024_rus.pdf',\n",
       "    'page_number': 81}],\n",
       "  'answer': 5371837.0},\n",
       " {'question_id': 196,\n",
       "  'relevant_chunks': [{'document_name': 'tmjl_2024_rus.pdf',\n",
       "    'page_number': 11}],\n",
       "  'answer': 2.3},\n",
       " {'question_id': 197,\n",
       "  'relevant_chunks': [{'document_name': 'matnp_2024_rus.pdf',\n",
       "    'page_number': 6}],\n",
       "  'answer': 109.17},\n",
       " {'question_id': 198,\n",
       "  'relevant_chunks': [{'document_name': 'bsulp_2024_rus.pdf',\n",
       "    'page_number': 6}],\n",
       "  'answer': 2},\n",
       " {'question_id': 199,\n",
       "  'relevant_chunks': [{'document_name': 'tmjl_2024_rus.pdf',\n",
       "    'page_number': 48}],\n",
       "  'answer': 0},\n",
       " {'question_id': 200,\n",
       "  'relevant_chunks': [{'document_name': 'bsulp_2024_rus.pdf',\n",
       "    'page_number': 31}],\n",
       "  'answer': 5.1}]"
      ]
     },
     "execution_count": 219,
     "metadata": {},
     "output_type": "execute_result"
    }
   ],
   "source": [
    "ans"
   ]
  },
  {
   "cell_type": "code",
   "execution_count": 221,
   "metadata": {},
   "outputs": [],
   "source": [
    "with open(\"our_answers.json\", \"w\", encoding=\"utf-8\") as f:\n",
    "    json.dump(ans, f, ensure_ascii=False, indent=2)"
   ]
  },
  {
   "cell_type": "code",
   "execution_count": null,
   "metadata": {},
   "outputs": [],
   "source": []
  },
  {
   "cell_type": "code",
   "execution_count": null,
   "metadata": {},
   "outputs": [],
   "source": []
  }
 ],
 "metadata": {
  "kernelspec": {
   "display_name": "ragenv",
   "language": "python",
   "name": "python3"
  },
  "language_info": {
   "codemirror_mode": {
    "name": "ipython",
    "version": 3
   },
   "file_extension": ".py",
   "mimetype": "text/x-python",
   "name": "python",
   "nbconvert_exporter": "python",
   "pygments_lexer": "ipython3",
   "version": "3.10.9"
  }
 },
 "nbformat": 4,
 "nbformat_minor": 2
}
